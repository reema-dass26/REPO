{
 "cells": [
  {
   "cell_type": "code",
   "execution_count": 1,
   "id": "a1f483d7-d590-4bef-a084-6d9c774a387c",
   "metadata": {},
   "outputs": [],
   "source": [
    "def flatten_json(y, prefix=''):\n",
    "    out = {}\n",
    "\n",
    "    def recurse(obj, path=''):\n",
    "        if isinstance(obj, dict):\n",
    "            for k, v in obj.items():\n",
    "                recurse(v, f\"{path}.{k}\" if path else k)\n",
    "        elif isinstance(obj, list):\n",
    "            for i, item in enumerate(obj):\n",
    "                recurse(item, f\"{path}[{i}]\")\n",
    "        else:\n",
    "            out[path] = obj\n",
    "\n",
    "    recurse(y, prefix)\n",
    "    return out\n"
   ]
  },
  {
   "cell_type": "code",
   "execution_count": null,
   "id": "f8b39a94-94ab-44a0-9c4d-19bb6751d8fb",
   "metadata": {},
   "outputs": [],
   "source": [
    "import json\n",
    "\n",
    "# Load your JSON file\n",
    "with open(\"MODEL_PROVENANCE/RandomForest_Iris_v20250425_125653/RandomForest_Iris_v20250425_125653_run_summary.json\") as f:\n",
    "    data = json.load(f)\n",
    "\n",
    "# Step 1: Flatten\n",
    "flat = flatten_json(data)"
   ]
  }
 ],
 "metadata": {
  "kernelspec": {
   "display_name": "Python 3 (ipykernel)",
   "language": "python",
   "name": "python3"
  },
  "language_info": {
   "codemirror_mode": {
    "name": "ipython",
    "version": 3
   },
   "file_extension": ".py",
   "mimetype": "text/x-python",
   "name": "python",
   "nbconvert_exporter": "python",
   "pygments_lexer": "ipython3",
   "version": "3.11.5"
  }
 },
 "nbformat": 4,
 "nbformat_minor": 5
}
