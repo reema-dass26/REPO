{
 "cells": [
  {
   "cell_type": "code",
   "execution_count": 2,
   "id": "a7775c10-5e17-4a99-831d-b78731896a4e",
   "metadata": {
    "scrolled": true
   },
   "outputs": [
    {
     "name": "stdout",
     "output_type": "stream",
     "text": [
      "Requirement already satisfied: flask in c:\\users\\reema\\anaconda3\\lib\\site-packages (3.0.3)\n",
      "Collecting flask-ngrok\n",
      "  Obtaining dependency information for flask-ngrok from https://files.pythonhosted.org/packages/af/6c/f54cb686ad1129e27d125d182f90f52b32f284e6c8df58c1bae54fa1adbc/flask_ngrok-0.0.25-py3-none-any.whl.metadata\n",
      "  Downloading flask_ngrok-0.0.25-py3-none-any.whl.metadata (1.8 kB)\n",
      "Requirement already satisfied: Werkzeug>=3.0.0 in c:\\users\\reema\\anaconda3\\lib\\site-packages (from flask) (3.0.6)\n",
      "Requirement already satisfied: Jinja2>=3.1.2 in c:\\users\\reema\\anaconda3\\lib\\site-packages (from flask) (3.1.2)\n",
      "Requirement already satisfied: itsdangerous>=2.1.2 in c:\\users\\reema\\anaconda3\\lib\\site-packages (from flask) (2.2.0)\n",
      "Requirement already satisfied: click>=8.1.3 in c:\\users\\reema\\anaconda3\\lib\\site-packages (from flask) (8.1.8)\n",
      "Requirement already satisfied: blinker>=1.6.2 in c:\\users\\reema\\anaconda3\\lib\\site-packages (from flask) (1.9.0)\n",
      "Requirement already satisfied: requests in c:\\users\\reema\\anaconda3\\lib\\site-packages (from flask-ngrok) (2.31.0)\n",
      "Requirement already satisfied: colorama in c:\\users\\reema\\appdata\\roaming\\python\\python311\\site-packages (from click>=8.1.3->flask) (0.4.6)\n",
      "Requirement already satisfied: MarkupSafe>=2.0 in c:\\users\\reema\\anaconda3\\lib\\site-packages (from Jinja2>=3.1.2->flask) (2.1.1)\n",
      "Requirement already satisfied: charset-normalizer<4,>=2 in c:\\users\\reema\\anaconda3\\lib\\site-packages (from requests->flask-ngrok) (2.0.4)\n",
      "Requirement already satisfied: idna<4,>=2.5 in c:\\users\\reema\\anaconda3\\lib\\site-packages (from requests->flask-ngrok) (3.4)\n",
      "Requirement already satisfied: urllib3<3,>=1.21.1 in c:\\users\\reema\\anaconda3\\lib\\site-packages (from requests->flask-ngrok) (1.26.16)\n",
      "Requirement already satisfied: certifi>=2017.4.17 in c:\\users\\reema\\anaconda3\\lib\\site-packages (from requests->flask-ngrok) (2023.7.22)\n",
      "Downloading flask_ngrok-0.0.25-py3-none-any.whl (3.1 kB)\n",
      "Installing collected packages: flask-ngrok\n",
      "Successfully installed flask-ngrok-0.0.25\n"
     ]
    },
    {
     "name": "stderr",
     "output_type": "stream",
     "text": [
      "WARNING: There was an error checking the latest version of pip.\n"
     ]
    }
   ],
   "source": [
    "!pip install flask flask-ngrok\n"
   ]
  },
  {
   "cell_type": "code",
   "execution_count": 6,
   "id": "4bc32512-4faf-401d-ad13-505e8e571b0f",
   "metadata": {
    "scrolled": true
   },
   "outputs": [
    {
     "data": {
      "text/plain": [
       "['run_id',\n",
       " 'param_bootstrap',\n",
       " 'param_ccp_alpha',\n",
       " 'param_class_weight',\n",
       " 'param_columns_raw',\n",
       " 'param_criterion',\n",
       " 'param_database.description',\n",
       " 'param_database.id',\n",
       " 'param_database.name',\n",
       " 'param_database.owner',\n",
       " 'param_dataset.authors',\n",
       " 'param_dataset.doi',\n",
       " 'param_dataset.published',\n",
       " 'param_dataset.publisher',\n",
       " 'param_dataset.title',\n",
       " 'param_dropped_columns',\n",
       " 'param_feature_names',\n",
       " 'param_matplotlib_version',\n",
       " 'param_max_depth',\n",
       " 'param_max_features',\n",
       " 'param_max_leaf_nodes',\n",
       " 'param_max_samples',\n",
       " 'param_min_impurity_decrease',\n",
       " 'param_min_samples_leaf',\n",
       " 'param_min_samples_split',\n",
       " 'param_min_weight_fraction_leaf',\n",
       " 'param_numpy_version',\n",
       " 'param_n_estimators',\n",
       " 'param_n_features',\n",
       " 'param_n_features_final',\n",
       " 'param_n_jobs',\n",
       " 'param_n_records',\n",
       " 'param_n_test_samples',\n",
       " 'param_n_train_samples',\n",
       " 'param_oob_score',\n",
       " 'param_os_platform',\n",
       " 'param_pandas_version',\n",
       " 'param_python_version',\n",
       " 'param_random_state',\n",
       " 'param_retrieval_time',\n",
       " 'param_seaborn_version',\n",
       " 'param_shap_version',\n",
       " 'param_sklearn_version',\n",
       " 'param_test_size',\n",
       " 'param_verbose',\n",
       " 'param_warm_start',\n",
       " 'metric_accuracy',\n",
       " 'metric_accuracy_score_X_test',\n",
       " 'metric_dbrepo.num_deletes',\n",
       " 'metric_dbrepo.num_inserts',\n",
       " 'metric_dbrepo.row_count_end',\n",
       " 'metric_dbrepo.row_count_start',\n",
       " 'metric_f1_macro',\n",
       " 'metric_f1_score_X_test',\n",
       " 'metric_precision_macro',\n",
       " 'metric_precision_score_X_test',\n",
       " 'metric_recall_macro',\n",
       " 'metric_recall_score_X_test',\n",
       " 'metric_roc_auc',\n",
       " 'metric_roc_auc_score_X_test',\n",
       " 'metric_training_accuracy_score',\n",
       " 'metric_training_f1_score',\n",
       " 'metric_training_log_loss',\n",
       " 'metric_training_precision_score',\n",
       " 'metric_training_recall_score',\n",
       " 'metric_training_roc_auc',\n",
       " 'metric_training_score',\n",
       " 'tag_dataset_id',\n",
       " 'tag_dataset_name',\n",
       " 'tag_dataset_version',\n",
       " 'tag_data_source',\n",
       " 'tag_dbrepo.admin_email',\n",
       " 'tag_dbrepo.base_url',\n",
       " 'tag_dbrepo.granularity',\n",
       " 'tag_dbrepo.protocol_version',\n",
       " 'tag_dbrepo.repository_name',\n",
       " 'tag_dbrepo.table_last_modified',\n",
       " 'tag_estimator_class',\n",
       " 'tag_estimator_name',\n",
       " 'tag_git_current_commit_hash',\n",
       " 'tag_git_previous_commit_hash',\n",
       " 'tag_git__current_commit_url',\n",
       " 'tag_mlflow.log-model.history',\n",
       " 'tag_mlflow.runName',\n",
       " 'tag_mlflow.source.name',\n",
       " 'tag_mlflow.source.type',\n",
       " 'tag_mlflow.user',\n",
       " 'tag_model_name',\n",
       " 'tag_notebook_name',\n",
       " 'tag_target_name',\n",
       " 'tag_training_end_time',\n",
       " 'tag_training_start_time']"
      ]
     },
     "execution_count": 6,
     "metadata": {},
     "output_type": "execute_result"
    }
   ],
   "source": [
    "import pandas as pd\n",
    "import glob\n",
    "import json\n",
    "\n",
    "# Use a single file path\n",
    "file_path = \"updated_metadata.json\"  # <-- update filename\n",
    "\n",
    "rows = []\n",
    "\n",
    "# Load and flatten the JSON data\n",
    "with open(file_path, \"r\") as fh:\n",
    "    summary = json.load(fh)\n",
    "\n",
    "    row = {\"run_id\": summary.get(\"run_id\")}\n",
    "    row.update({f\"param_{k}\": v for k, v in summary.get(\"params\", {}).items()})\n",
    "    row.update({f\"metric_{k}\": v for k, v in summary.get(\"metrics\", {}).items()})\n",
    "    row.update({f\"tag_{k}\": v for k, v in summary.get(\"tags\", {}).items()})\n",
    "    rows.append(row)\n",
    "\n",
    "# Create and display the DataFrame\n",
    "df = pd.DataFrame(rows)\n",
    "df.columns.to_list()"
   ]
  },
  {
   "cell_type": "code",
   "execution_count": 8,
   "id": "a5924481-4d6d-49cb-bdf0-04dc08805260",
   "metadata": {},
   "outputs": [
    {
     "name": "stdout",
     "output_type": "stream",
     "text": [
      "Collecting streamlit\n",
      "  Obtaining dependency information for streamlit from https://files.pythonhosted.org/packages/eb/17/fc425e1d4d86e31b2aaf0812a2ef2163763a0670d671720c7c36e8679323/streamlit-1.44.1-py3-none-any.whl.metadata\n",
      "  Downloading streamlit-1.44.1-py3-none-any.whl.metadata (8.9 kB)\n",
      "Collecting altair<6,>=4.0 (from streamlit)\n",
      "  Obtaining dependency information for altair<6,>=4.0 from https://files.pythonhosted.org/packages/aa/f3/0b6ced594e51cc95d8c1fc1640d3623770d01e4969d29c0bd09945fafefa/altair-5.5.0-py3-none-any.whl.metadata\n",
      "  Downloading altair-5.5.0-py3-none-any.whl.metadata (11 kB)\n",
      "Requirement already satisfied: blinker<2,>=1.0.0 in c:\\users\\reema\\anaconda3\\lib\\site-packages (from streamlit) (1.9.0)\n",
      "Requirement already satisfied: cachetools<6,>=4.0 in c:\\users\\reema\\anaconda3\\lib\\site-packages (from streamlit) (5.5.2)\n",
      "Requirement already satisfied: click<9,>=7.0 in c:\\users\\reema\\anaconda3\\lib\\site-packages (from streamlit) (8.1.8)\n",
      "Requirement already satisfied: numpy<3,>=1.23 in c:\\users\\reema\\anaconda3\\lib\\site-packages (from streamlit) (1.24.4)\n",
      "Requirement already satisfied: packaging<25,>=20 in c:\\users\\reema\\anaconda3\\lib\\site-packages (from streamlit) (23.1)\n",
      "Requirement already satisfied: pandas<3,>=1.4.0 in c:\\users\\reema\\anaconda3\\lib\\site-packages (from streamlit) (2.2.3)\n",
      "Requirement already satisfied: pillow<12,>=7.1.0 in c:\\users\\reema\\anaconda3\\lib\\site-packages (from streamlit) (9.4.0)\n",
      "Requirement already satisfied: protobuf<6,>=3.20 in c:\\users\\reema\\anaconda3\\lib\\site-packages (from streamlit) (5.29.3)\n",
      "Requirement already satisfied: pyarrow>=7.0 in c:\\users\\reema\\anaconda3\\lib\\site-packages (from streamlit) (11.0.0)\n",
      "Requirement already satisfied: requests<3,>=2.27 in c:\\users\\reema\\anaconda3\\lib\\site-packages (from streamlit) (2.31.0)\n",
      "Requirement already satisfied: tenacity<10,>=8.1.0 in c:\\users\\reema\\anaconda3\\lib\\site-packages (from streamlit) (8.2.2)\n",
      "Requirement already satisfied: toml<2,>=0.10.1 in c:\\users\\reema\\anaconda3\\lib\\site-packages (from streamlit) (0.10.2)\n",
      "Requirement already satisfied: typing-extensions<5,>=4.4.0 in c:\\users\\reema\\anaconda3\\lib\\site-packages (from streamlit) (4.12.2)\n",
      "Requirement already satisfied: watchdog<7,>=2.1.5 in c:\\users\\reema\\anaconda3\\lib\\site-packages (from streamlit) (2.1.6)\n",
      "Requirement already satisfied: gitpython!=3.1.19,<4,>=3.0.7 in c:\\users\\reema\\anaconda3\\lib\\site-packages (from streamlit) (3.1.43)\n",
      "Collecting pydeck<1,>=0.8.0b4 (from streamlit)\n",
      "  Obtaining dependency information for pydeck<1,>=0.8.0b4 from https://files.pythonhosted.org/packages/ab/4c/b888e6cf58bd9db9c93f40d1c6be8283ff49d88919231afe93a6bcf61626/pydeck-0.9.1-py2.py3-none-any.whl.metadata\n",
      "  Downloading pydeck-0.9.1-py2.py3-none-any.whl.metadata (4.1 kB)\n",
      "Requirement already satisfied: tornado<7,>=6.0.3 in c:\\users\\reema\\appdata\\roaming\\python\\python311\\site-packages (from streamlit) (6.3.2)\n",
      "Requirement already satisfied: jinja2 in c:\\users\\reema\\anaconda3\\lib\\site-packages (from altair<6,>=4.0->streamlit) (3.1.2)\n",
      "Requirement already satisfied: jsonschema>=3.0 in c:\\users\\reema\\anaconda3\\lib\\site-packages (from altair<6,>=4.0->streamlit) (4.23.0)\n",
      "Requirement already satisfied: narwhals>=1.14.2 in c:\\users\\reema\\anaconda3\\lib\\site-packages (from altair<6,>=4.0->streamlit) (1.30.0)\n",
      "Requirement already satisfied: colorama in c:\\users\\reema\\appdata\\roaming\\python\\python311\\site-packages (from click<9,>=7.0->streamlit) (0.4.6)\n",
      "Requirement already satisfied: gitdb<5,>=4.0.1 in c:\\users\\reema\\anaconda3\\lib\\site-packages (from gitpython!=3.1.19,<4,>=3.0.7->streamlit) (4.0.11)\n",
      "Requirement already satisfied: python-dateutil>=2.8.2 in c:\\users\\reema\\anaconda3\\lib\\site-packages (from pandas<3,>=1.4.0->streamlit) (2.9.0.post0)\n",
      "Requirement already satisfied: pytz>=2020.1 in c:\\users\\reema\\anaconda3\\lib\\site-packages (from pandas<3,>=1.4.0->streamlit) (2025.2)\n",
      "Requirement already satisfied: tzdata>=2022.7 in c:\\users\\reema\\anaconda3\\lib\\site-packages (from pandas<3,>=1.4.0->streamlit) (2025.2)\n",
      "Requirement already satisfied: charset-normalizer<4,>=2 in c:\\users\\reema\\anaconda3\\lib\\site-packages (from requests<3,>=2.27->streamlit) (2.0.4)\n",
      "Requirement already satisfied: idna<4,>=2.5 in c:\\users\\reema\\anaconda3\\lib\\site-packages (from requests<3,>=2.27->streamlit) (3.4)\n",
      "Requirement already satisfied: urllib3<3,>=1.21.1 in c:\\users\\reema\\anaconda3\\lib\\site-packages (from requests<3,>=2.27->streamlit) (1.26.16)\n",
      "Requirement already satisfied: certifi>=2017.4.17 in c:\\users\\reema\\anaconda3\\lib\\site-packages (from requests<3,>=2.27->streamlit) (2023.7.22)\n",
      "Requirement already satisfied: smmap<6,>=3.0.1 in c:\\users\\reema\\anaconda3\\lib\\site-packages (from gitdb<5,>=4.0.1->gitpython!=3.1.19,<4,>=3.0.7->streamlit) (5.0.1)\n",
      "Requirement already satisfied: MarkupSafe>=2.0 in c:\\users\\reema\\anaconda3\\lib\\site-packages (from jinja2->altair<6,>=4.0->streamlit) (2.1.1)\n",
      "Requirement already satisfied: attrs>=22.2.0 in c:\\users\\reema\\anaconda3\\lib\\site-packages (from jsonschema>=3.0->altair<6,>=4.0->streamlit) (23.2.0)\n",
      "Requirement already satisfied: jsonschema-specifications>=2023.03.6 in c:\\users\\reema\\anaconda3\\lib\\site-packages (from jsonschema>=3.0->altair<6,>=4.0->streamlit) (2024.10.1)\n",
      "Requirement already satisfied: referencing>=0.28.4 in c:\\users\\reema\\anaconda3\\lib\\site-packages (from jsonschema>=3.0->altair<6,>=4.0->streamlit) (0.35.1)\n",
      "Requirement already satisfied: rpds-py>=0.7.1 in c:\\users\\reema\\anaconda3\\lib\\site-packages (from jsonschema>=3.0->altair<6,>=4.0->streamlit) (0.22.3)\n",
      "Requirement already satisfied: six>=1.5 in c:\\users\\reema\\anaconda3\\lib\\site-packages (from python-dateutil>=2.8.2->pandas<3,>=1.4.0->streamlit) (1.17.0)\n",
      "Downloading streamlit-1.44.1-py3-none-any.whl (9.8 MB)\n",
      "   ---------------------------------------- 0.0/9.8 MB ? eta -:--:--\n",
      "    --------------------------------------- 0.2/9.8 MB 4.6 MB/s eta 0:00:03\n",
      "   -- ------------------------------------- 0.7/9.8 MB 7.4 MB/s eta 0:00:02\n",
      "   ----- ---------------------------------- 1.4/9.8 MB 9.9 MB/s eta 0:00:01\n",
      "   ------- -------------------------------- 1.9/9.8 MB 11.3 MB/s eta 0:00:01\n",
      "   ---------- ----------------------------- 2.6/9.8 MB 12.1 MB/s eta 0:00:01\n",
      "   ------------- -------------------------- 3.3/9.8 MB 12.5 MB/s eta 0:00:01\n",
      "   ---------------- ----------------------- 4.0/9.8 MB 12.8 MB/s eta 0:00:01\n",
      "   ------------------ --------------------- 4.6/9.8 MB 12.8 MB/s eta 0:00:01\n",
      "   --------------------- ------------------ 5.3/9.8 MB 13.1 MB/s eta 0:00:01\n",
      "   ------------------------ --------------- 6.0/9.8 MB 13.2 MB/s eta 0:00:01\n",
      "   --------------------------- ------------ 6.7/9.8 MB 13.4 MB/s eta 0:00:01\n",
      "   ----------------------------- ---------- 7.3/9.8 MB 13.3 MB/s eta 0:00:01\n",
      "   -------------------------------- ------- 8.1/9.8 MB 13.6 MB/s eta 0:00:01\n",
      "   ---------------------------------- ----- 8.6/9.8 MB 13.7 MB/s eta 0:00:01\n",
      "   ------------------------------------- -- 9.2/9.8 MB 13.3 MB/s eta 0:00:01\n",
      "   ---------------------------------------  9.8/9.8 MB 13.6 MB/s eta 0:00:01\n",
      "   ---------------------------------------- 9.8/9.8 MB 12.6 MB/s eta 0:00:00\n",
      "Downloading altair-5.5.0-py3-none-any.whl (731 kB)\n",
      "   ---------------------------------------- 0.0/731.2 kB ? eta -:--:--\n",
      "   ----------------------------------- --- 665.6/731.2 kB 14.2 MB/s eta 0:00:01\n",
      "   --------------------------------------- 731.2/731.2 kB 11.6 MB/s eta 0:00:00\n",
      "Downloading pydeck-0.9.1-py2.py3-none-any.whl (6.9 MB)\n",
      "   ---------------------------------------- 0.0/6.9 MB ? eta -:--:--\n",
      "   --- ------------------------------------ 0.6/6.9 MB 13.5 MB/s eta 0:00:01\n",
      "   ------- -------------------------------- 1.4/6.9 MB 17.2 MB/s eta 0:00:01\n",
      "   ----------- ---------------------------- 2.0/6.9 MB 15.6 MB/s eta 0:00:01\n",
      "   ------------- -------------------------- 2.4/6.9 MB 13.9 MB/s eta 0:00:01\n",
      "   ---------------- ----------------------- 2.8/6.9 MB 12.6 MB/s eta 0:00:01\n",
      "   ------------------ --------------------- 3.2/6.9 MB 12.0 MB/s eta 0:00:01\n",
      "   ---------------------- ----------------- 3.9/6.9 MB 12.6 MB/s eta 0:00:01\n",
      "   ------------------------- -------------- 4.5/6.9 MB 12.4 MB/s eta 0:00:01\n",
      "   -------------------------- ------------- 4.6/6.9 MB 11.4 MB/s eta 0:00:01\n",
      "   --------------------------- ------------ 4.8/6.9 MB 10.6 MB/s eta 0:00:01\n",
      "   ----------------------------- ---------- 5.0/6.9 MB 10.1 MB/s eta 0:00:01\n",
      "   ------------------------------ --------- 5.2/6.9 MB 9.5 MB/s eta 0:00:01\n",
      "   ------------------------------- -------- 5.5/6.9 MB 9.3 MB/s eta 0:00:01\n",
      "   --------------------------------- ------ 5.7/6.9 MB 8.9 MB/s eta 0:00:01\n",
      "   ---------------------------------- ----- 6.0/6.9 MB 8.7 MB/s eta 0:00:01\n",
      "   -------------------------------------- - 6.6/6.9 MB 8.9 MB/s eta 0:00:01\n",
      "   ---------------------------------------  6.9/6.9 MB 9.0 MB/s eta 0:00:01\n",
      "   ---------------------------------------- 6.9/6.9 MB 8.6 MB/s eta 0:00:00\n",
      "Installing collected packages: pydeck, altair, streamlit\n",
      "Successfully installed altair-5.5.0 pydeck-0.9.1 streamlit-1.44.1\n"
     ]
    },
    {
     "name": "stderr",
     "output_type": "stream",
     "text": [
      "WARNING: There was an error checking the latest version of pip.\n"
     ]
    }
   ],
   "source": [
    "!pip install streamlit\n"
   ]
  },
  {
   "cell_type": "code",
   "execution_count": 9,
   "id": "ae3bbfbe-cf32-4436-8b68-8c30b5588cbb",
   "metadata": {},
   "outputs": [
    {
     "ename": "SyntaxError",
     "evalue": "invalid syntax (2285487456.py, line 1)",
     "output_type": "error",
     "traceback": [
      "\u001b[1;36m  Cell \u001b[1;32mIn[9], line 1\u001b[1;36m\u001b[0m\n\u001b[1;33m    streamlit run vizualization.py\u001b[0m\n\u001b[1;37m              ^\u001b[0m\n\u001b[1;31mSyntaxError\u001b[0m\u001b[1;31m:\u001b[0m invalid syntax\n"
     ]
    }
   ],
   "source": [
    "streamlit run vizualization.py\n"
   ]
  },
  {
   "cell_type": "code",
   "execution_count": null,
   "id": "b379083d-146e-4d73-845d-2e11287fc469",
   "metadata": {},
   "outputs": [],
   "source": []
  }
 ],
 "metadata": {
  "kernelspec": {
   "display_name": "Python 3 (ipykernel)",
   "language": "python",
   "name": "python3"
  },
  "language_info": {
   "codemirror_mode": {
    "name": "ipython",
    "version": 3
   },
   "file_extension": ".py",
   "mimetype": "text/x-python",
   "name": "python",
   "nbconvert_exporter": "python",
   "pygments_lexer": "ipython3",
   "version": "3.11.5"
  }
 },
 "nbformat": 4,
 "nbformat_minor": 5
}
