{
 "cells": [
  {
   "cell_type": "code",
   "execution_count": 1,
   "id": "424c1669-2eb2-4f68-bc88-9c16a503b4b5",
   "metadata": {},
   "outputs": [
    {
     "name": "stdout",
     "output_type": "stream",
     "text": [
      "Collecting pyld\n",
      "  Obtaining dependency information for pyld from https://files.pythonhosted.org/packages/44/cd/80760be197a4bd08e7c136ef4bcb4a2c63fc799d8d91f4c177b21183135e/PyLD-2.0.4-py3-none-any.whl.metadata\n",
      "  Downloading PyLD-2.0.4-py3-none-any.whl.metadata (10.0 kB)\n",
      "Requirement already satisfied: cachetools in c:\\users\\reema\\anaconda3\\lib\\site-packages (from pyld) (5.5.2)\n",
      "Collecting frozendict (from pyld)\n",
      "  Obtaining dependency information for frozendict from https://files.pythonhosted.org/packages/04/13/d9839089b900fa7b479cce495d62110cddc4bd5630a04d8469916c0e79c5/frozendict-2.4.6-py311-none-any.whl.metadata\n",
      "  Downloading frozendict-2.4.6-py311-none-any.whl.metadata (23 kB)\n",
      "Requirement already satisfied: lxml in c:\\users\\reema\\anaconda3\\lib\\site-packages (from pyld) (4.9.3)\n",
      "Downloading PyLD-2.0.4-py3-none-any.whl (70 kB)\n",
      "   ---------------------------------------- 0.0/70.9 kB ? eta -:--:--\n",
      "   ---------------------------------------- 70.9/70.9 kB 4.0 MB/s eta 0:00:00\n",
      "Downloading frozendict-2.4.6-py311-none-any.whl (16 kB)\n",
      "Installing collected packages: frozendict, pyld\n",
      "Successfully installed frozendict-2.4.6 pyld-2.0.4\n"
     ]
    },
    {
     "name": "stderr",
     "output_type": "stream",
     "text": [
      "WARNING: There was an error checking the latest version of pip.\n"
     ]
    }
   ],
   "source": [
    "!pip install pyld"
   ]
  },
  {
   "cell_type": "code",
   "execution_count": 3,
   "id": "c178da94-5d2f-4910-bac0-5d58bd153439",
   "metadata": {},
   "outputs": [
    {
     "name": "stdout",
     "output_type": "stream",
     "text": [
      "RDF (N-Quads):\n",
      "\n",
      "<http://example.org/e938766dbc154dc5aa391d08f7047b88> <http://example.org/ML_EXP_experiment_id> \"449688991838162904\" .\n",
      "<http://example.org/e938766dbc154dc5aa391d08f7047b88> <http://example.org/ML_EXP_params> _:b0 .\n",
      "<http://example.org/e938766dbc154dc5aa391d08f7047b88> <http://example.org/ML_EXP_run_id> \"e938766dbc154dc5aa391d08f7047b88\" .\n",
      "<http://example.org/e938766dbc154dc5aa391d08f7047b88> <http://example.org/ML_EXP_run_name> \"gentle-crow-640\" .\n",
      "<http://example.org/e938766dbc154dc5aa391d08f7047b88> <http://www.w3.org/1999/02/22-rdf-syntax-ns#type> <http://www.w3.org/ns/prov#Activity> .\n",
      "<http://example.org/e938766dbc154dc5aa391d08f7047b88> <http://www.w3.org/ns/prov#startedAtTime> \"2025-05-07T21:31:47Z\"^^<http://www.w3.org/2001/XMLSchema#dateTime> .\n",
      "<http://example.org/e938766dbc154dc5aa391d08f7047b88> <http://www.w3.org/ns/prov#wasAssociatedWith> <http://example.org/reema> .\n",
      "\n"
     ]
    }
   ],
   "source": [
    "import json\n",
    "from pyld import jsonld\n",
    "\n",
    "# Step 1: Define context using PROV-O\n",
    "context = {\n",
    "    \"@context\": {\n",
    "        \"prov\": \"http://www.w3.org/ns/prov#\",\n",
    "        \"ex\": \"http://example.org/\",\n",
    "        \"xsd\": \"http://www.w3.org/2001/XMLSchema#\",\n",
    "        \"run_id\": \"ex:ML_EXP_run_id\",\n",
    "        \"run_name\": \"ex:ML_EXP_run_name\",\n",
    "        \"experiment_id\": \"ex:ML_EXP_experiment_id\",\n",
    "        \"start_time\": {\n",
    "            \"@id\": \"prov:startedAtTime\",\n",
    "            \"@type\": \"xsd:dateTime\"\n",
    "        },\n",
    "        \"agent\": {\n",
    "            \"@id\": \"prov:wasAssociatedWith\",\n",
    "            \"@type\": \"@id\"\n",
    "        },\n",
    "        \"params\": \"ex:ML_EXP_params\"\n",
    "    }\n",
    "}\n",
    "\n",
    "# Step 2: Load original metadata\n",
    "with open('ml_experiment.json') as f:\n",
    "    raw = json.load(f)\n",
    "\n",
    "# Step 3: Wrap it in JSON-LD format\n",
    "jsonld_input = {\n",
    "    \"@context\": context[\"@context\"],\n",
    "    \"@id\": f\"ex:{raw['ML_EXP_run_id']}\",\n",
    "    \"@type\": \"prov:Activity\",\n",
    "    \"run_id\": raw[\"ML_EXP_run_id\"],\n",
    "    \"run_name\": raw[\"ML_EXP_run_name\"],\n",
    "    \"experiment_id\": raw[\"ML_EXP_experiment_id\"],\n",
    "    \"start_time\": raw[\"ML_EXP_start_time\"],\n",
    "    \"agent\": f\"ex:{raw['SESSION_username']}\",\n",
    "    \"params\": raw[\"ML_EXP_params\"]\n",
    "}\n",
    "\n",
    "# Step 4: Expand and convert to RDF\n",
    "expanded = jsonld.expand(jsonld_input)\n",
    "nquads = jsonld.to_rdf(expanded, options={'format': 'application/n-quads'})\n",
    "\n",
    "# Step 5: Output RDF\n",
    "print(\"RDF (N-Quads):\\n\")\n",
    "print(nquads)\n"
   ]
  },
  {
   "cell_type": "code",
   "execution_count": 4,
   "id": "51a79714-fc4d-409c-b501-e39a1131331a",
   "metadata": {},
   "outputs": [
    {
     "data": {
      "text/plain": [
       "[{'@id': 'http://example.org/e938766dbc154dc5aa391d08f7047b88',\n",
       "  '@type': ['http://www.w3.org/ns/prov#Activity'],\n",
       "  'http://www.w3.org/ns/prov#wasAssociatedWith': [{'@id': 'http://example.org/reema'}],\n",
       "  'http://example.org/ML_EXP_experiment_id': [{'@value': '449688991838162904'}],\n",
       "  'http://example.org/ML_EXP_params': [{}],\n",
       "  'http://example.org/ML_EXP_run_id': [{'@value': 'e938766dbc154dc5aa391d08f7047b88'}],\n",
       "  'http://example.org/ML_EXP_run_name': [{'@value': 'gentle-crow-640'}],\n",
       "  'http://www.w3.org/ns/prov#startedAtTime': [{'@type': 'http://www.w3.org/2001/XMLSchema#dateTime',\n",
       "    '@value': '2025-05-07T21:31:47Z'}]}]"
      ]
     },
     "execution_count": 4,
     "metadata": {},
     "output_type": "execute_result"
    }
   ],
   "source": [
    "expanded"
   ]
  },
  {
   "cell_type": "code",
   "execution_count": null,
   "id": "1ffdbd1c-3ee9-4dca-995a-a65a82548d53",
   "metadata": {},
   "outputs": [],
   "source": []
  },
  {
   "cell_type": "code",
   "execution_count": null,
   "id": "c9a53752-d948-4d89-af97-9caa11301058",
   "metadata": {},
   "outputs": [],
   "source": []
  },
  {
   "cell_type": "code",
   "execution_count": null,
   "id": "ba3374b3-42f9-4d10-b161-75af7624e315",
   "metadata": {},
   "outputs": [],
   "source": []
  },
  {
   "cell_type": "code",
   "execution_count": null,
   "id": "634963d6-1542-43ba-9243-4674aaeafe68",
   "metadata": {},
   "outputs": [],
   "source": []
  },
  {
   "cell_type": "code",
   "execution_count": null,
   "id": "6aafa1d2-152f-470f-982c-8f2857c7193b",
   "metadata": {},
   "outputs": [],
   "source": []
  }
 ],
 "metadata": {
  "kernelspec": {
   "display_name": "Python 3 (ipykernel)",
   "language": "python",
   "name": "python3"
  },
  "language_info": {
   "codemirror_mode": {
    "name": "ipython",
    "version": 3
   },
   "file_extension": ".py",
   "mimetype": "text/x-python",
   "name": "python",
   "nbconvert_exporter": "python",
   "pygments_lexer": "ipython3",
   "version": "3.11.5"
  }
 },
 "nbformat": 4,
 "nbformat_minor": 5
}
