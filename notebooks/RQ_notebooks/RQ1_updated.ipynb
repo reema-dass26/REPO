{
 "cells": [
  {
   "cell_type": "code",
   "execution_count": 1,
   "id": "46f00853-206c-4fd1-b627-38115ae95a0f",
   "metadata": {
    "scrolled": true
   },
   "outputs": [
    {
     "name": "stdout",
     "output_type": "stream",
     "text": [
      "Requirement already satisfied: mlflow in c:\\users\\reema\\anaconda3\\lib\\site-packages (2.21.2)\n",
      "Requirement already satisfied: scikit-learn in c:\\users\\reema\\anaconda3\\lib\\site-packages (1.3.0)\n",
      "Requirement already satisfied: pandas in c:\\users\\reema\\anaconda3\\lib\\site-packages (2.2.3)\n",
      "Requirement already satisfied: numpy in c:\\users\\reema\\anaconda3\\lib\\site-packages (1.24.4)\n",
      "Requirement already satisfied: matplotlib in c:\\users\\reema\\anaconda3\\lib\\site-packages (3.7.2)\n",
      "Requirement already satisfied: seaborn in c:\\users\\reema\\anaconda3\\lib\\site-packages (0.12.2)\n",
      "Requirement already satisfied: shap in c:\\users\\reema\\anaconda3\\lib\\site-packages (0.47.1)\n",
      "Requirement already satisfied: requests in c:\\users\\reema\\anaconda3\\lib\\site-packages (2.31.0)\n",
      "Requirement already satisfied: mlflow-skinny==2.21.2 in c:\\users\\reema\\anaconda3\\lib\\site-packages (from mlflow) (2.21.2)\n",
      "Requirement already satisfied: Flask<4 in c:\\users\\reema\\anaconda3\\lib\\site-packages (from mlflow) (3.0.3)\n",
      "Requirement already satisfied: Jinja2<4,>=3.0 in c:\\users\\reema\\anaconda3\\lib\\site-packages (from mlflow) (3.1.2)\n",
      "Requirement already satisfied: alembic!=1.10.0,<2 in c:\\users\\reema\\anaconda3\\lib\\site-packages (from mlflow) (1.14.0)\n",
      "Requirement already satisfied: docker<8,>=4.0.0 in c:\\users\\reema\\anaconda3\\lib\\site-packages (from mlflow) (7.1.0)\n",
      "Requirement already satisfied: graphene<4 in c:\\users\\reema\\anaconda3\\lib\\site-packages (from mlflow) (3.4.3)\n",
      "Requirement already satisfied: markdown<4,>=3.3 in c:\\users\\reema\\anaconda3\\lib\\site-packages (from mlflow) (3.7)\n",
      "Requirement already satisfied: pyarrow<20,>=4.0.0 in c:\\users\\reema\\anaconda3\\lib\\site-packages (from mlflow) (11.0.0)\n",
      "Requirement already satisfied: scipy<2 in c:\\users\\reema\\anaconda3\\lib\\site-packages (from mlflow) (1.11.1)\n",
      "Requirement already satisfied: sqlalchemy<3,>=1.4.0 in c:\\users\\reema\\anaconda3\\lib\\site-packages (from mlflow) (2.0.37)\n",
      "Requirement already satisfied: waitress<4 in c:\\users\\reema\\anaconda3\\lib\\site-packages (from mlflow) (3.0.2)\n",
      "Requirement already satisfied: cachetools<6,>=5.0.0 in c:\\users\\reema\\anaconda3\\lib\\site-packages (from mlflow-skinny==2.21.2->mlflow) (5.5.2)\n",
      "Requirement already satisfied: click<9,>=7.0 in c:\\users\\reema\\anaconda3\\lib\\site-packages (from mlflow-skinny==2.21.2->mlflow) (8.1.8)\n",
      "Requirement already satisfied: cloudpickle<4 in c:\\users\\reema\\anaconda3\\lib\\site-packages (from mlflow-skinny==2.21.2->mlflow) (2.2.1)\n",
      "Requirement already satisfied: databricks-sdk<1,>=0.20.0 in c:\\users\\reema\\anaconda3\\lib\\site-packages (from mlflow-skinny==2.21.2->mlflow) (0.45.0)\n",
      "Requirement already satisfied: fastapi<1 in c:\\users\\reema\\anaconda3\\lib\\site-packages (from mlflow-skinny==2.21.2->mlflow) (0.115.12)\n",
      "Requirement already satisfied: gitpython<4,>=3.1.9 in c:\\users\\reema\\anaconda3\\lib\\site-packages (from mlflow-skinny==2.21.2->mlflow) (3.1.43)\n",
      "Requirement already satisfied: importlib_metadata!=4.7.0,<9,>=3.7.0 in c:\\users\\reema\\anaconda3\\lib\\site-packages (from mlflow-skinny==2.21.2->mlflow) (6.0.0)\n",
      "Requirement already satisfied: opentelemetry-api<3,>=1.9.0 in c:\\users\\reema\\anaconda3\\lib\\site-packages (from mlflow-skinny==2.21.2->mlflow) (1.30.0)\n",
      "Requirement already satisfied: opentelemetry-sdk<3,>=1.9.0 in c:\\users\\reema\\anaconda3\\lib\\site-packages (from mlflow-skinny==2.21.2->mlflow) (1.30.0)\n",
      "Requirement already satisfied: packaging<25 in c:\\users\\reema\\anaconda3\\lib\\site-packages (from mlflow-skinny==2.21.2->mlflow) (23.1)\n",
      "Requirement already satisfied: protobuf<6,>=3.12.0 in c:\\users\\reema\\anaconda3\\lib\\site-packages (from mlflow-skinny==2.21.2->mlflow) (5.29.3)\n",
      "Requirement already satisfied: pydantic<3,>=1.10.8 in c:\\users\\reema\\anaconda3\\lib\\site-packages (from mlflow-skinny==2.21.2->mlflow) (2.10.3)\n",
      "Requirement already satisfied: pyyaml<7,>=5.1 in c:\\users\\reema\\anaconda3\\lib\\site-packages (from mlflow-skinny==2.21.2->mlflow) (6.0)\n",
      "Requirement already satisfied: sqlparse<1,>=0.4.0 in c:\\users\\reema\\anaconda3\\lib\\site-packages (from mlflow-skinny==2.21.2->mlflow) (0.5.3)\n",
      "Requirement already satisfied: typing-extensions<5,>=4.0.0 in c:\\users\\reema\\anaconda3\\lib\\site-packages (from mlflow-skinny==2.21.2->mlflow) (4.12.2)\n",
      "Requirement already satisfied: uvicorn<1 in c:\\users\\reema\\anaconda3\\lib\\site-packages (from mlflow-skinny==2.21.2->mlflow) (0.34.0)\n",
      "Requirement already satisfied: joblib>=1.1.1 in c:\\users\\reema\\anaconda3\\lib\\site-packages (from scikit-learn) (1.2.0)\n",
      "Requirement already satisfied: threadpoolctl>=2.0.0 in c:\\users\\reema\\anaconda3\\lib\\site-packages (from scikit-learn) (2.2.0)\n",
      "Requirement already satisfied: python-dateutil>=2.8.2 in c:\\users\\reema\\anaconda3\\lib\\site-packages (from pandas) (2.9.0.post0)\n",
      "Requirement already satisfied: pytz>=2020.1 in c:\\users\\reema\\anaconda3\\lib\\site-packages (from pandas) (2025.2)\n",
      "Requirement already satisfied: tzdata>=2022.7 in c:\\users\\reema\\anaconda3\\lib\\site-packages (from pandas) (2025.2)\n",
      "Requirement already satisfied: contourpy>=1.0.1 in c:\\users\\reema\\anaconda3\\lib\\site-packages (from matplotlib) (1.0.5)\n",
      "Requirement already satisfied: cycler>=0.10 in c:\\users\\reema\\anaconda3\\lib\\site-packages (from matplotlib) (0.11.0)\n",
      "Requirement already satisfied: fonttools>=4.22.0 in c:\\users\\reema\\anaconda3\\lib\\site-packages (from matplotlib) (4.25.0)\n",
      "Requirement already satisfied: kiwisolver>=1.0.1 in c:\\users\\reema\\anaconda3\\lib\\site-packages (from matplotlib) (1.4.4)\n",
      "Requirement already satisfied: pillow>=6.2.0 in c:\\users\\reema\\anaconda3\\lib\\site-packages (from matplotlib) (9.4.0)\n",
      "Requirement already satisfied: pyparsing<3.1,>=2.3.1 in c:\\users\\reema\\anaconda3\\lib\\site-packages (from matplotlib) (3.0.9)\n",
      "Requirement already satisfied: tqdm>=4.27.0 in c:\\users\\reema\\anaconda3\\lib\\site-packages (from shap) (4.65.0)\n",
      "Requirement already satisfied: slicer==0.0.8 in c:\\users\\reema\\anaconda3\\lib\\site-packages (from shap) (0.0.8)\n",
      "Requirement already satisfied: numba>=0.54 in c:\\users\\reema\\anaconda3\\lib\\site-packages (from shap) (0.57.1)\n",
      "Requirement already satisfied: charset-normalizer<4,>=2 in c:\\users\\reema\\anaconda3\\lib\\site-packages (from requests) (2.0.4)\n",
      "Requirement already satisfied: idna<4,>=2.5 in c:\\users\\reema\\anaconda3\\lib\\site-packages (from requests) (3.4)\n",
      "Requirement already satisfied: urllib3<3,>=1.21.1 in c:\\users\\reema\\anaconda3\\lib\\site-packages (from requests) (1.26.16)\n",
      "Requirement already satisfied: certifi>=2017.4.17 in c:\\users\\reema\\anaconda3\\lib\\site-packages (from requests) (2023.7.22)\n",
      "Requirement already satisfied: Mako in c:\\users\\reema\\anaconda3\\lib\\site-packages (from alembic!=1.10.0,<2->mlflow) (1.3.8)\n",
      "Requirement already satisfied: pywin32>=304 in c:\\users\\reema\\appdata\\roaming\\python\\python311\\site-packages (from docker<8,>=4.0.0->mlflow) (306)\n",
      "Requirement already satisfied: Werkzeug>=3.0.0 in c:\\users\\reema\\anaconda3\\lib\\site-packages (from Flask<4->mlflow) (3.0.6)\n",
      "Requirement already satisfied: itsdangerous>=2.1.2 in c:\\users\\reema\\anaconda3\\lib\\site-packages (from Flask<4->mlflow) (2.2.0)\n",
      "Requirement already satisfied: blinker>=1.6.2 in c:\\users\\reema\\anaconda3\\lib\\site-packages (from Flask<4->mlflow) (1.9.0)\n",
      "Requirement already satisfied: graphql-core<3.3,>=3.1 in c:\\users\\reema\\anaconda3\\lib\\site-packages (from graphene<4->mlflow) (3.2.6)\n",
      "Requirement already satisfied: graphql-relay<3.3,>=3.1 in c:\\users\\reema\\anaconda3\\lib\\site-packages (from graphene<4->mlflow) (3.2.0)\n",
      "Requirement already satisfied: MarkupSafe>=2.0 in c:\\users\\reema\\anaconda3\\lib\\site-packages (from Jinja2<4,>=3.0->mlflow) (2.1.1)\n",
      "Requirement already satisfied: llvmlite<0.41,>=0.40.0dev0 in c:\\users\\reema\\anaconda3\\lib\\site-packages (from numba>=0.54->shap) (0.40.0)\n",
      "Requirement already satisfied: six>=1.5 in c:\\users\\reema\\anaconda3\\lib\\site-packages (from python-dateutil>=2.8.2->pandas) (1.17.0)\n",
      "Requirement already satisfied: greenlet!=0.4.17 in c:\\users\\reema\\anaconda3\\lib\\site-packages (from sqlalchemy<3,>=1.4.0->mlflow) (2.0.1)\n",
      "Requirement already satisfied: colorama in c:\\users\\reema\\appdata\\roaming\\python\\python311\\site-packages (from tqdm>=4.27.0->shap) (0.4.6)\n",
      "Requirement already satisfied: google-auth~=2.0 in c:\\users\\reema\\anaconda3\\lib\\site-packages (from databricks-sdk<1,>=0.20.0->mlflow-skinny==2.21.2->mlflow) (2.38.0)\n",
      "Requirement already satisfied: starlette<0.47.0,>=0.40.0 in c:\\users\\reema\\anaconda3\\lib\\site-packages (from fastapi<1->mlflow-skinny==2.21.2->mlflow) (0.46.1)\n",
      "Requirement already satisfied: gitdb<5,>=4.0.1 in c:\\users\\reema\\anaconda3\\lib\\site-packages (from gitpython<4,>=3.1.9->mlflow-skinny==2.21.2->mlflow) (4.0.11)\n",
      "Requirement already satisfied: zipp>=0.5 in c:\\users\\reema\\anaconda3\\lib\\site-packages (from importlib_metadata!=4.7.0,<9,>=3.7.0->mlflow-skinny==2.21.2->mlflow) (3.11.0)\n",
      "Requirement already satisfied: deprecated>=1.2.6 in c:\\users\\reema\\anaconda3\\lib\\site-packages (from opentelemetry-api<3,>=1.9.0->mlflow-skinny==2.21.2->mlflow) (1.2.18)\n",
      "Requirement already satisfied: opentelemetry-semantic-conventions==0.51b0 in c:\\users\\reema\\anaconda3\\lib\\site-packages (from opentelemetry-sdk<3,>=1.9.0->mlflow-skinny==2.21.2->mlflow) (0.51b0)\n",
      "Requirement already satisfied: annotated-types>=0.6.0 in c:\\users\\reema\\anaconda3\\lib\\site-packages (from pydantic<3,>=1.10.8->mlflow-skinny==2.21.2->mlflow) (0.7.0)\n",
      "Requirement already satisfied: pydantic-core==2.27.1 in c:\\users\\reema\\anaconda3\\lib\\site-packages (from pydantic<3,>=1.10.8->mlflow-skinny==2.21.2->mlflow) (2.27.1)\n",
      "Requirement already satisfied: h11>=0.8 in c:\\users\\reema\\anaconda3\\lib\\site-packages (from uvicorn<1->mlflow-skinny==2.21.2->mlflow) (0.14.0)\n",
      "Requirement already satisfied: wrapt<2,>=1.10 in c:\\users\\reema\\anaconda3\\lib\\site-packages (from deprecated>=1.2.6->opentelemetry-api<3,>=1.9.0->mlflow-skinny==2.21.2->mlflow) (1.14.1)\n",
      "Requirement already satisfied: smmap<6,>=3.0.1 in c:\\users\\reema\\anaconda3\\lib\\site-packages (from gitdb<5,>=4.0.1->gitpython<4,>=3.1.9->mlflow-skinny==2.21.2->mlflow) (5.0.1)\n",
      "Requirement already satisfied: pyasn1-modules>=0.2.1 in c:\\users\\reema\\anaconda3\\lib\\site-packages (from google-auth~=2.0->databricks-sdk<1,>=0.20.0->mlflow-skinny==2.21.2->mlflow) (0.2.8)\n",
      "Requirement already satisfied: rsa<5,>=3.1.4 in c:\\users\\reema\\anaconda3\\lib\\site-packages (from google-auth~=2.0->databricks-sdk<1,>=0.20.0->mlflow-skinny==2.21.2->mlflow) (4.9)\n",
      "Requirement already satisfied: anyio<5,>=3.6.2 in c:\\users\\reema\\anaconda3\\lib\\site-packages (from starlette<0.47.0,>=0.40.0->fastapi<1->mlflow-skinny==2.21.2->mlflow) (4.9.0)\n",
      "Requirement already satisfied: sniffio>=1.1 in c:\\users\\reema\\anaconda3\\lib\\site-packages (from anyio<5,>=3.6.2->starlette<0.47.0,>=0.40.0->fastapi<1->mlflow-skinny==2.21.2->mlflow) (1.2.0)\n",
      "Requirement already satisfied: pyasn1<0.5.0,>=0.4.6 in c:\\users\\reema\\anaconda3\\lib\\site-packages (from pyasn1-modules>=0.2.1->google-auth~=2.0->databricks-sdk<1,>=0.20.0->mlflow-skinny==2.21.2->mlflow) (0.4.8)\n"
     ]
    },
    {
     "name": "stderr",
     "output_type": "stream",
     "text": [
      "WARNING: There was an error checking the latest version of pip.\n"
     ]
    }
   ],
   "source": [
    "# RQ1.2: Model Provenance Tracking in Jupyter Notebook using MLflow\n",
    "# Updated with automatic logging of environment, Git, model config, and FAIR-aligned metadata\n",
    "\n",
    "# ============================\n",
    "# ⚙️ Install Dependencies (if needed in Colab)\n",
    "# ============================\n",
    "!pip install mlflow scikit-learn pandas numpy matplotlib seaborn shap requests\n",
    "\n",
    "# ============================\n",
    "# 📦 Imports\n",
    "# ============================"
   ]
  },
  {
   "cell_type": "code",
   "execution_count": 11,
   "id": "64674a5d-93d3-4557-8f5a-2c1babfcfb2a",
   "metadata": {},
   "outputs": [],
   "source": [
    "import os\n",
    "import time\n",
    "import json\n",
    "import psutil\n",
    "import platform\n",
    "import git\n",
    "import mlflow\n",
    "import requests\n",
    "import shap\n",
    "import pandas as pd\n",
    "import numpy as np\n",
    "import sklearn\n",
    "import seaborn as sns\n",
    "import matplotlib\n",
    "import matplotlib.pyplot as plt\n",
    "from dotenv import load_dotenv\n",
    "from sklearn.ensemble import RandomForestClassifier\n",
    "from sklearn.model_selection import train_test_split\n",
    "from sklearn.metrics import (\n",
    "    accuracy_score, roc_auc_score, confusion_matrix,\n",
    "    precision_score, recall_score, f1_score, roc_curve\n",
    ")\n",
    "from mlflow import MlflowClient"
   ]
  },
  {
   "cell_type": "code",
   "execution_count": 12,
   "id": "cbe91ec0-6447-4586-b7cc-2c1f74d4218f",
   "metadata": {},
   "outputs": [
    {
     "data": {
      "text/plain": [
       "<Experiment: artifact_location='file:///C:/Users/reema/OneDrive/Dokumente/Provenance_newREPO/Provenence-Tracking-Thesis-Research/notebooks/RQ_notebooks/mlrunlogs/mlflow.db/511200521763183500', creation_time=1745323635705, experiment_id='511200521763183500', last_update_time=1745323635705, lifecycle_stage='active', name='RandomForest-Iris-CSV', tags={}>"
      ]
     },
     "execution_count": 12,
     "metadata": {},
     "output_type": "execute_result"
    }
   ],
   "source": [
    "# ============================\n",
    "# 📂 Setup MLflow\n",
    "# ============================\n",
    "project_dir = os.getcwd()\n",
    "mlflow.set_tracking_uri(\"mlrunlogs/mlflow.db\")\n",
    "mlflow.set_experiment(\"RandomForest-Iris-CSV\")"
   ]
  },
  {
   "cell_type": "code",
   "execution_count": 13,
   "id": "838dd233-25dc-4725-974d-4da89c257782",
   "metadata": {},
   "outputs": [],
   "source": [
    "# ============================\n",
    "# 🔄 Git Commit Hash\n",
    "# ============================\n",
    "repo_dir = \"C:/Users/reema/OneDrive/Dokumente/Provenance_newREPO/Provenence-Tracking-Thesis-Research\"\n",
    "repo = git.Repo(repo_dir)\n",
    "commit_hash = repo.head.object.hexsha"
   ]
  },
  {
   "cell_type": "code",
   "execution_count": 14,
   "id": "83e6e057-6a8b-49fa-8592-645fbb54e58d",
   "metadata": {},
   "outputs": [],
   "source": [
    "# ============================\n",
    "# 📥 Load Dataset\n",
    "# ============================\n",
    "df = pd.read_csv(\"../../data/Iris.csv\")\n",
    "X = df.iloc[:, :-1]\n",
    "y = df.iloc[:, -1]"
   ]
  },
  {
   "cell_type": "code",
   "execution_count": 15,
   "id": "12fa6f59-927c-4003-964f-83e53793fd36",
   "metadata": {},
   "outputs": [
    {
     "name": "stderr",
     "output_type": "stream",
     "text": [
      "2025/04/22 14:13:46 INFO mlflow.tracking.fluent: Autologging successfully enabled for statsmodels.\n"
     ]
    }
   ],
   "source": [
    "# ============================\n",
    "# 🧠 MLflow Autologging\n",
    "# ============================\n",
    "mlflow.autolog(log_input_examples=True, log_model_signatures=True)"
   ]
  },
  {
   "cell_type": "code",
   "execution_count": null,
   "id": "b1045748-966e-4fe1-8a51-a97cd8e88a01",
   "metadata": {},
   "outputs": [],
   "source": []
  },
  {
   "cell_type": "code",
   "execution_count": 16,
   "id": "d7a5b9a0-1502-4b83-9a12-a407772d9d5a",
   "metadata": {},
   "outputs": [
    {
     "data": {
      "text/plain": [
       "'REMOVED_SECRET'"
      ]
     },
     "execution_count": 16,
     "metadata": {},
     "output_type": "execute_result"
    }
   ],
   "source": [
    "GITHUB_TOKEN"
   ]
  },
  {
   "cell_type": "code",
   "execution_count": 19,
   "id": "f67b7a46-a70d-44ea-976c-322a1a795311",
   "metadata": {},
   "outputs": [
    {
     "name": "stderr",
     "output_type": "stream",
     "text": [
      "C:\\Users\\reema\\anaconda3\\Lib\\site-packages\\shap\\plots\\_beeswarm.py:1153: UserWarning: The figure layout has changed to tight\n",
      "  pl.tight_layout()\n",
      "C:\\Users\\reema\\anaconda3\\Lib\\site-packages\\shap\\plots\\_beeswarm.py:761: UserWarning: The figure layout has changed to tight\n",
      "  pl.tight_layout(pad=0, w_pad=0, h_pad=0.0)\n",
      "Error lines received while fetching: error: failed to push some refs to 'https://github.com/reema-dass26/Provenence-Tracking-Thesis-Research.git'\n",
      "Error lines received while fetching: error: failed to push some refs to 'https://github.com/reema-dass26/Provenence-Tracking-Thesis-Research.git'\n"
     ]
    },
    {
     "data": {
      "text/plain": [
       "<Figure size 600x600 with 0 Axes>"
      ]
     },
     "metadata": {},
     "output_type": "display_data"
    },
    {
     "data": {
      "image/png": "[encoded data removed]",
      "text/plain": [
       "<Figure size 1150x660 with 1 Axes>"
      ]
     },
     "metadata": {},
     "output_type": "display_data"
    }
   ],
   "source": [
    "# ============================\n",
    "# 🚀 Start MLflow Run\n",
    "# ============================\n",
    "with mlflow.start_run() as run:\n",
    "    model_name = f\"RandomForest_Iris_v1.0.0\"\n",
    "    training_time_start = time.time()\n",
    "\n",
    "    # 📈 Model Training\n",
    "    X_train, X_test, y_train, y_test = train_test_split(X, y, test_size=0.2, random_state=42)\n",
    "    model = RandomForestClassifier(n_estimators=100, random_state=42)\n",
    "    model.fit(X_train, y_train)\n",
    "    y_pred = model.predict(X_test)\n",
    "    y_proba = model.predict_proba(X_test)\n",
    "    acc = accuracy_score(y_test, y_pred)\n",
    "    auc = roc_auc_score(y_test, y_proba, multi_class=\"ovr\")\n",
    "\n",
    "    # ✅ Log Environment Automatically\n",
    "    mlflow.log_params({\n",
    "        \"python_version\": platform.python_version(),\n",
    "        \"os_platform\": f\"{platform.system()} {platform.release()}\",\n",
    "        \"sklearn_version\": sklearn.__version__,\n",
    "        \"pandas_version\": pd.__version__,\n",
    "        \"numpy_version\": np.__version__,\n",
    "        \"matplotlib_version\": matplotlib.__version__,\n",
    "        \"seaborn_version\": sns.__version__,\n",
    "        \"shap_version\": shap.__version__,\n",
    "    })\n",
    "\n",
    "    # ✅ Git and Notebook Metadata\n",
    "    mlflow.set_tag(\"git_commit_hash\", commit_hash)\n",
    "    mlflow.set_tag(\"notebook_name\", \"RQ1.ipynb\")\n",
    "\n",
    "    # ✅ Dataset Metadata Tags\n",
    "    mlflow.set_tag(\"dataset_name\", \"Iris\")\n",
    "    mlflow.set_tag(\"dataset_version\", \"1.0.0\")\n",
    "    mlflow.set_tag(\"dataset_id\", \"iris_local\")\n",
    "\n",
    "    # ✅ Confusion Matrix Plot\n",
    "    cm = confusion_matrix(y_test, y_pred)\n",
    "    plt.figure(figsize=(6, 6))\n",
    "    sns.heatmap(cm, annot=True, fmt=\"d\", cmap=\"Blues\")\n",
    "    plt.title(\"Confusion Matrix\")\n",
    "    plt.xlabel(\"Predicted\")\n",
    "    plt.ylabel(\"Actual\")\n",
    "    cm_path = \"confusion_matrix.png\"\n",
    "    plt.savefig(cm_path)\n",
    "    mlflow.log_artifact(cm_path)\n",
    "\n",
    "    # ✅ SHAP Summary\n",
    "    explainer = shap.TreeExplainer(model)\n",
    "    shap_values = explainer.shap_values(X_test)\n",
    "    shap.summary_plot(shap_values, X_test, show=False)\n",
    "    shap_path = \"shap_summary.png\"\n",
    "    plt.savefig(shap_path)\n",
    "    mlflow.log_artifact(shap_path)\n",
    "\n",
    "    # ✅ FAIR4ML-style Metadata JSON\n",
    "    fair4ml_metadata = {\n",
    "        \"@type\": \"MLModel\",\n",
    "        \"name\": model_name,\n",
    "        \"algorithm\": \"RandomForestClassifier\",\n",
    "        \"hyperParameters\": model.get_params(),\n",
    "        \"trainingDataset\": {\n",
    "            \"name\": \"Iris\",\n",
    "            \"version\": \"1.0.0\",\n",
    "            \"identifier\": \"iris_local\"\n",
    "        },\n",
    "        \"trainingMetrics\": {\n",
    "            \"accuracy\": acc,\n",
    "            \"roc_auc\": auc,\n",
    "            \"precision\": precision_score(y_test, y_pred, average='macro'),\n",
    "            \"recall\": recall_score(y_test, y_pred, average='macro'),\n",
    "            \"f1_score\": f1_score(y_test, y_pred, average='macro')\n",
    "        },\n",
    "        \"environment\": {\n",
    "            \"python\": platform.python_version(),\n",
    "            \"os\": f\"{platform.system()} {platform.release()}\",\n",
    "            \"libraries\": {\n",
    "                \"sklearn\": sklearn.__version__,\n",
    "                \"pandas\": pd.__version__,\n",
    "                \"numpy\": np.__version__\n",
    "            }\n",
    "        },\n",
    "        \"source\": {\n",
    "            \"git_commit\": commit_hash,\n",
    "            \"notebook\": \"RQ1.ipynb\"\n",
    "        }\n",
    "    }\n",
    "    # ✅ Commit changes to Git after successful run\n",
    "    repo.git.add(A=True)\n",
    "    repo.index.commit(\"Auto commit after successful training\")\n",
    "    repo.remotes.origin.push()\n",
    "    \n",
    "    load_dotenv()\n",
    "    GITHUB_TOKEN = os.getenv(\"THESIS_TOKEN\")  # or \"GITHUB_TOKEN\" if you named it that\n",
    "\n",
    "    if not GITHUB_TOKEN:\n",
    "        print(\"⚠️ GITHUB_TOKEN not set.\")    \n",
    "    GITHUB_OWNER=\"reema-dass26\"\n",
    "    GITHUB_REPO=\"https://github.com/reema-dass26/Provenence-Tracking-Thesis-Research.git\"\n",
    "\n",
    "   # ✅ Commit changes to Git after successful run\n",
    "    try:\n",
    "        repo.git.add(A=True)\n",
    "        repo.index.commit(\"Auto commit after successful training\")\n",
    "        repo.remotes.origin.push()\n",
    "    except Exception as e:\n",
    "        print(\"❌ Git push failed:\", e)\n",
    "    \n",
    "    # 🔁 Get new commit hash\n",
    "    new_commit_hash = repo.head.object.hexsha\n",
    "    \n",
    "    # 🔁 Log updated Git commit\n",
    "    mlflow.set_tag(\"git_commit_hash\", new_commit_hash)\n",
    "    mlflow.log_param(\"git_commit_hash\", new_commit_hash)\n",
    "    \n",
    "    # ✅ Save FAIR4ML metadata\n",
    "    with open(\"model_metadata_fair4ml.json\", \"w\") as f:\n",
    "        json.dump(fair4ml_metadata, f, indent=2)\n",
    "    mlflow.log_artifact(\"model_metadata_fair4ml.json\")\n",
    "\n",
    "    \n",
    "\n",
    "    mlflow.end_run()\n"
   ]
  },
  {
   "cell_type": "markdown",
   "id": "c52607ad-5849-4a2d-97ef-e8fc1ca16dc7",
   "metadata": {},
   "source": [
    "Goal: Notify collaborators who have forked the GitHub repo if their fork is outdated (i.e., behind the current commit used to train a model)."
   ]
  },
  {
   "cell_type": "markdown",
   "id": "f29c8ad9-00bb-4c1e-ac3b-ee6861991acd",
   "metadata": {},
   "source": [
    "🧠 What We Need\n",
    "Current training run’s Git commit hash\n",
    "\n",
    "GitHub API to fetch all forks of your repo\n",
    "\n",
    "Compare each fork’s main or master branch head commit\n",
    "\n",
    "Create an issue on their fork or on your repo tagging them if they’re behind"
   ]
  },
  {
   "cell_type": "markdown",
   "id": "c72bed50-fb56-442d-a21e-bb7991892d07",
   "metadata": {},
   "source": [
    "Option 1 (Practical): Notify via issues on your own repo"
   ]
  },
  {
   "cell_type": "code",
   "execution_count": null,
   "id": "55b184b6-5113-4366-ac8d-ff0cfb6e00bb",
   "metadata": {},
   "outputs": [],
   "source": [
    "import requests\n",
    "import os\n",
    "\n",
    "notify_collaborators = True  # Set to True if not already\n",
    "GITHUB_TOKEN = os.getenv(\"THESIS_TOKEN\")\n",
    "GITHUB_OWNER = \"reema-dass26\"\n",
    "GITHUB_REPO = \"Provenence-Tracking-Thesis-Research\"\n",
    "\n",
    "if not GITHUB_TOKEN:\n",
    "    print(\"⚠️ GITHUB_TOKEN not set.\")\n",
    "elif notify_collaborators:\n",
    "    headers = {\n",
    "        \"Authorization\": f\"token {GITHUB_TOKEN}\",\n",
    "        \"Accept\": \"application/vnd.github.v3+json\"\n",
    "    }\n",
    "    forks_url = f\"https://api.github.com/repos/{GITHUB_OWNER}/{GITHUB_REPO}/forks\"\n",
    "    response = requests.get(forks_url, headers=headers)\n",
    "\n",
    "    if response.status_code == 200:\n",
    "        forks = response.json()\n",
    "        outdated_users = []\n",
    "        for fork in forks:\n",
    "            fork_owner = fork['owner']['login']\n",
    "            fork_commit_url = fork['url'] + \"/commits\"\n",
    "            fork_response = requests.get(fork_commit_url, headers=headers)\n",
    "\n",
    "            if fork_response.status_code == 200:\n",
    "                fork_commits = fork_response.json()\n",
    "                fork_latest = fork_commits[0]['sha'] if fork_commits else None\n",
    "                if fork_latest and fork_latest != new_commit_hash:\n",
    "                    outdated_users.append(f\"@{fork_owner}\")\n",
    "\n",
    "        if outdated_users:\n",
    "            issue_title = \"🔔 Notification: Your fork is behind the latest commit\"\n",
    "            issue_body = f\"Hi {' '.join(outdated_users)},\\n\\nThe main repository has been updated to commit `{new_commit_hash}`.\\nPlease consider pulling the latest changes to stay in sync.\\n\\nThanks!\"\n",
    "            issues_url = f\"https://api.github.com/repos/{GITHUB_OWNER}/{GITHUB_REPO}/issues\"\n",
    "            issue_data = {\"title\": issue_title, \"body\": issue_body}\n",
    "            requests.post(issues_url, headers=headers, json=issue_data)\n"
   ]
  },
  {
   "cell_type": "code",
   "execution_count": null,
   "id": "395498d1-de4f-4581-998d-0a36417daffa",
   "metadata": {},
   "outputs": [],
   "source": []
  }
 ],
 "metadata": {
  "kernelspec": {
   "display_name": "Python 3 (ipykernel)",
   "language": "python",
   "name": "python3"
  },
  "language_info": {
   "codemirror_mode": {
    "name": "ipython",
    "version": 3
   },
   "file_extension": ".py",
   "mimetype": "text/x-python",
   "name": "python",
   "nbconvert_exporter": "python",
   "pygments_lexer": "ipython3",
   "version": "3.11.5"
  }
 },
 "nbformat": 4,
 "nbformat_minor": 5
}
