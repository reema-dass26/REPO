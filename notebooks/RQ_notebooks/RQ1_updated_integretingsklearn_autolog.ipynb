{
 "cells": [
  {
   "cell_type": "code",
   "execution_count": 2,
   "id": "12fa6f59-927c-4003-964f-83e53793fd36",
   "metadata": {
    "scrolled": true
   },
   "outputs": [],
   "source": [
    "# TODO: atm the mlflow autolog isnt capturing metrics n params\n",
    "# and sklearn.autolog throws error( posted the issue on github)\n",
    "# Ideally, I should be able to fetch most of the imp detail via MLFLOW AUTOLOG. will check that later in time\n",
    "#============================\n",
    "# 🧠 MLflow Autologging\n",
    "# ============================\n",
    "\n",
    "# mlflow.autolog(log_input_examples=True, log_model_signatures=True)\n",
    "# mlflow.sklearn.autolog() \n",
    "# mlflow.sklearn.autolog(\n",
    "#     log_input_examples=True,\n",
    "#     log_model_signatures=True,\n",
    "#     log_post_training_metrics=True,        # calls model.score() → accuracy\n",
    "#     disable_for_unsupported_versions=True,  # skips if versions still wonky\n",
    "#     exclusive=True                          # only patch the sklearn integration\n",
    "# )"
   ]
  },
  {
   "cell_type": "code",
   "execution_count": 3,
   "id": "1ce1a579-f08b-40bd-b4db-21b388aaea74",
   "metadata": {},
   "outputs": [],
   "source": [
    "\n",
    "# ============================\n",
    "# ⚙️ Install Dependencies (if needed )\n",
    "# ============================\n",
    "# !pip install mlflow scikit-learn pandas numpy matplotlib seaborn shap requests GitPython\n",
    "# !pip install --upgrade threadpoolctl\n",
    "# !pip install setuptools\n",
    "# !pip install ace_tools \n",
    "# !pip install rdflib\n",
    "# !pip install streamlit-option-menu\n",
    "# !pip install streamlit-agraph\n"
   ]
  },
  {
   "cell_type": "markdown",
   "id": "1ca4f0ae-39ee-4b22-b013-dfb1fa1b5694",
   "metadata": {},
   "source": [
    "LIBRARY IMPORTS:"
   ]
  },
  {
   "cell_type": "code",
   "execution_count": 4,
   "id": "8ca332e5-6501-4310-920b-2b769477b46e",
   "metadata": {},
   "outputs": [],
   "source": [
    "# ============================\n",
    "# 📦 Standard Library Imports\n",
    "# ============================\n",
    "import os\n",
    "import glob\n",
    "import io\n",
    "import json\n",
    "import time\n",
    "import ast\n",
    "import pickle\n",
    "import platform\n",
    "import subprocess\n",
    "from datetime import datetime, timezone\n",
    "from pprint import pprint\n",
    "from typing import List, Dict, Any\n",
    "import xml.etree.ElementTree as ET\n",
    "import urllib.parse\n",
    "\n",
    "# ============================\n",
    "# 📊 Data and Visualization\n",
    "# ============================\n",
    "import pandas as pd\n",
    "import numpy as np\n",
    "import seaborn as sns\n",
    "import matplotlib\n",
    "import matplotlib.pyplot as plt\n",
    "\n",
    "# ============================\n",
    "# 🤖 Machine Learning\n",
    "# ============================\n",
    "import sklearn\n",
    "from sklearn.datasets import load_iris\n",
    "from sklearn.ensemble import RandomForestClassifier\n",
    "from sklearn.model_selection import train_test_split\n",
    "from sklearn.preprocessing import LabelEncoder, label_binarize\n",
    "from sklearn.metrics import (\n",
    "    accuracy_score,\n",
    "    roc_auc_score,\n",
    "    confusion_matrix,\n",
    "    precision_score,\n",
    "    recall_score,\n",
    "    f1_score,\n",
    "    RocCurveDisplay,\n",
    "    PrecisionRecallDisplay\n",
    ")\n",
    "\n",
    "# ============================\n",
    "# 🔬 Experiment Tracking\n",
    "# ============================\n",
    "import mlflow\n",
    "import mlflow.sklearn\n",
    "from mlflow import MlflowClient\n",
    "\n",
    "# ============================\n",
    "# 🌐 Web / API / Networking\n",
    "# ============================\n",
    "import requests\n",
    "from dotenv import load_dotenv\n",
    "\n",
    "# ============================\n",
    "# 🧪 Git & Version Control\n",
    "# ============================\n",
    "import git\n",
    "from git import Repo, GitCommandError\n",
    "\n",
    "# ============================\n",
    "# 🧠 SHAP for Explainability\n",
    "# ============================\n",
    "import shap\n",
    "\n",
    "# ============================\n",
    "# 🧬 RDF & Provenance (rdflib)\n",
    "# ============================\n",
    "from rdflib import Graph, URIRef, Literal\n",
    "from rdflib.namespace import PROV, XSD\n",
    "\n",
    "# ============================\n",
    "# ⚙️ System Monitoring\n",
    "# ============================\n",
    "import psutil\n"
   ]
  },
  {
   "cell_type": "markdown",
   "id": "61d4d6b8-34a9-47b5-974d-5927c0ee2256",
   "metadata": {},
   "source": [
    "DBREPO INTEGRETION"
   ]
  },
  {
   "cell_type": "code",
   "execution_count": 5,
   "id": "8e3570e2-9a60-45b4-8653-28060071e728",
   "metadata": {
    "scrolled": true
   },
   "outputs": [
    {
     "name": "stdout",
     "output_type": "stream",
     "text": [
      "API Response: [{'id': '1', 'sepallengthcm': '5.100000000000000000', 'sepalwidthcm': '3.500000000000000000', 'petallengthcm': '1.400000000000000000', 'petalwidthcm': '0.200000000000000000', 'species': 'Iris-setosa'}, {'id': '2', 'sepallengthcm': '4.900000000000000000', 'sepalwidthcm': '3.000000000000000000', 'petallengthcm': '1.400000000000000000', 'petalwidthcm': '0.200000000000000000', 'species': 'Iris-setosa'}, {'id': '3', 'sepallengthcm': '4.700000000000000000', 'sepalwidthcm': '3.200000000000000000', 'petallengthcm': '1.300000000000000000', 'petalwidthcm': '0.200000000000000000', 'species': 'Iris-setosa'}, {'id': '4', 'sepallengthcm': '4.600000000000000000', 'sepalwidthcm': '3.100000000000000000', 'petallengthcm': '1.500000000000000000', 'petalwidthcm': '0.200000000000000000', 'species': 'Iris-setosa'}, {'id': '5', 'sepallengthcm': '5.000000000000000000', 'sepalwidthcm': '3.600000000000000000', 'petallengthcm': '1.400000000000000000', 'petalwidthcm': '0.200000000000000000', 'species': 'Iris-setosa'}, {'id': '6', 'sepallengthcm': '5.400000000000000000', 'sepalwidthcm': '3.900000000000000000', 'petallengthcm': '1.700000000000000000', 'petalwidthcm': '0.400000000000000000', 'species': 'Iris-setosa'}, {'id': '7', 'sepallengthcm': '4.600000000000000000', 'sepalwidthcm': '3.400000000000000000', 'petallengthcm': '1.400000000000000000', 'petalwidthcm': '0.300000000000000000', 'species': 'Iris-setosa'}, {'id': '8', 'sepallengthcm': '5.000000000000000000', 'sepalwidthcm': '3.400000000000000000', 'petallengthcm': '1.500000000000000000', 'petalwidthcm': '0.200000000000000000', 'species': 'Iris-setosa'}, {'id': '9', 'sepallengthcm': '4.400000000000000000', 'sepalwidthcm': '2.900000000000000000', 'petallengthcm': '1.400000000000000000', 'petalwidthcm': '0.200000000000000000', 'species': 'Iris-setosa'}, {'id': '10', 'sepallengthcm': '4.900000000000000000', 'sepalwidthcm': '3.100000000000000000', 'petallengthcm': '1.500000000000000000', 'petalwidthcm': '0.100000000000000000', 'species': 'Iris-setosa'}, {'id': '11', 'sepallengthcm': '5.400000000000000000', 'sepalwidthcm': '3.700000000000000000', 'petallengthcm': '1.500000000000000000', 'petalwidthcm': '0.200000000000000000', 'species': 'Iris-setosa'}, {'id': '12', 'sepallengthcm': '4.800000000000000000', 'sepalwidthcm': '3.400000000000000000', 'petallengthcm': '1.600000000000000000', 'petalwidthcm': '0.200000000000000000', 'species': 'Iris-setosa'}, {'id': '13', 'sepallengthcm': '4.800000000000000000', 'sepalwidthcm': '3.000000000000000000', 'petallengthcm': '1.400000000000000000', 'petalwidthcm': '0.100000000000000000', 'species': 'Iris-setosa'}, {'id': '14', 'sepallengthcm': '4.300000000000000000', 'sepalwidthcm': '3.000000000000000000', 'petallengthcm': '1.100000000000000000', 'petalwidthcm': '0.100000000000000000', 'species': 'Iris-setosa'}, {'id': '15', 'sepallengthcm': '5.800000000000000000', 'sepalwidthcm': '4.000000000000000000', 'petallengthcm': '1.200000000000000000', 'petalwidthcm': '0.200000000000000000', 'species': 'Iris-setosa'}, {'id': '16', 'sepallengthcm': '5.700000000000000000', 'sepalwidthcm': '4.400000000000000000', 'petallengthcm': '1.500000000000000000', 'petalwidthcm': '0.400000000000000000', 'species': 'Iris-setosa'}, {'id': '17', 'sepallengthcm': '5.400000000000000000', 'sepalwidthcm': '3.900000000000000000', 'petallengthcm': '1.300000000000000000', 'petalwidthcm': '0.400000000000000000', 'species': 'Iris-setosa'}, {'id': '18', 'sepallengthcm': '5.100000000000000000', 'sepalwidthcm': '3.500000000000000000', 'petallengthcm': '1.400000000000000000', 'petalwidthcm': '0.300000000000000000', 'species': 'Iris-setosa'}, {'id': '19', 'sepallengthcm': '5.700000000000000000', 'sepalwidthcm': '3.800000000000000000', 'petallengthcm': '1.700000000000000000', 'petalwidthcm': '0.300000000000000000', 'species': 'Iris-setosa'}, {'id': '20', 'sepallengthcm': '5.100000000000000000', 'sepalwidthcm': '3.800000000000000000', 'petallengthcm': '1.500000000000000000', 'petalwidthcm': '0.300000000000000000', 'species': 'Iris-setosa'}, {'id': '21', 'sepallengthcm': '5.400000000000000000', 'sepalwidthcm': '3.400000000000000000', 'petallengthcm': '1.700000000000000000', 'petalwidthcm': '0.200000000000000000', 'species': 'Iris-setosa'}, {'id': '22', 'sepallengthcm': '5.100000000000000000', 'sepalwidthcm': '3.700000000000000000', 'petallengthcm': '1.500000000000000000', 'petalwidthcm': '0.400000000000000000', 'species': 'Iris-setosa'}, {'id': '23', 'sepallengthcm': '4.600000000000000000', 'sepalwidthcm': '3.600000000000000000', 'petallengthcm': '1.000000000000000000', 'petalwidthcm': '0.200000000000000000', 'species': 'Iris-setosa'}, {'id': '24', 'sepallengthcm': '5.100000000000000000', 'sepalwidthcm': '3.300000000000000000', 'petallengthcm': '1.700000000000000000', 'petalwidthcm': '0.500000000000000000', 'species': 'Iris-setosa'}, {'id': '25', 'sepallengthcm': '4.800000000000000000', 'sepalwidthcm': '3.400000000000000000', 'petallengthcm': '1.900000000000000000', 'petalwidthcm': '0.200000000000000000', 'species': 'Iris-setosa'}, {'id': '26', 'sepallengthcm': '5.000000000000000000', 'sepalwidthcm': '3.000000000000000000', 'petallengthcm': '1.600000000000000000', 'petalwidthcm': '0.200000000000000000', 'species': 'Iris-setosa'}, {'id': '27', 'sepallengthcm': '5.000000000000000000', 'sepalwidthcm': '3.400000000000000000', 'petallengthcm': '1.600000000000000000', 'petalwidthcm': '0.400000000000000000', 'species': 'Iris-setosa'}, {'id': '28', 'sepallengthcm': '5.200000000000000000', 'sepalwidthcm': '3.500000000000000000', 'petallengthcm': '1.500000000000000000', 'petalwidthcm': '0.200000000000000000', 'species': 'Iris-setosa'}, {'id': '29', 'sepallengthcm': '5.200000000000000000', 'sepalwidthcm': '3.400000000000000000', 'petallengthcm': '1.400000000000000000', 'petalwidthcm': '0.200000000000000000', 'species': 'Iris-setosa'}, {'id': '30', 'sepallengthcm': '4.700000000000000000', 'sepalwidthcm': '3.200000000000000000', 'petallengthcm': '1.600000000000000000', 'petalwidthcm': '0.200000000000000000', 'species': 'Iris-setosa'}, {'id': '31', 'sepallengthcm': '4.800000000000000000', 'sepalwidthcm': '3.100000000000000000', 'petallengthcm': '1.600000000000000000', 'petalwidthcm': '0.200000000000000000', 'species': 'Iris-setosa'}, {'id': '32', 'sepallengthcm': '5.400000000000000000', 'sepalwidthcm': '3.400000000000000000', 'petallengthcm': '1.500000000000000000', 'petalwidthcm': '0.400000000000000000', 'species': 'Iris-setosa'}, {'id': '33', 'sepallengthcm': '5.200000000000000000', 'sepalwidthcm': '4.100000000000000000', 'petallengthcm': '1.500000000000000000', 'petalwidthcm': '0.100000000000000000', 'species': 'Iris-setosa'}, {'id': '34', 'sepallengthcm': '5.500000000000000000', 'sepalwidthcm': '4.200000000000000000', 'petallengthcm': '1.400000000000000000', 'petalwidthcm': '0.200000000000000000', 'species': 'Iris-setosa'}, {'id': '35', 'sepallengthcm': '4.900000000000000000', 'sepalwidthcm': '3.100000000000000000', 'petallengthcm': '1.500000000000000000', 'petalwidthcm': '0.100000000000000000', 'species': 'Iris-setosa'}, {'id': '36', 'sepallengthcm': '5.000000000000000000', 'sepalwidthcm': '3.200000000000000000', 'petallengthcm': '1.200000000000000000', 'petalwidthcm': '0.200000000000000000', 'species': 'Iris-setosa'}, {'id': '37', 'sepallengthcm': '5.500000000000000000', 'sepalwidthcm': '3.500000000000000000', 'petallengthcm': '1.300000000000000000', 'petalwidthcm': '0.200000000000000000', 'species': 'Iris-setosa'}, {'id': '38', 'sepallengthcm': '4.900000000000000000', 'sepalwidthcm': '3.100000000000000000', 'petallengthcm': '1.500000000000000000', 'petalwidthcm': '0.100000000000000000', 'species': 'Iris-setosa'}, {'id': '39', 'sepallengthcm': '4.400000000000000000', 'sepalwidthcm': '3.000000000000000000', 'petallengthcm': '1.300000000000000000', 'petalwidthcm': '0.200000000000000000', 'species': 'Iris-setosa'}, {'id': '40', 'sepallengthcm': '5.100000000000000000', 'sepalwidthcm': '3.400000000000000000', 'petallengthcm': '1.500000000000000000', 'petalwidthcm': '0.200000000000000000', 'species': 'Iris-setosa'}, {'id': '41', 'sepallengthcm': '5.000000000000000000', 'sepalwidthcm': '3.500000000000000000', 'petallengthcm': '1.300000000000000000', 'petalwidthcm': '0.300000000000000000', 'species': 'Iris-setosa'}, {'id': '42', 'sepallengthcm': '4.500000000000000000', 'sepalwidthcm': '2.300000000000000000', 'petallengthcm': '1.300000000000000000', 'petalwidthcm': '0.300000000000000000', 'species': 'Iris-setosa'}, {'id': '43', 'sepallengthcm': '4.400000000000000000', 'sepalwidthcm': '3.200000000000000000', 'petallengthcm': '1.300000000000000000', 'petalwidthcm': '0.200000000000000000', 'species': 'Iris-setosa'}, {'id': '44', 'sepallengthcm': '5.000000000000000000', 'sepalwidthcm': '3.500000000000000000', 'petallengthcm': '1.600000000000000000', 'petalwidthcm': '0.600000000000000000', 'species': 'Iris-setosa'}, {'id': '45', 'sepallengthcm': '5.100000000000000000', 'sepalwidthcm': '3.800000000000000000', 'petallengthcm': '1.900000000000000000', 'petalwidthcm': '0.400000000000000000', 'species': 'Iris-setosa'}, {'id': '46', 'sepallengthcm': '4.800000000000000000', 'sepalwidthcm': '3.000000000000000000', 'petallengthcm': '1.400000000000000000', 'petalwidthcm': '0.300000000000000000', 'species': 'Iris-setosa'}, {'id': '47', 'sepallengthcm': '5.100000000000000000', 'sepalwidthcm': '3.800000000000000000', 'petallengthcm': '1.600000000000000000', 'petalwidthcm': '0.200000000000000000', 'species': 'Iris-setosa'}, {'id': '48', 'sepallengthcm': '4.600000000000000000', 'sepalwidthcm': '3.200000000000000000', 'petallengthcm': '1.400000000000000000', 'petalwidthcm': '0.200000000000000000', 'species': 'Iris-setosa'}, {'id': '49', 'sepallengthcm': '5.300000000000000000', 'sepalwidthcm': '3.700000000000000000', 'petallengthcm': '1.500000000000000000', 'petalwidthcm': '0.200000000000000000', 'species': 'Iris-setosa'}, {'id': '50', 'sepallengthcm': '5.000000000000000000', 'sepalwidthcm': '3.300000000000000000', 'petallengthcm': '1.400000000000000000', 'petalwidthcm': '0.200000000000000000', 'species': 'Iris-setosa'}, {'id': '51', 'sepallengthcm': '7.000000000000000000', 'sepalwidthcm': '3.200000000000000000', 'petallengthcm': '4.700000000000000000', 'petalwidthcm': '1.400000000000000000', 'species': 'Iris-versicolor'}, {'id': '52', 'sepallengthcm': '6.400000000000000000', 'sepalwidthcm': '3.200000000000000000', 'petallengthcm': '4.500000000000000000', 'petalwidthcm': '1.500000000000000000', 'species': 'Iris-versicolor'}, {'id': '53', 'sepallengthcm': '6.900000000000000000', 'sepalwidthcm': '3.100000000000000000', 'petallengthcm': '4.900000000000000000', 'petalwidthcm': '1.500000000000000000', 'species': 'Iris-versicolor'}, {'id': '54', 'sepallengthcm': '5.500000000000000000', 'sepalwidthcm': '2.300000000000000000', 'petallengthcm': '4.000000000000000000', 'petalwidthcm': '1.300000000000000000', 'species': 'Iris-versicolor'}, {'id': '55', 'sepallengthcm': '6.500000000000000000', 'sepalwidthcm': '2.800000000000000000', 'petallengthcm': '4.600000000000000000', 'petalwidthcm': '1.500000000000000000', 'species': 'Iris-versicolor'}, {'id': '56', 'sepallengthcm': '5.700000000000000000', 'sepalwidthcm': '2.800000000000000000', 'petallengthcm': '4.500000000000000000', 'petalwidthcm': '1.300000000000000000', 'species': 'Iris-versicolor'}, {'id': '57', 'sepallengthcm': '6.300000000000000000', 'sepalwidthcm': '3.300000000000000000', 'petallengthcm': '4.700000000000000000', 'petalwidthcm': '1.600000000000000000', 'species': 'Iris-versicolor'}, {'id': '58', 'sepallengthcm': '4.900000000000000000', 'sepalwidthcm': '2.400000000000000000', 'petallengthcm': '3.300000000000000000', 'petalwidthcm': '1.000000000000000000', 'species': 'Iris-versicolor'}, {'id': '59', 'sepallengthcm': '6.600000000000000000', 'sepalwidthcm': '2.900000000000000000', 'petallengthcm': '4.600000000000000000', 'petalwidthcm': '1.300000000000000000', 'species': 'Iris-versicolor'}, {'id': '60', 'sepallengthcm': '5.200000000000000000', 'sepalwidthcm': '2.700000000000000000', 'petallengthcm': '3.900000000000000000', 'petalwidthcm': '1.400000000000000000', 'species': 'Iris-versicolor'}, {'id': '61', 'sepallengthcm': '5.000000000000000000', 'sepalwidthcm': '2.000000000000000000', 'petallengthcm': '3.500000000000000000', 'petalwidthcm': '1.000000000000000000', 'species': 'Iris-versicolor'}, {'id': '62', 'sepallengthcm': '5.900000000000000000', 'sepalwidthcm': '3.000000000000000000', 'petallengthcm': '4.200000000000000000', 'petalwidthcm': '1.500000000000000000', 'species': 'Iris-versicolor'}, {'id': '63', 'sepallengthcm': '6.000000000000000000', 'sepalwidthcm': '2.200000000000000000', 'petallengthcm': '4.000000000000000000', 'petalwidthcm': '1.000000000000000000', 'species': 'Iris-versicolor'}, {'id': '64', 'sepallengthcm': '6.100000000000000000', 'sepalwidthcm': '2.900000000000000000', 'petallengthcm': '4.700000000000000000', 'petalwidthcm': '1.400000000000000000', 'species': 'Iris-versicolor'}, {'id': '65', 'sepallengthcm': '5.600000000000000000', 'sepalwidthcm': '2.900000000000000000', 'petallengthcm': '3.600000000000000000', 'petalwidthcm': '1.300000000000000000', 'species': 'Iris-versicolor'}, {'id': '66', 'sepallengthcm': '6.700000000000000000', 'sepalwidthcm': '3.100000000000000000', 'petallengthcm': '4.400000000000000000', 'petalwidthcm': '1.400000000000000000', 'species': 'Iris-versicolor'}, {'id': '67', 'sepallengthcm': '5.600000000000000000', 'sepalwidthcm': '3.000000000000000000', 'petallengthcm': '4.500000000000000000', 'petalwidthcm': '1.500000000000000000', 'species': 'Iris-versicolor'}, {'id': '68', 'sepallengthcm': '5.800000000000000000', 'sepalwidthcm': '2.700000000000000000', 'petallengthcm': '4.100000000000000000', 'petalwidthcm': '1.000000000000000000', 'species': 'Iris-versicolor'}, {'id': '69', 'sepallengthcm': '6.200000000000000000', 'sepalwidthcm': '2.200000000000000000', 'petallengthcm': '4.500000000000000000', 'petalwidthcm': '1.500000000000000000', 'species': 'Iris-versicolor'}, {'id': '70', 'sepallengthcm': '5.600000000000000000', 'sepalwidthcm': '2.500000000000000000', 'petallengthcm': '3.900000000000000000', 'petalwidthcm': '1.100000000000000000', 'species': 'Iris-versicolor'}, {'id': '71', 'sepallengthcm': '5.900000000000000000', 'sepalwidthcm': '3.200000000000000000', 'petallengthcm': '4.800000000000000000', 'petalwidthcm': '1.800000000000000000', 'species': 'Iris-versicolor'}, {'id': '72', 'sepallengthcm': '6.100000000000000000', 'sepalwidthcm': '2.800000000000000000', 'petallengthcm': '4.000000000000000000', 'petalwidthcm': '1.300000000000000000', 'species': 'Iris-versicolor'}, {'id': '73', 'sepallengthcm': '6.300000000000000000', 'sepalwidthcm': '2.500000000000000000', 'petallengthcm': '4.900000000000000000', 'petalwidthcm': '1.500000000000000000', 'species': 'Iris-versicolor'}, {'id': '74', 'sepallengthcm': '6.100000000000000000', 'sepalwidthcm': '2.800000000000000000', 'petallengthcm': '4.700000000000000000', 'petalwidthcm': '1.200000000000000000', 'species': 'Iris-versicolor'}, {'id': '75', 'sepallengthcm': '6.400000000000000000', 'sepalwidthcm': '2.900000000000000000', 'petallengthcm': '4.300000000000000000', 'petalwidthcm': '1.300000000000000000', 'species': 'Iris-versicolor'}, {'id': '76', 'sepallengthcm': '6.600000000000000000', 'sepalwidthcm': '3.000000000000000000', 'petallengthcm': '4.400000000000000000', 'petalwidthcm': '1.400000000000000000', 'species': 'Iris-versicolor'}, {'id': '77', 'sepallengthcm': '6.800000000000000000', 'sepalwidthcm': '2.800000000000000000', 'petallengthcm': '4.800000000000000000', 'petalwidthcm': '1.400000000000000000', 'species': 'Iris-versicolor'}, {'id': '78', 'sepallengthcm': '6.700000000000000000', 'sepalwidthcm': '3.000000000000000000', 'petallengthcm': '5.000000000000000000', 'petalwidthcm': '1.700000000000000000', 'species': 'Iris-versicolor'}, {'id': '79', 'sepallengthcm': '6.000000000000000000', 'sepalwidthcm': '2.900000000000000000', 'petallengthcm': '4.500000000000000000', 'petalwidthcm': '1.500000000000000000', 'species': 'Iris-versicolor'}, {'id': '80', 'sepallengthcm': '5.700000000000000000', 'sepalwidthcm': '2.600000000000000000', 'petallengthcm': '3.500000000000000000', 'petalwidthcm': '1.000000000000000000', 'species': 'Iris-versicolor'}, {'id': '81', 'sepallengthcm': '5.500000000000000000', 'sepalwidthcm': '2.400000000000000000', 'petallengthcm': '3.800000000000000000', 'petalwidthcm': '1.100000000000000000', 'species': 'Iris-versicolor'}, {'id': '82', 'sepallengthcm': '5.500000000000000000', 'sepalwidthcm': '2.400000000000000000', 'petallengthcm': '3.700000000000000000', 'petalwidthcm': '1.000000000000000000', 'species': 'Iris-versicolor'}, {'id': '83', 'sepallengthcm': '5.800000000000000000', 'sepalwidthcm': '2.700000000000000000', 'petallengthcm': '3.900000000000000000', 'petalwidthcm': '1.200000000000000000', 'species': 'Iris-versicolor'}, {'id': '84', 'sepallengthcm': '6.000000000000000000', 'sepalwidthcm': '2.700000000000000000', 'petallengthcm': '5.100000000000000000', 'petalwidthcm': '1.600000000000000000', 'species': 'Iris-versicolor'}, {'id': '85', 'sepallengthcm': '5.400000000000000000', 'sepalwidthcm': '3.000000000000000000', 'petallengthcm': '4.500000000000000000', 'petalwidthcm': '1.500000000000000000', 'species': 'Iris-versicolor'}, {'id': '86', 'sepallengthcm': '6.000000000000000000', 'sepalwidthcm': '3.400000000000000000', 'petallengthcm': '4.500000000000000000', 'petalwidthcm': '1.600000000000000000', 'species': 'Iris-versicolor'}, {'id': '87', 'sepallengthcm': '6.700000000000000000', 'sepalwidthcm': '3.100000000000000000', 'petallengthcm': '4.700000000000000000', 'petalwidthcm': '1.500000000000000000', 'species': 'Iris-versicolor'}, {'id': '88', 'sepallengthcm': '6.300000000000000000', 'sepalwidthcm': '2.300000000000000000', 'petallengthcm': '4.400000000000000000', 'petalwidthcm': '1.300000000000000000', 'species': 'Iris-versicolor'}, {'id': '89', 'sepallengthcm': '5.600000000000000000', 'sepalwidthcm': '3.000000000000000000', 'petallengthcm': '4.100000000000000000', 'petalwidthcm': '1.300000000000000000', 'species': 'Iris-versicolor'}, {'id': '90', 'sepallengthcm': '5.500000000000000000', 'sepalwidthcm': '2.500000000000000000', 'petallengthcm': '4.000000000000000000', 'petalwidthcm': '1.300000000000000000', 'species': 'Iris-versicolor'}, {'id': '91', 'sepallengthcm': '5.500000000000000000', 'sepalwidthcm': '2.600000000000000000', 'petallengthcm': '4.400000000000000000', 'petalwidthcm': '1.200000000000000000', 'species': 'Iris-versicolor'}, {'id': '92', 'sepallengthcm': '6.100000000000000000', 'sepalwidthcm': '3.000000000000000000', 'petallengthcm': '4.600000000000000000', 'petalwidthcm': '1.400000000000000000', 'species': 'Iris-versicolor'}, {'id': '93', 'sepallengthcm': '5.800000000000000000', 'sepalwidthcm': '2.600000000000000000', 'petallengthcm': '4.000000000000000000', 'petalwidthcm': '1.200000000000000000', 'species': 'Iris-versicolor'}, {'id': '94', 'sepallengthcm': '5.000000000000000000', 'sepalwidthcm': '2.300000000000000000', 'petallengthcm': '3.300000000000000000', 'petalwidthcm': '1.000000000000000000', 'species': 'Iris-versicolor'}, {'id': '95', 'sepallengthcm': '5.600000000000000000', 'sepalwidthcm': '2.700000000000000000', 'petallengthcm': '4.200000000000000000', 'petalwidthcm': '1.300000000000000000', 'species': 'Iris-versicolor'}, {'id': '96', 'sepallengthcm': '5.700000000000000000', 'sepalwidthcm': '3.000000000000000000', 'petallengthcm': '4.200000000000000000', 'petalwidthcm': '1.200000000000000000', 'species': 'Iris-versicolor'}, {'id': '97', 'sepallengthcm': '5.700000000000000000', 'sepalwidthcm': '2.900000000000000000', 'petallengthcm': '4.200000000000000000', 'petalwidthcm': '1.300000000000000000', 'species': 'Iris-versicolor'}, {'id': '98', 'sepallengthcm': '6.200000000000000000', 'sepalwidthcm': '2.900000000000000000', 'petallengthcm': '4.300000000000000000', 'petalwidthcm': '1.300000000000000000', 'species': 'Iris-versicolor'}, {'id': '99', 'sepallengthcm': '5.100000000000000000', 'sepalwidthcm': '2.500000000000000000', 'petallengthcm': '3.000000000000000000', 'petalwidthcm': '1.100000000000000000', 'species': 'Iris-versicolor'}, {'id': '100', 'sepallengthcm': '5.700000000000000000', 'sepalwidthcm': '2.800000000000000000', 'petallengthcm': '4.100000000000000000', 'petalwidthcm': '1.300000000000000000', 'species': 'Iris-versicolor'}, {'id': '101', 'sepallengthcm': '6.300000000000000000', 'sepalwidthcm': '3.300000000000000000', 'petallengthcm': '6.000000000000000000', 'petalwidthcm': '2.500000000000000000', 'species': 'Iris-virginica'}, {'id': '102', 'sepallengthcm': '5.800000000000000000', 'sepalwidthcm': '2.700000000000000000', 'petallengthcm': '5.100000000000000000', 'petalwidthcm': '1.900000000000000000', 'species': 'Iris-virginica'}, {'id': '103', 'sepallengthcm': '7.100000000000000000', 'sepalwidthcm': '3.000000000000000000', 'petallengthcm': '5.900000000000000000', 'petalwidthcm': '2.100000000000000000', 'species': 'Iris-virginica'}, {'id': '104', 'sepallengthcm': '6.300000000000000000', 'sepalwidthcm': '2.900000000000000000', 'petallengthcm': '5.600000000000000000', 'petalwidthcm': '1.800000000000000000', 'species': 'Iris-virginica'}, {'id': '105', 'sepallengthcm': '6.500000000000000000', 'sepalwidthcm': '3.000000000000000000', 'petallengthcm': '5.800000000000000000', 'petalwidthcm': '2.200000000000000000', 'species': 'Iris-virginica'}, {'id': '106', 'sepallengthcm': '7.600000000000000000', 'sepalwidthcm': '3.000000000000000000', 'petallengthcm': '6.600000000000000000', 'petalwidthcm': '2.100000000000000000', 'species': 'Iris-virginica'}, {'id': '107', 'sepallengthcm': '4.900000000000000000', 'sepalwidthcm': '2.500000000000000000', 'petallengthcm': '4.500000000000000000', 'petalwidthcm': '1.700000000000000000', 'species': 'Iris-virginica'}, {'id': '108', 'sepallengthcm': '7.300000000000000000', 'sepalwidthcm': '2.900000000000000000', 'petallengthcm': '6.300000000000000000', 'petalwidthcm': '1.800000000000000000', 'species': 'Iris-virginica'}, {'id': '109', 'sepallengthcm': '6.700000000000000000', 'sepalwidthcm': '2.500000000000000000', 'petallengthcm': '5.800000000000000000', 'petalwidthcm': '1.800000000000000000', 'species': 'Iris-virginica'}, {'id': '110', 'sepallengthcm': '7.200000000000000000', 'sepalwidthcm': '3.600000000000000000', 'petallengthcm': '6.100000000000000000', 'petalwidthcm': '2.500000000000000000', 'species': 'Iris-virginica'}, {'id': '111', 'sepallengthcm': '6.500000000000000000', 'sepalwidthcm': '3.200000000000000000', 'petallengthcm': '5.100000000000000000', 'petalwidthcm': '2.000000000000000000', 'species': 'Iris-virginica'}, {'id': '112', 'sepallengthcm': '6.400000000000000000', 'sepalwidthcm': '2.700000000000000000', 'petallengthcm': '5.300000000000000000', 'petalwidthcm': '1.900000000000000000', 'species': 'Iris-virginica'}, {'id': '113', 'sepallengthcm': '6.800000000000000000', 'sepalwidthcm': '3.000000000000000000', 'petallengthcm': '5.500000000000000000', 'petalwidthcm': '2.100000000000000000', 'species': 'Iris-virginica'}, {'id': '114', 'sepallengthcm': '5.700000000000000000', 'sepalwidthcm': '2.500000000000000000', 'petallengthcm': '5.000000000000000000', 'petalwidthcm': '2.000000000000000000', 'species': 'Iris-virginica'}, {'id': '115', 'sepallengthcm': '5.800000000000000000', 'sepalwidthcm': '2.800000000000000000', 'petallengthcm': '5.100000000000000000', 'petalwidthcm': '2.400000000000000000', 'species': 'Iris-virginica'}, {'id': '116', 'sepallengthcm': '6.400000000000000000', 'sepalwidthcm': '3.200000000000000000', 'petallengthcm': '5.300000000000000000', 'petalwidthcm': '2.300000000000000000', 'species': 'Iris-virginica'}, {'id': '117', 'sepallengthcm': '6.500000000000000000', 'sepalwidthcm': '3.000000000000000000', 'petallengthcm': '5.500000000000000000', 'petalwidthcm': '1.800000000000000000', 'species': 'Iris-virginica'}, {'id': '118', 'sepallengthcm': '7.700000000000000000', 'sepalwidthcm': '3.800000000000000000', 'petallengthcm': '6.700000000000000000', 'petalwidthcm': '2.200000000000000000', 'species': 'Iris-virginica'}, {'id': '119', 'sepallengthcm': '7.700000000000000000', 'sepalwidthcm': '2.600000000000000000', 'petallengthcm': '6.900000000000000000', 'petalwidthcm': '2.300000000000000000', 'species': 'Iris-virginica'}, {'id': '120', 'sepallengthcm': '6.000000000000000000', 'sepalwidthcm': '2.200000000000000000', 'petallengthcm': '5.000000000000000000', 'petalwidthcm': '1.500000000000000000', 'species': 'Iris-virginica'}, {'id': '121', 'sepallengthcm': '6.900000000000000000', 'sepalwidthcm': '3.200000000000000000', 'petallengthcm': '5.700000000000000000', 'petalwidthcm': '2.300000000000000000', 'species': 'Iris-virginica'}, {'id': '122', 'sepallengthcm': '5.600000000000000000', 'sepalwidthcm': '2.800000000000000000', 'petallengthcm': '4.900000000000000000', 'petalwidthcm': '2.000000000000000000', 'species': 'Iris-virginica'}, {'id': '123', 'sepallengthcm': '7.700000000000000000', 'sepalwidthcm': '2.800000000000000000', 'petallengthcm': '6.700000000000000000', 'petalwidthcm': '2.000000000000000000', 'species': 'Iris-virginica'}, {'id': '124', 'sepallengthcm': '6.300000000000000000', 'sepalwidthcm': '2.700000000000000000', 'petallengthcm': '4.900000000000000000', 'petalwidthcm': '1.800000000000000000', 'species': 'Iris-virginica'}, {'id': '125', 'sepallengthcm': '6.700000000000000000', 'sepalwidthcm': '3.300000000000000000', 'petallengthcm': '5.700000000000000000', 'petalwidthcm': '2.100000000000000000', 'species': 'Iris-virginica'}, {'id': '126', 'sepallengthcm': '7.200000000000000000', 'sepalwidthcm': '3.200000000000000000', 'petallengthcm': '6.000000000000000000', 'petalwidthcm': '1.800000000000000000', 'species': 'Iris-virginica'}, {'id': '127', 'sepallengthcm': '6.200000000000000000', 'sepalwidthcm': '2.800000000000000000', 'petallengthcm': '4.800000000000000000', 'petalwidthcm': '1.800000000000000000', 'species': 'Iris-virginica'}, {'id': '128', 'sepallengthcm': '6.100000000000000000', 'sepalwidthcm': '3.000000000000000000', 'petallengthcm': '4.900000000000000000', 'petalwidthcm': '1.800000000000000000', 'species': 'Iris-virginica'}, {'id': '129', 'sepallengthcm': '6.400000000000000000', 'sepalwidthcm': '2.800000000000000000', 'petallengthcm': '5.600000000000000000', 'petalwidthcm': '2.100000000000000000', 'species': 'Iris-virginica'}, {'id': '130', 'sepallengthcm': '7.200000000000000000', 'sepalwidthcm': '3.000000000000000000', 'petallengthcm': '5.800000000000000000', 'petalwidthcm': '1.600000000000000000', 'species': 'Iris-virginica'}, {'id': '131', 'sepallengthcm': '7.400000000000000000', 'sepalwidthcm': '2.800000000000000000', 'petallengthcm': '6.100000000000000000', 'petalwidthcm': '1.900000000000000000', 'species': 'Iris-virginica'}, {'id': '132', 'sepallengthcm': '7.900000000000000000', 'sepalwidthcm': '3.800000000000000000', 'petallengthcm': '6.400000000000000000', 'petalwidthcm': '2.000000000000000000', 'species': 'Iris-virginica'}, {'id': '133', 'sepallengthcm': '6.400000000000000000', 'sepalwidthcm': '2.800000000000000000', 'petallengthcm': '5.600000000000000000', 'petalwidthcm': '2.200000000000000000', 'species': 'Iris-virginica'}, {'id': '134', 'sepallengthcm': '6.300000000000000000', 'sepalwidthcm': '2.800000000000000000', 'petallengthcm': '5.100000000000000000', 'petalwidthcm': '1.500000000000000000', 'species': 'Iris-virginica'}, {'id': '135', 'sepallengthcm': '6.100000000000000000', 'sepalwidthcm': '2.600000000000000000', 'petallengthcm': '5.600000000000000000', 'petalwidthcm': '1.400000000000000000', 'species': 'Iris-virginica'}, {'id': '136', 'sepallengthcm': '7.700000000000000000', 'sepalwidthcm': '3.000000000000000000', 'petallengthcm': '6.100000000000000000', 'petalwidthcm': '2.300000000000000000', 'species': 'Iris-virginica'}, {'id': '137', 'sepallengthcm': '6.300000000000000000', 'sepalwidthcm': '3.400000000000000000', 'petallengthcm': '5.600000000000000000', 'petalwidthcm': '2.400000000000000000', 'species': 'Iris-virginica'}, {'id': '138', 'sepallengthcm': '6.400000000000000000', 'sepalwidthcm': '3.100000000000000000', 'petallengthcm': '5.500000000000000000', 'petalwidthcm': '1.800000000000000000', 'species': 'Iris-virginica'}, {'id': '139', 'sepallengthcm': '6.000000000000000000', 'sepalwidthcm': '3.000000000000000000', 'petallengthcm': '4.800000000000000000', 'petalwidthcm': '1.800000000000000000', 'species': 'Iris-virginica'}, {'id': '140', 'sepallengthcm': '6.900000000000000000', 'sepalwidthcm': '3.100000000000000000', 'petallengthcm': '5.400000000000000000', 'petalwidthcm': '2.100000000000000000', 'species': 'Iris-virginica'}, {'id': '141', 'sepallengthcm': '6.700000000000000000', 'sepalwidthcm': '3.100000000000000000', 'petallengthcm': '5.600000000000000000', 'petalwidthcm': '2.400000000000000000', 'species': 'Iris-virginica'}, {'id': '142', 'sepallengthcm': '6.900000000000000000', 'sepalwidthcm': '3.100000000000000000', 'petallengthcm': '5.100000000000000000', 'petalwidthcm': '2.300000000000000000', 'species': 'Iris-virginica'}, {'id': '143', 'sepallengthcm': '5.800000000000000000', 'sepalwidthcm': '2.700000000000000000', 'petallengthcm': '5.100000000000000000', 'petalwidthcm': '1.900000000000000000', 'species': 'Iris-virginica'}, {'id': '144', 'sepallengthcm': '6.800000000000000000', 'sepalwidthcm': '3.200000000000000000', 'petallengthcm': '5.900000000000000000', 'petalwidthcm': '2.300000000000000000', 'species': 'Iris-virginica'}, {'id': '145', 'sepallengthcm': '6.700000000000000000', 'sepalwidthcm': '3.300000000000000000', 'petallengthcm': '5.700000000000000000', 'petalwidthcm': '2.500000000000000000', 'species': 'Iris-virginica'}, {'id': '146', 'sepallengthcm': '6.700000000000000000', 'sepalwidthcm': '3.000000000000000000', 'petallengthcm': '5.200000000000000000', 'petalwidthcm': '2.300000000000000000', 'species': 'Iris-virginica'}, {'id': '147', 'sepallengthcm': '6.300000000000000000', 'sepalwidthcm': '2.500000000000000000', 'petallengthcm': '5.000000000000000000', 'petalwidthcm': '1.900000000000000000', 'species': 'Iris-virginica'}, {'id': '148', 'sepallengthcm': '6.500000000000000000', 'sepalwidthcm': '3.000000000000000000', 'petallengthcm': '5.200000000000000000', 'petalwidthcm': '2.000000000000000000', 'species': 'Iris-virginica'}, {'id': '149', 'sepallengthcm': '6.200000000000000000', 'sepalwidthcm': '3.400000000000000000', 'petallengthcm': '5.400000000000000000', 'petalwidthcm': '2.300000000000000000', 'species': 'Iris-virginica'}, {'id': '150', 'sepallengthcm': '5.900000000000000000', 'sepalwidthcm': '3.000000000000000000', 'petallengthcm': '5.100000000000000000', 'petalwidthcm': '1.800000000000000000', 'species': 'Iris-virginica'}]\n",
      "<built-in method count of list object at 0x0000022ADD5443C0>\n"
     ]
    }
   ],
   "source": [
    "# API endpoint URL\n",
    "API_URL = \"http://localhost/api/database/c3a42d17-42b7-43c9-a504-2363fb4c9c8d/table/5315e7da-64fb-4fdb-b493-95b4138c765f/data?size=100000&page=0\"\n",
    "\n",
    "# Define the headers\n",
    "headers = {\n",
    "    \"Accept\": \"application/json\"  # Specify the expected response format\n",
    "}\n",
    "\n",
    "try:\n",
    "    # Send a GET request to the API with the Accept header\n",
    "    response = requests.get(API_URL, headers=headers)\n",
    "\n",
    "    # Check if the request was successful\n",
    "    if response.status_code == 200:\n",
    "        # Parse the JSON response\n",
    "        dataset = response.json()\n",
    "        print(\"API Response:\", dataset)\n",
    "        print( dataset.count)\n",
    "    else:\n",
    "        print(f\"Error: Received status code {response.status_code}\")\n",
    "        print(\"Response content:\", response.text)\n",
    "       \n",
    "\n",
    "except requests.exceptions.RequestException as e:\n",
    "    print(f\"Request failed: {e}\")\n"
   ]
  },
  {
   "cell_type": "markdown",
   "id": "09557f94-325c-4bd6-882a-069a9e3c5ecd",
   "metadata": {},
   "source": [
    "replacing dynamic fetching of data When and if DBREPO isnt running "
   ]
  },
  {
   "cell_type": "code",
   "execution_count": 6,
   "id": "ce6e020d-cb80-49ec-8bcc-687b1e08885c",
   "metadata": {},
   "outputs": [],
   "source": [
    "# 1. Read the JSON file id the API isnt available this data is saved locally but the data is from the API endpoint\n",
    "with open(\"iris_data.json\", \"r\") as f:\n",
    "    dataset = json.load(f)\n"
   ]
  },
  {
   "cell_type": "markdown",
   "id": "a6c6007a-2126-4b1a-90ee-3326eb39a362",
   "metadata": {},
   "source": [
    "Metadata fetching from db repo API CALLS"
   ]
  },
  {
   "cell_type": "markdown",
   "id": "9165f478-a44e-4125-8929-a8d77fdcb4c5",
   "metadata": {},
   "source": [
    "METADATA ON DATABASE LEVEL"
   ]
  },
  {
   "cell_type": "code",
   "execution_count": 7,
   "id": "abe912e7-bf9b-4bbd-8e43-6046745ade3f",
   "metadata": {
    "scrolled": true
   },
   "outputs": [],
   "source": [
    "\n",
    "DB_API = \"http://localhost/api/database/{db_id}\"\n",
    "\n",
    "def fetch_db_metadata(db_id: str) -> dict:\n",
    "    url = DB_API.format(db_id=db_id)\n",
    "    try:\n",
    "        resp = requests.get(url)\n",
    "        resp.raise_for_status()\n",
    "        return resp.json()\n",
    "    except requests.exceptions.RequestException as e:\n",
    "        print(f\"[⚠️ Error] Failed to fetch DB metadata for {db_id}: {e}\")\n",
    "        return {}  # or return None, depending on what your app prefers\n",
    "\n",
    "\n",
    "def log_db_metadata(db_meta: dict):\n",
    "    # 1) Core DB fields as params, defaulting to empty string if key is missing\n",
    "    mlflow.log_param(\"database.id\",          db_meta.get(\"id\", \"\"))\n",
    "    mlflow.log_param(\"database.name\",        db_meta.get(\"name\", \"\"))\n",
    "    mlflow.log_param(\"database.description\", db_meta.get(\"description\", \"\"))\n",
    "\n",
    "    # 2) Handle nested keys safely for owner\n",
    "    try:\n",
    "        owner = db_meta.get(\"tables\", [{}])[0].get(\"owner\", {}).get(\"username\", \"\")\n",
    "    except Exception:\n",
    "        owner = \"\"\n",
    "    mlflow.log_param(\"database.owner\", owner)\n"
   ]
  },
  {
   "cell_type": "markdown",
   "id": "53cbd7eb-0d97-4326-9bfc-f6fcee14ef9c",
   "metadata": {},
   "source": [
    "MATADATA FROM: <ns0:OAI-PMH xmlns:ns0=\"http://www.openarchives.org/OAI/2.0/\" xmlns:xsi=\"http://www.w3.org/2001/XMLSchema-instance\" xsi:schemaLocation=\"http://www.openarchives.org/OAI/2.0/ http://www.openarchives.org/OAI/2.0/OAI-PMH.xsd\">"
   ]
  },
  {
   "cell_type": "code",
   "execution_count": 8,
   "id": "296f307e-e01b-477a-9406-92cab9f2d7bf",
   "metadata": {
    "scrolled": true
   },
   "outputs": [
    {
     "name": "stdout",
     "output_type": "stream",
     "text": [
      "<ns0:OAI-PMH xmlns:ns0=\"http://www.openarchives.org/OAI/2.0/\" xmlns:xsi=\"http://www.w3.org/2001/XMLSchema-instance\" xsi:schemaLocation=\"http://www.openarchives.org/OAI/2.0/ http://www.openarchives.org/OAI/2.0/OAI-PMH.xsd\">\n",
      "    <ns0:responseDate>2025-04-25T11:13:30Z</ns0:responseDate>\n",
      "    <ns0:request verb=\"Identify\">https://localhost/api/oai</ns0:request>\n",
      "    <ns0:Identify>\n",
      "    <ns0:repositoryName>Database Repository</ns0:repositoryName>\n",
      "    <ns0:baseURL>http://localhost</ns0:baseURL>\n",
      "    <ns0:protocolVersion>2.0</ns0:protocolVersion>\n",
      "    <ns0:adminEmail>noreply@localhost</ns0:adminEmail>\n",
      "    <ns0:earliestDatestamp />\n",
      "    <ns0:deletedRecord>persistent</ns0:deletedRecord>\n",
      "    <ns0:granularity>YYYY-MM-DDThh:mm:ssZ</ns0:granularity>\n",
      "</ns0:Identify>\n",
      "</ns0:OAI-PMH>\n"
     ]
    }
   ],
   "source": [
    "# 1) Fetch your database metadata\n",
    "db_url = \"http://localhost/api/database/c3a42d17-42b7-43c9-a504-2363fb4c9c8d\"\n",
    "db_resp = requests.get(db_url)\n",
    "db_resp.raise_for_status()\n",
    "db_data = db_resp.json()\n",
    "\n",
    "db_id  = db_data[\"id\"]\n",
    "tbl_id = db_data[\"tables\"][0][\"id\"]\n",
    "\n",
    "# 2) Build the OAI-PMH URL, URL-encoding the `set` param\n",
    "set_param   = f\"Databases/{db_id}/Tables/{tbl_id}\"\n",
    "encoded_set = urllib.parse.quote(set_param, safe=\"\")\n",
    "\n",
    "oai_url = (\n",
    "    \"http://localhost/api/oai\"\n",
    "    f\"?metadataPrefix=oai_dc\"\n",
    "    f\"&from=2025-03-01\"\n",
    "    f\"&until=2025-03-07\"\n",
    "    f\"&set={encoded_set}\"\n",
    "    f\"&resumptionToken=string\"\n",
    "    f\"&fromDate=2025-03-07T19%3A35%3A51.476Z\"\n",
    "    f\"&untilDate=2025-03-07T19%3A35%3A51.476Z\"\n",
    "    f\"&parametersString=string\"\n",
    ")\n",
    "\n",
    "# 3) Call and parse\n",
    "try:\n",
    "    resp = requests.get(oai_url)\n",
    "    resp.raise_for_status()\n",
    "\n",
    "    if \"xml\" in resp.headers.get(\"Content-Type\", \"\"):\n",
    "        root = ET.fromstring(resp.text)\n",
    "        print(ET.tostring(root, encoding=\"utf-8\").decode())\n",
    "    else:\n",
    "        print(\"Non-XML response:\", resp.headers.get(\"Content-Type\"), resp.text)\n",
    "\n",
    "except requests.exceptions.RequestException as e:\n",
    "    print(\"Request failed:\", e)\n"
   ]
  },
  {
   "cell_type": "code",
   "execution_count": 9,
   "id": "61cc99ab-4a5c-4142-8725-e7c940673ffd",
   "metadata": {},
   "outputs": [],
   "source": [
    "# …after you fetch & parse your XML into `root`…\n",
    "ns = {\"oai\": \"http://www.openarchives.org/OAI/2.0/\"}\n",
    "\n",
    "repo_name   = root.findtext(\"oai:Identify/oai:repositoryName\", namespaces=ns) or \"N/A\"\n",
    "base_url    = root.findtext(\"oai:Identify/oai:baseURL\", namespaces=ns) or \"N/A\"\n",
    "protocol    = root.findtext(\"oai:Identify/oai:protocolVersion\", namespaces=ns) or \"N/A\"\n",
    "admin_email = root.findtext(\"oai:Identify/oai:adminEmail\", namespaces=ns) or \"N/A\"\n",
    "gran        = root.findtext(\"oai:Identify/oai:granularity\", namespaces=ns) or \"N/A\"\n"
   ]
  },
  {
   "cell_type": "markdown",
   "id": "74214aa7-c12f-414e-9feb-094a366b855b",
   "metadata": {},
   "source": [
    "METADATA ON History Logging"
   ]
  },
  {
   "cell_type": "code",
   "execution_count": 10,
   "id": "e9c74e9b-c9b0-4b4a-82eb-2a6e56456508",
   "metadata": {},
   "outputs": [
    {
     "name": "stdout",
     "output_type": "stream",
     "text": [
      "API Response: [{'timestamp': '2025-04-23T20:42:29.501Z', 'event': 'insert', 'total': 150}]\n"
     ]
    }
   ],
   "source": [
    "url = \"http://localhost/api/database/c3a42d17-42b7-43c9-a504-2363fb4c9c8d/table/5315e7da-64fb-4fdb-b493-95b4138c765f/history\"\n",
    "\n",
    "try:\n",
    "    # Send a GET request to the API\n",
    "    response = requests.get(url)\n",
    "\n",
    "    # Check if the request was successful\n",
    "    if response.status_code == 200:\n",
    "        # Parse the JSON response\n",
    "        data = response.json()\n",
    "        print(\"API Response:\", data)\n",
    "    else:\n",
    "        print(f\"Error: Received status code {response.status_code}\")\n",
    "        print(\"Response content:\", response.text)\n",
    "\n",
    "except requests.exceptions.RequestException as e:\n",
    "    print(f\"Request failed: {e}\")"
   ]
  },
  {
   "cell_type": "code",
   "execution_count": 11,
   "id": "3630c954-5ad2-4759-b9a0-fa6e20e184ef",
   "metadata": {},
   "outputs": [],
   "source": [
    "first   = data[0]\n",
    "last    = data[-1]\n",
    "count_0 = first[\"total\"]    # e.g. 149\n",
    "count_N = last[\"total\"]     # e.g. 149 again, or changed\n",
    "ts_last = last[\"timestamp\"]  # e.g. \"2025-03-28T17:42:38.058Z\"\n",
    "n_insert = sum(1 for ev in data if ev[\"event\"]==\"insert\")\n",
    "n_delete = sum(1 for ev in data if ev[\"event\"]==\"delete\")\n",
    "history = response.json()\n",
    "first, last = history[0], history[-1]\n",
    "\n",
    "# summary stats\n",
    "count_start = first[\"total\"]\n",
    "count_end   = last[\"total\"]\n",
    "ts_last     = last[\"timestamp\"]\n",
    "n_insert    = sum(1 for ev in history if ev[\"event\"]==\"insert\")\n",
    "n_delete    = sum(1 for ev in history if ev[\"event\"]==\"delete\")"
   ]
  },
  {
   "cell_type": "markdown",
   "id": "1afd5dad-72d5-42e1-a0fa-b7bd3455937b",
   "metadata": {},
   "source": [
    "Dataset metadata fetching from ZONEDO or any public dataset repositories to gain more details"
   ]
  },
  {
   "cell_type": "code",
   "execution_count": 12,
   "id": "a7fa122a-c6e5-4b38-842a-dc81590a1f46",
   "metadata": {},
   "outputs": [],
   "source": [
    "\n",
    "def fetch_and_log_dataset_metadata_nested(doi_url: str):\n",
    "    # 1) fetch the CSL+JSON\n",
    "    headers = {\"Accept\": \"application/vnd.citationstyles.csl+json\"}\n",
    "    r = requests.get(doi_url, headers=headers); r.raise_for_status()\n",
    "    meta = r.json()\n",
    "\n",
    "    # 2) pull out what you care about\n",
    "    authors = [f\"{a.get('family','')} {a.get('given','')}\".strip()\n",
    "               for a in meta.get(\"author\", [])]\n",
    "    pubdate = \"-\".join(str(x) for x in meta.get(\"issued\",{}).get(\"date-parts\",[[]])[0])\n",
    "\n",
    "    # 3) assemble one nested dict\n",
    "    public_datasetRepository_metadata = {\n",
    "      \"zenodo\": {\n",
    "        \"title\":     meta.get(\"title\"),\n",
    "        \"doi\":       meta.get(\"DOI\"),\n",
    "        \"authors\":   authors,\n",
    "        \"published\": pubdate,\n",
    "        \"publisher\": meta.get(\"publisher\"),\n",
    "      },\n",
    "   \n",
    "    }\n",
    "\n",
    "      # 4) log it as a single JSON artifact\n",
    "    mlflow.log_dict(public_datasetRepository_metadata,\n",
    "                \"public_datasetRepository_metadata.json\")\n",
    "\n",
    "    # 2) Flatten and log the important bits as params:\n",
    "    z = public_datasetRepository_metadata[\"zenodo\"]\n",
    "    \n",
    "    mlflow.log_param(\"dataset.title\",     z[\"title\"])\n",
    "    mlflow.log_param(\"dataset.doi\",       z[\"doi\"])\n",
    "    mlflow.log_param(\"dataset.authors\",   json.dumps(z[\"authors\"]))\n",
    "    mlflow.log_param(\"dataset.published\", z[\"published\"])\n",
    "    mlflow.log_param(\"dataset.publisher\", z[\"publisher\"])\n",
    "    \n",
    "   "
   ]
  },
  {
   "cell_type": "markdown",
   "id": "58c92e13-eb57-418d-b354-83777f88aa98",
   "metadata": {},
   "source": [
    "##################################################################\n",
    "# DATA PREPROCESSING STEPS\n",
    "###################################################################"
   ]
  },
  {
   "cell_type": "markdown",
   "id": "9832d0df-af0a-4eee-90d0-fab926e03e85",
   "metadata": {},
   "source": [
    "STEP 1: LOAD DATASET"
   ]
  },
  {
   "cell_type": "code",
   "execution_count": 13,
   "id": "77402d80-22d1-4bed-9489-768958c3e9fa",
   "metadata": {},
   "outputs": [],
   "source": [
    "# ── 2) Load into a DataFrame ─────────────────────────────────────────────────\n",
    "df = pd.DataFrame(dataset)"
   ]
  },
  {
   "cell_type": "markdown",
   "id": "6862e341-3ea1-43f6-a1ac-9a51188fe614",
   "metadata": {},
   "source": [
    "STEP2: seperate Dependent and Independent variables and drop unnecessary columns like ID"
   ]
  },
  {
   "cell_type": "code",
   "execution_count": 14,
   "id": "01309a7b-53d2-4df4-b334-0f0db8b03333",
   "metadata": {},
   "outputs": [
    {
     "name": "stdout",
     "output_type": "stream",
     "text": [
      "Shapes: (150, 4) (150,)\n"
     ]
    }
   ],
   "source": [
    "target_col = df.columns[-1]      # e.g. \"species\"\n",
    "\n",
    "# 2) extract y as the Series of labels\n",
    "y = df[target_col]               # length == n_samples\n",
    "\n",
    "# 3) build X by dropping just that one column\n",
    "X = df.drop(columns=[target_col])\n",
    "\n",
    "# 4) drop any ID column (case-insensitive)\n",
    "id_cols = [c for c in X.columns if c.lower() == \"id\"]\n",
    "if id_cols:\n",
    "    X = X.drop(columns=id_cols)\n",
    "\n",
    "# 5) coerce numeric where possible\n",
    "for c in X.columns:\n",
    "    try:\n",
    "        X[c] = pd.to_numeric(X[c])\n",
    "    except Exception:\n",
    "        pass\n",
    "\n",
    "print(\"Shapes:\", X.shape, y.shape)\n"
   ]
  },
  {
   "cell_type": "markdown",
   "id": "367d6256-a30a-4f91-bc64-f20966d828ab",
   "metadata": {},
   "source": [
    "STEP3: Label Encoding as the target values are class names"
   ]
  },
  {
   "cell_type": "code",
   "execution_count": 15,
   "id": "11f5126d-6a03-48c6-9ecf-39ed0d43688c",
   "metadata": {},
   "outputs": [
    {
     "name": "stdout",
     "output_type": "stream",
     "text": [
      "Classes: ['Iris-setosa' 'Iris-versicolor' 'Iris-virginica']\n"
     ]
    },
    {
     "data": {
      "text/plain": [
       "array([0, 0, 0, 0, 0, 0, 0, 0, 0, 0, 0, 0, 0, 0, 0, 0, 0, 0, 0, 0, 0, 0,\n",
       "       0, 0, 0, 0, 0, 0, 0, 0, 0, 0, 0, 0, 0, 0, 0, 0, 0, 0, 0, 0, 0, 0,\n",
       "       0, 0, 0, 0, 0, 0, 1, 1, 1, 1, 1, 1, 1, 1, 1, 1, 1, 1, 1, 1, 1, 1,\n",
       "       1, 1, 1, 1, 1, 1, 1, 1, 1, 1, 1, 1, 1, 1, 1, 1, 1, 1, 1, 1, 1, 1,\n",
       "       1, 1, 1, 1, 1, 1, 1, 1, 1, 1, 1, 1, 2, 2, 2, 2, 2, 2, 2, 2, 2, 2,\n",
       "       2, 2, 2, 2, 2, 2, 2, 2, 2, 2, 2, 2, 2, 2, 2, 2, 2, 2, 2, 2, 2, 2,\n",
       "       2, 2, 2, 2, 2, 2, 2, 2, 2, 2, 2, 2, 2, 2, 2, 2, 2, 2])"
      ]
     },
     "execution_count": 15,
     "metadata": {},
     "output_type": "execute_result"
    }
   ],
   "source": [
    "\n",
    "le = LabelEncoder()\n",
    "y = le.fit_transform(y)  \n",
    "\n",
    "# now y_enc is a 1d numpy array of ints 0,1,2\n",
    "print(\"Classes:\", le.classes_)  \n",
    "y"
   ]
  },
  {
   "cell_type": "code",
   "execution_count": 16,
   "id": "68d0a924-c65f-4a44-a5cc-bbb32d17e96f",
   "metadata": {},
   "outputs": [],
   "source": [
    "# ── 4) Cast feature columns to numeric where possible ─────────────────────────\n",
    "for col in X.columns:\n",
    "    try:\n",
    "        X[col] = pd.to_numeric(X[col])   # no errors=\"ignore\"\n",
    "    except ValueError:\n",
    "        # if it can’t be cast, just leave it as-is\n",
    "        pass\n"
   ]
  },
  {
   "cell_type": "code",
   "execution_count": 17,
   "id": "e17f39ce-3322-4626-83a6-079d304bbc04",
   "metadata": {},
   "outputs": [],
   "source": [
    "# ── 5) Drop any “id” column (case-insensitive) ────────────────────────────────\n",
    "dropped = [c for c in X.columns if c.lower() == \"id\"]\n",
    "X = X.drop(columns=dropped, errors=\"ignore\")"
   ]
  },
  {
   "cell_type": "markdown",
   "id": "6fcf2244-14dd-4e3d-b8cf-f7f3ba34f80f",
   "metadata": {},
   "source": [
    "# ============================\n",
    "# 📂 Setup MLflow\n",
    "# ============================"
   ]
  },
  {
   "cell_type": "code",
   "execution_count": 30,
   "id": "cbe91ec0-6447-4586-b7cc-2c1f74d4218f",
   "metadata": {},
   "outputs": [],
   "source": [
    "\n",
    "project_dir = os.getcwd()\n",
    "mlflow.set_tracking_uri(\"mlrunlogs/mlflow.db\")\n",
    "mlflow.set_experiment(\"RandomForest-Iris-CSV\")\n",
    "mlflow.sklearn.autolog(log_input_examples=False, log_model_signatures=True)\n"
   ]
  },
  {
   "cell_type": "markdown",
   "id": "af2c2c5f-cc36-41a3-9643-83ef95b9f55e",
   "metadata": {},
   "source": [
    "# ============================\n",
    "# 🔄 Git Commit Hash for previous commit for metadata\n",
    "# ============================"
   ]
  },
  {
   "cell_type": "code",
   "execution_count": 19,
   "id": "838dd233-25dc-4725-974d-4da89c257782",
   "metadata": {},
   "outputs": [],
   "source": [
    "\n",
    "repo_dir = \"C:/Users/reema/REPO\"\n",
    "previous_commit_repo = git.Repo(repo_dir)\n",
    "previous_commit_hash = previous_commit_repo.head.object.hexsha"
   ]
  },
  {
   "cell_type": "markdown",
   "id": "430d15ef-3432-4e45-88fb-b7048a5b10a9",
   "metadata": {},
   "source": [
    "# ============================\n",
    "# Make threadpoolctl safe so MLflow’s autologger won’t crash ───\n",
    "# ============================"
   ]
  },
  {
   "cell_type": "code",
   "execution_count": 20,
   "id": "9668451f-4352-4bdc-8b6b-bbe49074212a",
   "metadata": {},
   "outputs": [
    {
     "name": "stderr",
     "output_type": "stream",
     "text": [
      "2025/04/25 13:13:44 INFO mlflow.tracking.fluent: Autologging successfully enabled for statsmodels.\n"
     ]
    }
   ],
   "source": [
    "try:\n",
    "    import threadpoolctl\n",
    "    _orig = threadpoolctl.threadpool_info\n",
    "    def _safe_threadpool_info(*args, **kwargs):\n",
    "        try:\n",
    "            return _orig(*args, **kwargs)\n",
    "        except Exception:\n",
    "            return []\n",
    "    threadpoolctl.threadpool_info = _safe_threadpool_info\n",
    "except ImportError:\n",
    "    pass  # if threadpoolctl isn’t installed, autolog will skip unsupported versions\n",
    "\n",
    "# ─── 1) Enable generic autolog (will auto-patch sklearn under the hood) ───\n",
    "import mlflow\n",
    "mlflow.autolog(\n",
    "    log_input_examples=True,\n",
    "    log_model_signatures=True\n",
    ")"
   ]
  },
  {
   "cell_type": "markdown",
   "id": "9058319a-adba-4a6b-93e9-d17080c0594d",
   "metadata": {},
   "source": [
    "# ============================\n",
    "# 🚀 Start MLflow Run \n",
    "# ============================"
   ]
  },
  {
   "cell_type": "code",
   "execution_count": 21,
   "id": "14c62f08-a116-4060-9689-f69968e9f240",
   "metadata": {
    "scrolled": true
   },
   "outputs": [
    {
     "name": "stdout",
     "output_type": "stream",
     "text": [
      "\n",
      "📝 Justification for `n_estimators` (Hyperparameter configuration)\n"
     ]
    },
    {
     "name": "stdin",
     "output_type": "stream",
     "text": [
      "→ Why did you choose this value?  test\n"
     ]
    },
    {
     "name": "stdout",
     "output_type": "stream",
     "text": [
      "\n",
      "📝 Justification for `criterion` (Hyperparameter configuration)\n"
     ]
    },
    {
     "name": "stdin",
     "output_type": "stream",
     "text": [
      "→ Why did you choose this value?  test\n"
     ]
    },
    {
     "name": "stdout",
     "output_type": "stream",
     "text": [
      "\n",
      "📝 Justification for `max_depth` (Hyperparameter configuration)\n"
     ]
    },
    {
     "name": "stdin",
     "output_type": "stream",
     "text": [
      "→ Why did you choose this value?  test\n"
     ]
    },
    {
     "name": "stdout",
     "output_type": "stream",
     "text": [
      "\n",
      "📝 Justification for `min_samples_split` (Hyperparameter configuration)\n"
     ]
    },
    {
     "name": "stdin",
     "output_type": "stream",
     "text": [
      "→ Why did you choose this value?  test\n"
     ]
    },
    {
     "name": "stdout",
     "output_type": "stream",
     "text": [
      "\n",
      "📝 Justification for `min_samples_leaf` (Hyperparameter configuration)\n"
     ]
    },
    {
     "name": "stdin",
     "output_type": "stream",
     "text": [
      "→ Why did you choose this value?  test\n"
     ]
    },
    {
     "name": "stdout",
     "output_type": "stream",
     "text": [
      "\n",
      "📝 Justification for `max_features` (Hyperparameter configuration)\n"
     ]
    },
    {
     "name": "stdin",
     "output_type": "stream",
     "text": [
      "→ Why did you choose this value?  test\n"
     ]
    },
    {
     "name": "stdout",
     "output_type": "stream",
     "text": [
      "\n",
      "📝 Justification for `bootstrap` (Hyperparameter configuration)\n"
     ]
    },
    {
     "name": "stdin",
     "output_type": "stream",
     "text": [
      "→ Why did you choose this value?  test\n"
     ]
    },
    {
     "name": "stdout",
     "output_type": "stream",
     "text": [
      "\n",
      "📝 Justification for `oob_score` (Hyperparameter configuration)\n"
     ]
    },
    {
     "name": "stdin",
     "output_type": "stream",
     "text": [
      "→ Why did you choose this value?  test\n"
     ]
    },
    {
     "name": "stdout",
     "output_type": "stream",
     "text": [
      "\n",
      "📝 Justification for `class_weight` (Hyperparameter configuration)\n"
     ]
    },
    {
     "name": "stdin",
     "output_type": "stream",
     "text": [
      "→ Why did you choose this value?  test\n"
     ]
    },
    {
     "name": "stdout",
     "output_type": "stream",
     "text": [
      "\n",
      "📝 Justification for `random_state` (Hyperparameter configuration)\n"
     ]
    },
    {
     "name": "stdin",
     "output_type": "stream",
     "text": [
      "→ Why did you choose this value?  test\n"
     ]
    },
    {
     "name": "stdout",
     "output_type": "stream",
     "text": [
      "\n",
      "📝 Justification for `verbose` (Hyperparameter configuration)\n"
     ]
    },
    {
     "name": "stdin",
     "output_type": "stream",
     "text": [
      "→ Why did you choose this value?  test\n"
     ]
    },
    {
     "name": "stdout",
     "output_type": "stream",
     "text": [
      "\n",
      "📝 Justification for `n_jobs` (Hyperparameter configuration)\n"
     ]
    },
    {
     "name": "stdin",
     "output_type": "stream",
     "text": [
      "→ Why did you choose this value?  test\n"
     ]
    },
    {
     "name": "stdout",
     "output_type": "stream",
     "text": [
      "\n",
      "📝 Justification for `model_choice`\n"
     ]
    },
    {
     "name": "stdin",
     "output_type": "stream",
     "text": [
      "→ Why did you choose RandomForestClassifier for this task?  test\n"
     ]
    },
    {
     "name": "stdout",
     "output_type": "stream",
     "text": [
      "\n",
      "📝 Justification for `target_variable`\n"
     ]
    },
    {
     "name": "stdin",
     "output_type": "stream",
     "text": [
      "→ Why did you choose this column as the prediction target?  test\n"
     ]
    },
    {
     "name": "stdout",
     "output_type": "stream",
     "text": [
      "\n",
      "📝 Justification for `test_split`\n"
     ]
    },
    {
     "name": "stdin",
     "output_type": "stream",
     "text": [
      "→ Why this train/test ratio (e.g., 80/20)?  test\n"
     ]
    },
    {
     "name": "stdout",
     "output_type": "stream",
     "text": [
      "\n",
      "📝 Justification for `metric_choice`\n"
     ]
    },
    {
     "name": "stdin",
     "output_type": "stream",
     "text": [
      "→ Why accuracy/f1/ROC-AUC as your evaluation metric?  test\n"
     ]
    },
    {
     "name": "stdout",
     "output_type": "stream",
     "text": [
      "\n",
      "📝 Justification for `threshold_accuracy`\n"
     ]
    },
    {
     "name": "stdin",
     "output_type": "stream",
     "text": [
      "→ Why 0.95 as performance threshold?  test\n"
     ]
    },
    {
     "name": "stdout",
     "output_type": "stream",
     "text": [
      "\n",
      "📝 Justification for `dataset_version`\n"
     ]
    },
    {
     "name": "stdin",
     "output_type": "stream",
     "text": [
      "→ Why use this specific dataset version?  test\n"
     ]
    },
    {
     "name": "stdout",
     "output_type": "stream",
     "text": [
      "\n",
      "📝 Justification for `drop_column_X`\n"
     ]
    },
    {
     "name": "stdin",
     "output_type": "stream",
     "text": [
      "→ Why drop any specific columns from the dataset?  test\n"
     ]
    },
    {
     "name": "stdout",
     "output_type": "stream",
     "text": [
      "\n",
      "📝 Justification for `experiment_name`\n"
     ]
    },
    {
     "name": "stdin",
     "output_type": "stream",
     "text": [
      "→ Any context behind this experiment name or setup?  test\n"
     ]
    },
    {
     "name": "stderr",
     "output_type": "stream",
     "text": [
      "[Parallel(n_jobs=-1)]: Using backend ThreadingBackend with 12 concurrent workers.\n",
      "[Parallel(n_jobs=-1)]: Done  26 tasks      | elapsed:    0.0s\n",
      "[Parallel(n_jobs=-1)]: Done 176 tasks      | elapsed:    0.2s\n",
      "[Parallel(n_jobs=-1)]: Done 200 out of 200 | elapsed:    0.2s finished\n",
      "[Parallel(n_jobs=12)]: Using backend ThreadingBackend with 12 concurrent workers.\n",
      "[Parallel(n_jobs=12)]: Done  26 tasks      | elapsed:    0.0s\n",
      "[Parallel(n_jobs=12)]: Done 176 tasks      | elapsed:    0.0s\n",
      "[Parallel(n_jobs=12)]: Done 200 out of 200 | elapsed:    0.0s finished\n",
      "[Parallel(n_jobs=12)]: Using backend ThreadingBackend with 12 concurrent workers.\n",
      "[Parallel(n_jobs=12)]: Done  26 tasks      | elapsed:    0.0s\n",
      "[Parallel(n_jobs=12)]: Done 176 tasks      | elapsed:    0.0s\n",
      "[Parallel(n_jobs=12)]: Done 200 out of 200 | elapsed:    0.0s finished\n",
      "[Parallel(n_jobs=12)]: Using backend ThreadingBackend with 12 concurrent workers.\n",
      "[Parallel(n_jobs=12)]: Done  26 tasks      | elapsed:    0.0s\n",
      "[Parallel(n_jobs=12)]: Done 176 tasks      | elapsed:    0.0s\n",
      "[Parallel(n_jobs=12)]: Done 200 out of 200 | elapsed:    0.0s finished\n",
      "[Parallel(n_jobs=12)]: Using backend ThreadingBackend with 12 concurrent workers.\n",
      "[Parallel(n_jobs=12)]: Done  26 tasks      | elapsed:    0.0s\n",
      "[Parallel(n_jobs=12)]: Done 176 tasks      | elapsed:    0.0s\n",
      "[Parallel(n_jobs=12)]: Done 200 out of 200 | elapsed:    0.0s finished\n",
      "[Parallel(n_jobs=12)]: Using backend ThreadingBackend with 12 concurrent workers.\n",
      "[Parallel(n_jobs=12)]: Done  26 tasks      | elapsed:    0.0s\n",
      "[Parallel(n_jobs=12)]: Done 176 tasks      | elapsed:    0.0s\n",
      "[Parallel(n_jobs=12)]: Done 200 out of 200 | elapsed:    0.0s finished\n",
      "[Parallel(n_jobs=12)]: Using backend ThreadingBackend with 12 concurrent workers.\n",
      "[Parallel(n_jobs=12)]: Done  26 tasks      | elapsed:    0.0s\n",
      "[Parallel(n_jobs=12)]: Done 176 tasks      | elapsed:    0.0s\n",
      "[Parallel(n_jobs=12)]: Done 200 out of 200 | elapsed:    0.0s finished\n",
      "[Parallel(n_jobs=12)]: Using backend ThreadingBackend with 12 concurrent workers.\n",
      "[Parallel(n_jobs=12)]: Done  26 tasks      | elapsed:    0.0s\n",
      "[Parallel(n_jobs=12)]: Done 176 tasks      | elapsed:    0.0s\n",
      "[Parallel(n_jobs=12)]: Done 200 out of 200 | elapsed:    0.0s finished\n",
      "C:\\Users\\reema\\anaconda3\\Lib\\site-packages\\shap\\plots\\_beeswarm.py:1153: UserWarning: The figure layout has changed to tight\n",
      "  pl.tight_layout()\n",
      "C:\\Users\\reema\\anaconda3\\Lib\\site-packages\\shap\\plots\\_beeswarm.py:761: UserWarning: The figure layout has changed to tight\n",
      "  pl.tight_layout(pad=0, w_pad=0, h_pad=0.0)\n"
     ]
    },
    {
     "name": "stdout",
     "output_type": "stream",
     "text": [
      "✅ Commit successful.\n",
      "🚀 Push successful.\n"
     ]
    },
    {
     "data": {
      "text/plain": [
       "<Figure size 600x600 with 0 Axes>"
      ]
     },
     "metadata": {},
     "output_type": "display_data"
    },
    {
     "data": {
      "image/png": "[encoded data removed]",
      "text/plain": [
       "<Figure size 1150x660 with 1 Axes>"
      ]
     },
     "metadata": {},
     "output_type": "display_data"
    }
   ],
   "source": [
    "\n",
    "with mlflow.start_run() as run:\n",
    "    #################################################\n",
    "# Justification LOGGER\n",
    "################################################\n",
    "\n",
    "    def log_with_justification(log_func, key, value, context=\"\"):\n",
    "        \"\"\"\n",
    "        Log a parameter/metric/tag using `log_func` and ask for justification via console.\n",
    "        \"\"\"\n",
    "        log_func(key, value)\n",
    "        print(f\"\\n📝 Justification for `{key}` ({context})\")\n",
    "        user_reason = input(\"→ Why did you choose this value? \")\n",
    "        mlflow.set_tag(f\"justification_{key}\", user_reason or \"No justification provided\")\n",
    "\n",
    "    def log_justification(key: str, question: str):\n",
    "        print(f\"\\n📝 Justification for `{key}`\")\n",
    "        user_reason = input(f\"→ {question} \")\n",
    "        mlflow.set_tag(f\"justification_{key}\", user_reason or \"No justification provided\")\n",
    "\n",
    "\n",
    "\n",
    "    meta = fetch_and_log_dataset_metadata_nested(\n",
    "            \"https://doi.org/10.5281/zenodo.1404173\",\n",
    "           \n",
    "        )\n",
    "\n",
    "    #Datasbase info logging\n",
    "    db_id = \"c3a42d17-42b7-43c9-a504-2363fb4c9c8d\"\n",
    "    db_meta = fetch_db_metadata(db_id)\n",
    "    log_db_metadata(db_meta)\n",
    "\n",
    "    #OAI metadata logging from api endpoint\n",
    "    # log as tags\n",
    "    mlflow.set_tag(\"dbrepo.repository_name\", repo_name)\n",
    "    mlflow.set_tag(\"dbrepo.base_url\",       base_url)\n",
    "    mlflow.set_tag(\"dbrepo.protocol_version\", protocol)\n",
    "    mlflow.set_tag(\"dbrepo.admin_email\",     admin_email)\n",
    "    mlflow.set_tag(\"dbrepo.granularity\",     gran)\n",
    "\n",
    "    #From history API logging\n",
    "    # provenance tags\n",
    "    mlflow.set_tag(\"dbrepo.table_last_modified\", ts_last)\n",
    "\n",
    "    # row-count metrics\n",
    "    mlflow.log_metric(\"dbrepo.row_count_start\", count_start)\n",
    "    mlflow.log_metric(\"dbrepo.row_count_end\",   count_end)\n",
    "\n",
    "    # change-event metrics\n",
    "    mlflow.log_metric(\"dbrepo.num_inserts\", n_insert)\n",
    "    mlflow.log_metric(\"dbrepo.num_deletes\", n_delete)\n",
    "    \n",
    "    # 2) Capture raw metadata\n",
    "    mlflow.set_tag(\"data_source\", API_URL)\n",
    "    mlflow.log_param(\"retrieval_time\", datetime.utcnow().isoformat())\n",
    "    mlflow.log_param(\"n_records\", len(df))\n",
    "    mlflow.log_param(\"columns_raw\", df.columns.tolist())\n",
    "    mlflow.log_param(\"dropped_columns\", id_cols)\n",
    "\n",
    "    # 4) Post‐processing metadata\n",
    "    mlflow.log_param(\"n_features_final\", X.shape[1])\n",
    "    mlflow.log_param(\"feature_names\", X.columns.tolist())\n",
    "    mlflow.set_tag(\"target_name\", y)\n",
    "\n",
    "       # Label encoding\n",
    "    label_map = {int(idx): cls for idx, cls in enumerate(le.classes_)}\n",
    "    \n",
    "    # Save to an in-memory file\n",
    "    buffer = io.StringIO()\n",
    "    json.dump(label_map, buffer, indent=2)\n",
    "    buffer.seek(0)\n",
    "    \n",
    "    # Log it to MLflow\n",
    "    mlflow.log_text(buffer.getvalue(), artifact_file=\"label_mapping.json\")\n",
    "   \n",
    "    ts = datetime.now().strftime(\"%Y%m%d_%H%M%S\")\n",
    "    model_name = f\"RandomForest_Iris_v{ts}\"\n",
    "    mlflow.set_tag(\"model_name\",model_name)\n",
    "    \n",
    "    train_start_ts = datetime.now().isoformat()\n",
    "    mlflow.set_tag(\"training_start_time\", train_start_ts)\n",
    "\n",
    "    test_size    = 0.2\n",
    "    random_state = 42\n",
    "    \n",
    "    # 📈 Model Training\n",
    "    X_train, X_test, y_train, y_test = train_test_split(X, y, test_size=test_size, random_state=random_state)\n",
    "    \n",
    "    # ── 2) Log dataset split params ──\n",
    "    mlflow.log_param(\"test_size\", test_size)\n",
    "    mlflow.log_param(\"random_state\", random_state)\n",
    "    mlflow.log_param(\"n_train_samples\", X_train.shape[0])\n",
    "    mlflow.log_param(\"n_test_samples\",  X_test.shape[0])\n",
    "    mlflow.log_param(\"n_features\",      X_train.shape[1])\n",
    "\n",
    "     # 1) Define a more complex hyperparameter dict\n",
    "    hyperparams = {\n",
    "        \"n_estimators\":       200,\n",
    "        \"criterion\":          \"entropy\",\n",
    "        \"max_depth\":          12,\n",
    "        \"min_samples_split\":  5,\n",
    "        \"min_samples_leaf\":   2,\n",
    "        \"max_features\":       \"sqrt\",\n",
    "        \"bootstrap\":          True,\n",
    "        \"oob_score\":          False,\n",
    "        \"class_weight\":       None,\n",
    "        \"random_state\":       42,\n",
    "        \"verbose\":            1,\n",
    "        \"n_jobs\":             -1\n",
    "    }\n",
    "    \n",
    "    # 2) Log them ALL at once\n",
    "    # mlflow.log_params(hyperparams) #TEST\n",
    "    model = RandomForestClassifier(**hyperparams)\n",
    "\n",
    "    for key, val in hyperparams.items():\n",
    "        log_with_justification(mlflow.log_param, key, val, context=\"Hyperparameter configuration\")\n",
    "\n",
    "    # Prompt for and log justifications for high-level modeling decisions\n",
    "    log_justification(\"model_choice\", \"Why did you choose RandomForestClassifier for this task?\")\n",
    "    log_justification(\"target_variable\", \"Why did you choose this column as the prediction target?\")\n",
    "    log_justification(\"test_split\", \"Why this train/test ratio (e.g., 80/20)?\")\n",
    "    log_justification(\"metric_choice\", \"Why accuracy/f1/ROC-AUC as your evaluation metric?\")\n",
    "    log_justification(\"threshold_accuracy\", \"Why 0.95 as performance threshold?\")\n",
    "    log_justification(\"dataset_version\", \"Why use this specific dataset version?\")\n",
    "    log_justification(\"drop_column_X\", \"Why drop any specific columns from the dataset?\")\n",
    "    log_justification(\"experiment_name\", \"Any context behind this experiment name or setup?\")\n",
    "\n",
    "\n",
    "\n",
    "    \n",
    "    model.fit(X_train, y_train)\n",
    "\n",
    "    train_end_ts = datetime.now().isoformat()\n",
    "    mlflow.set_tag(\"training_end_time\", train_end_ts)\n",
    "\n",
    "     # ── 6) Predict & log metrics ──\n",
    "    y_pred = model.predict(X_test)\n",
    "    y_proba = model.predict_proba(X_test)\n",
    "    acc = accuracy_score(y_test, y_pred)\n",
    "    auc = roc_auc_score(y_test, y_proba, multi_class=\"ovr\")\n",
    "    prec = precision_score(y_test, y_pred, average=\"macro\")\n",
    "    rec  = recall_score(y_test,    y_pred, average=\"macro\")\n",
    "    f1   = f1_score(y_test,      y_pred, average=\"macro\")\n",
    "    \n",
    "    # mlflow.log_metric(\"precision_macro\", prec) #TEST\n",
    "    # mlflow.log_metric(\"recall_macro\",    rec)#TEST\n",
    "    # mlflow.log_metric(\"f1_macro\",        f1)#TEST\n",
    "    # mlflow.log_metric(\"accuracy\", acc)#TEST\n",
    "    # mlflow.log_metric(\"roc_auc\",   auc)#TEST\n",
    "\n",
    "    # ✅ Log Environment Automatically\n",
    "    # mlflow.log_params({\n",
    "    #     \"python_version\": platform.python_version(),\n",
    "    #     \"os_platform\": f\"{platform.system()} {platform.release()}\",\n",
    "    #     \"sklearn_version\": sklearn.__version__,\n",
    "    #     \"pandas_version\": pd.__version__,\n",
    "    #     \"numpy_version\": np.__version__,\n",
    "    #     \"matplotlib_version\": matplotlib.__version__,\n",
    "    #     \"seaborn_version\": sns.__version__,\n",
    "    #     \"shap_version\": shap.__version__,\n",
    "    # })#TEST\n",
    "\n",
    "    # ✅ Git and Notebook Metadata\n",
    "    mlflow.set_tag(\"notebook_name\", \"RQ1.ipynb\")\n",
    "\n",
    "    # ✅ Dataset Metadata Tags\n",
    "    mlflow.set_tag(\"dataset_name\", \"Iris\") #TODO\n",
    "    mlflow.set_tag(\"dataset_version\", \"1.0.0\") #TODO\n",
    "    mlflow.set_tag(\"dataset_id\", \"iris_local\") #TODO\n",
    "\n",
    "\n",
    "    # ─── 2) Create a folder for this run’s plots ───\n",
    "    plot_dir = os.path.join(\"plots\", model_name)\n",
    "    os.makedirs(plot_dir, exist_ok=True)\n",
    "\n",
    "    # 1) Feature Importance Bar Chart\n",
    "    importances = model.feature_importances_\n",
    "    try:\n",
    "        feature_names = X_train.columns\n",
    "    except AttributeError:\n",
    "        feature_names = [f\"f{i}\" for i in range(X_train.shape[1])]\n",
    "    fi_path = os.path.join(plot_dir, \"feature_importances.png\")\n",
    "\n",
    "    plt.figure(figsize=(8, 6))\n",
    "    sns.barplot(x=importances, y=feature_names)\n",
    "    plt.title(\"Feature Importances\")\n",
    "    plt.xlabel(\"Importance\")\n",
    "    plt.ylabel(\"Feature\")\n",
    "    plt.tight_layout()\n",
    "    plt.savefig(fi_path)\n",
    "    mlflow.log_artifact(fi_path)\n",
    "    plt.close()\n",
    "\n",
    "\n",
    "# 2) Multi-class ROC Curves\n",
    "# Binarize labels for one-vs-rest\n",
    "    classes = np.unique(y_test)\n",
    "    y_test_bin = label_binarize(y_test, classes=classes)\n",
    "    \n",
    "    for idx, cls in enumerate(classes):\n",
    "        disp = RocCurveDisplay.from_predictions(\n",
    "            y_test_bin[:, idx], \n",
    "            y_proba[:, idx],\n",
    "            name=f\"ROC for class {cls}\"\n",
    "        )\n",
    "        roc_path = os.path.join(plot_dir, f\"roc_curve_cls_{cls}.png\")\n",
    "        disp.figure_.savefig(roc_path)\n",
    "        mlflow.log_artifact(roc_path)\n",
    "        plt.close(disp.figure_)\n",
    "\n",
    "\n",
    "    # 3) Multi-class Precision-Recall Curves\n",
    "    for idx, cls in enumerate(classes):\n",
    "        disp = PrecisionRecallDisplay.from_predictions(\n",
    "            y_test_bin[:, idx], \n",
    "            y_proba[:, idx],\n",
    "            name=f\"PR curve for class {cls}\"\n",
    "        )\n",
    "        pr_path = os.path.join(plot_dir, f\"pr_curve_cls_{cls}.png\")\n",
    "        disp.figure_.savefig(pr_path)\n",
    "        mlflow.log_artifact(pr_path)\n",
    "        plt.close(disp.figure_)\n",
    "        \n",
    "    # ✅ Confusion Matrix Plot\n",
    "    cm_path = os.path.join(plot_dir, \"confusion_matrix.png\")\n",
    "\n",
    "    cm = confusion_matrix(y_test, y_pred)\n",
    "    plt.figure(figsize=(6, 6))\n",
    "    sns.heatmap(cm, annot=True, fmt=\"d\", cmap=\"Blues\")\n",
    "    plt.title(\"Confusion Matrix\")\n",
    "    plt.xlabel(\"Predicted\")\n",
    "    plt.ylabel(\"Actual\")\n",
    "    plt.savefig(cm_path)\n",
    "    mlflow.log_artifact(cm_path)\n",
    "\n",
    "    # ✅ SHAP Summary\n",
    "    shap_path = os.path.join(plot_dir, \"shap_summary.png\")\n",
    "    explainer = shap.TreeExplainer(model)\n",
    "    shap_values = explainer.shap_values(X_test)\n",
    "    shap.summary_plot(shap_values, X_test, show=False)\n",
    "    plt.savefig(shap_path)\n",
    "    mlflow.log_artifact(shap_path)\n",
    "\n",
    "\n",
    "    \n",
    "    # ─── 1) Build a .pkl filename (you can include your model_name for clarity)\n",
    "    pkl_path = f\"Trained_models/{model_name}.pkl\"\n",
    "    \n",
    "    # ─── 2) Serialize your trained model to disk\n",
    "    with open(pkl_path, \"wb\") as f:\n",
    "        pickle.dump(model, f)\n",
    "    \n",
    "    # ─── 3) Log that pickle file as an MLflow artifact\n",
    "    #     It will appear under Artifacts → models/RandomForest_Iris_vYYYYMMDD_HHMMSS.pkl\n",
    "    mlflow.log_artifact(pkl_path, artifact_path=model_name)\n",
    "        \n",
    "    def get_latest_commit_hash(repo_path=\".\"):\n",
    "        # returns the full SHA of HEAD\n",
    "        res = subprocess.run(\n",
    "            [\"git\", \"-C\", repo_path, \"rev-parse\", \"HEAD\"],\n",
    "            capture_output=True, text=True, check=True)\n",
    "        \n",
    "        return res.stdout.strip()\n",
    "\n",
    "    def get_remote_url(repo_path=\".\", remote=\"origin\"):\n",
    "        # returns something like git@github.com:user/repo.git or https://...\n",
    "        res = subprocess.run(\n",
    "            [\"git\", \"-C\", repo_path, \"config\", \"--get\", f\"remote.{remote}.url\"],\n",
    "            capture_output=True, text=True, check=True\n",
    "        )\n",
    "        return res.stdout.strip()\n",
    "    \n",
    "    def make_commit_link(remote_url, commit_hash):\n",
    "        # handle GitHub/GitLab convention; strip “.git” if present\n",
    "        base = remote_url.rstrip(\".git\")\n",
    "        # if SSH form (git@github.com:owner/repo), convert to https\n",
    "        if base.startswith(\"git@\"):\n",
    "            base = base.replace(\":\", \"/\").replace(\"git@\", \"https://\")\n",
    "        return f\"{base}/commit/{commit_hash}\"\n",
    "\n",
    "    \n",
    "    def simple_commit_and_push_and_log(repo_path=\".\", message=\"Auto commit\", remote=\"origin\", branch=\"main\"):\n",
    "    # 1) Check for changes\n",
    "        status = subprocess.run(\n",
    "            [\"git\", \"-C\", repo_path, \"status\", \"--porcelain\"],\n",
    "            capture_output=True, text=True\n",
    "        )\n",
    "        if not status.stdout.strip():\n",
    "            print(\"🟡 No changes to commit.\")\n",
    "            return None, None\n",
    "    \n",
    "        # 2) Stage everything\n",
    "        add = subprocess.run(\n",
    "            [\"git\", \"-C\", repo_path, \"add\", \"--all\"],\n",
    "            capture_output=True, text=True\n",
    "        )\n",
    "        if add.returncode:\n",
    "            print(\"❌ git add failed:\\n\", add.stderr)\n",
    "            return None, None\n",
    "    \n",
    "        # 3) Commit\n",
    "        commit = subprocess.run(\n",
    "            [\"git\", \"-C\", repo_path, \"commit\", \"-m\", message],\n",
    "            capture_output=True, text=True\n",
    "        )\n",
    "        if commit.returncode:\n",
    "            print(\"❌ git commit failed:\\n\", commit.stderr)\n",
    "            return None, None\n",
    "        print(\"✅ Commit successful.\")\n",
    "    \n",
    "        # 4) Push\n",
    "        push = subprocess.run(\n",
    "            [\"git\", \"-C\", repo_path, \"push\", \"-u\", remote, branch],\n",
    "            capture_output=True, text=True\n",
    "        )\n",
    "        if push.returncode:\n",
    "            print(\"❌ git push failed:\\n\", push.stderr)\n",
    "        else:\n",
    "            print(\"🚀 Push successful.\")\n",
    "    \n",
    "        # 5) Retrieve hash & remote URL\n",
    "        sha = get_latest_commit_hash(repo_path)\n",
    "        url = get_remote_url(repo_path, remote)\n",
    "        link = make_commit_link(url, sha)\n",
    "    \n",
    "        return sha, link\n",
    "    \n",
    "      \n",
    "    sha, link = simple_commit_and_push_and_log(\n",
    "        repo_path=\".\",\n",
    "        message=\"Auto commit after successful training\"\n",
    "    )\n",
    "    if sha and link:\n",
    "        diff_text = subprocess.check_output(\n",
    "            [\"git\", \"-C\", \".\", \"diff\", previous_commit_hash, sha],\n",
    "            encoding=\"utf-8\",\n",
    "            errors=\"ignore\"    # or \"replace\"\n",
    "        )\n",
    "                \n",
    "        # 1) Get your repo’s remote URL and normalize to HTTPS\n",
    "        remote_url = subprocess.check_output(\n",
    "            [\"git\", \"config\", \"--get\", \"remote.origin.url\"],\n",
    "            text=True\n",
    "        ).strip().rstrip(\".git\")\n",
    "        if remote_url.startswith(\"git@\"):\n",
    "            # git@github.com:owner/repo.git → https://github.com/owner/repo\n",
    "            remote_url = remote_url.replace(\":\", \"/\").replace(\"git@\", \"https://\")\n",
    "        \n",
    "        # 2) Build commit URLs\n",
    "        previous_commit_url  = f\"{remote_url}/commit/{previous_commit_hash}\"\n",
    "        current_commit_url = f\"{remote_url}/commit/{sha}\"\n",
    "        diff_data = {\n",
    "            \"previous_commit\":  previous_commit_hash,\n",
    "            \"previous_commit_url\":previous_commit_url,\n",
    "            \"current_commit_url\":current_commit_url,\n",
    "            \"current_commit\": sha,\n",
    "            \"diff\": diff_text\n",
    "        }\n",
    "        mlflow.log_dict(\n",
    "            diff_data,\n",
    "            artifact_file=\"commit_diff.json\"\n",
    "        )\n",
    "        mlflow.set_tag(\"git_previous_commit_hash\", previous_commit_hash)\n",
    "        mlflow.set_tag(\"git_current_commit_hash\", sha)\n",
    "        mlflow.set_tag(\"git__current_commit_url\", link) \n",
    "\n",
    "\n",
    "    client   = MlflowClient()\n",
    "    run_id    = run.info.run_id\n",
    "    run_info  = client.get_run(run_id).info\n",
    "    run_data  = client.get_run(run_id).data\n",
    "    \n",
    "    # 1) params, metrics, tags\n",
    "    params  = dict(run_data.params)\n",
    "    metrics = dict(run_data.metrics)\n",
    "    tags    = dict(run_data.tags)\n",
    "\n",
    "    # (4) List artifacts under a specific subfolder\n",
    "    run_meta     = client.get_run(run_id).info\n",
    "    artifact_uri = run_meta.artifact_uri  # base URI for all artifacts\n",
    "    \n",
    "    artifact_meta = []\n",
    "    \n",
    "    def _gather(path=\"\"):\n",
    "        for af in client.list_artifacts(run_id, path):\n",
    "            # If it’s a directory, recurse\n",
    "            if af.is_dir:\n",
    "                _gather(af.path)\n",
    "                continue\n",
    "    \n",
    "            rel_path = af.path\n",
    "            uri      = f\"{artifact_uri}/{rel_path}\"\n",
    "            lower    = rel_path.lower()\n",
    "    \n",
    "            # 1) Text files → download & embed contents\n",
    "            if lower.endswith((\".json\", \".txt\", \".patch\")):\n",
    "                local = client.download_artifacts(run_id, rel_path)\n",
    "                with open(local, \"r\", encoding=\"utf-8\") as f:\n",
    "                    content = f.read()\n",
    "                artifact_meta.append({\n",
    "                    \"path\":    rel_path,\n",
    "                    \"type\":    \"text\",\n",
    "                    \"content\": content\n",
    "                })\n",
    "    \n",
    "            # 2) Images → surface a clickable URI\n",
    "            elif lower.endswith((\".png\", \".jpg\", \".jpeg\", \".svg\")):\n",
    "                artifact_meta.append({\n",
    "                    \"path\": rel_path,\n",
    "                    \"type\": \"image\",\n",
    "                    \"uri\":  uri\n",
    "                })\n",
    "    \n",
    "            # 3) Everything else → just link\n",
    "            else:\n",
    "                artifact_meta.append({\n",
    "                    \"path\": rel_path,\n",
    "                    \"type\": \"other\",\n",
    "                    \"uri\":  uri\n",
    "                })\n",
    "    \n",
    "    # Run the gather\n",
    "    _gather()\n",
    "     \n",
    "    summary = {\n",
    "        \"run_id\":         run_id,\n",
    "        \"run_name\": run_info.run_name,\n",
    "        \"experiment_id\":  run_info.experiment_id,\n",
    "        \"start_time\":     run_info.start_time,\n",
    "        \"end_time\":       run_info.end_time,\n",
    "        \"params\":         params,\n",
    "        \"metrics\":        metrics,\n",
    "        \"tags\":           tags,\n",
    "        \"artifacts\":      artifact_meta\n",
    "    }\n",
    "    \n",
    "\n",
    "    # 1) Determine notebook directory (where your .ipynb lives)\n",
    "    notebook_dir = os.getcwd()\n",
    "    \n",
    "    # ✅ Create a subdirectory inside MODEL_PROVENANCE for the model\n",
    "    summary_dir = os.path.join(os.getcwd(), \"MODEL_PROVENANCE\", model_name)\n",
    "    os.makedirs(summary_dir, exist_ok=True)\n",
    "    \n",
    "   # 2) Pick a filename based on your model_name\n",
    "    summary_filename   = f\"{model_name}_run_summary.json\"\n",
    "    summary_local_path = os.path.join(summary_dir, summary_filename)\n",
    "   # 3) Write the JSON locally\n",
    "    with open(summary_local_path, \"w\", encoding=\"utf-8\") as f:\n",
    "        json.dump(summary, f, indent=2)\n",
    "    \n",
    "    # 4) (Optional) Mirror it into MLflow artifacts under a single folder\n",
    "    mlflow.log_artifact(summary_local_path, artifact_path=\"run_summaries\")\n",
    "\n",
    "    mlflow.end_run()"
   ]
  },
  {
   "cell_type": "markdown",
   "id": "d0c4e1b2-9fa9-4606-8128-6ac66b5c6e78",
   "metadata": {},
   "source": [
    "what does it create: \n",
    "lable_mapping in the current dir\n",
    "provenence file :REPO/notebooks/RQ_notebooks/MODEL_PROVENANCE/RandomForest_Iris_v20250425_120045_run_summary.json\n",
    "plots based on run:REPO/notebooks/RQ_notebooks/plots/RandomForest_Iris_v20250425_120045/shap_summary.png\n",
    "mlrun:REPO/notebooks/RQ_notebooks/mlrunlogs/mlflow.db/615223710259862608/5d1fa0fc65af47128f3200628b1afaea\n",
    "trained model:REPO/notebooks/RQ_notebooks/Trained_models/RandomForest_Iris_v20250425_120852.pkl"
   ]
  },
  {
   "cell_type": "markdown",
   "id": "7a5e3bbb-0288-47d0-9dc4-2855d7e4801a",
   "metadata": {},
   "source": [
    "1. Standards-compliant export (JSON-LD + Turtle)\n",
    "I already have your plain run_summary.json , wrap it in a JSON-LD context that maps your fields into PROV-O terms, then use rdflib to emit Turtle:"
   ]
  },
  {
   "cell_type": "code",
   "execution_count": null,
   "id": "28ed1cfb-930a-4f17-a48f-30e4cffb7f3e",
   "metadata": {},
   "outputs": [],
   "source": [
    "import json\n",
    "import pandas as pd\n",
    "\n",
    "# Load the JSON file\n",
    "json_path = \"/mnt/data/REPO/notebooks/RQ_notebooks/MODEL_PROVENANCE/RandomForest_Iris_v20250425_125653/RandomForest_Iris_v20250425_125653_run_summary.json\"\n",
    "with open(json_path, \"r\", encoding=\"utf-8\") as file:\n",
    "    data = json.load(file)\n",
    "\n",
    "# Extract justification tags\n",
    "justifications = {\n",
    "    k: v for k, v in data.get(\"tags\", {}).items()\n",
    "    if k.startswith(\"justification_\")\n",
    "}\n",
    "\n",
    "# Create a DataFrame\n",
    "justification_df = pd.DataFrame([\n",
    "    {\"Decision\": k.replace(\"justification_\", \"\"), \"Justification\": v}\n",
    "    for k, v in justifications.items()\n",
    "])\n",
    "\n",
    "import ace_tools as tools; tools.display_dataframe_to_user(name=\"Researcher Justifications\", dataframe=justification_df)\n"
   ]
  },
  {
   "cell_type": "code",
   "execution_count": 66,
   "id": "5cf88da4-69f8-4982-a594-28cf25e4f79a",
   "metadata": {},
   "outputs": [
    {
     "name": "stdout",
     "output_type": "stream",
     "text": [
      "Converted RandomForest_Iris_v20250425_121328_run_summary.json → RandomForest_Iris_v20250425_121328.jsonld, RandomForest_Iris_v20250425_121328.ttl\n"
     ]
    }
   ],
   "source": [
    "\n",
    "def iso8601(ms):\n",
    "    \"\"\"Convert milliseconds since epoch to ISO8601 UTC.\"\"\"\n",
    "    return datetime.fromtimestamp(ms / 1000, tz=timezone.utc).isoformat()\n",
    "\n",
    "for json_path in glob.glob(\"MODEL_PROVENANCE/*/*_run_summary.json\"):\n",
    "    basename   = os.path.basename(json_path)\n",
    "    model_name = basename.rsplit(\"_run_summary.json\", 1)[0]\n",
    "\n",
    "    with open(json_path, \"r\", encoding=\"utf-8\") as f:\n",
    "        summary = json.load(f)\n",
    "\n",
    "    #–– Minimal override context: keep all your flat fields as-is,\n",
    "    #–– and only map the actual PROV terms to their IRIs.\n",
    "    ctx = {\n",
    "        # keep these flat\n",
    "        \"run_id\":       { \"@id\": \"run_id\" },\n",
    "        \"run_name\":     { \"@id\": \"run_name\" },\n",
    "        \"experiment_id\":{ \"@id\": \"experiment_id\" },\n",
    "        \"params\":       { \"@id\": \"params\" },\n",
    "        \"metrics\":      { \"@id\": \"metrics\" },\n",
    "        \"artifacts\":    { \"@id\": \"artifacts\" },\n",
    "        \"tags\":         { \"@id\": \"tags\" },\n",
    "\n",
    "        # provenance namespace\n",
    "        \"prov\": \"http://www.w3.org/ns/prov#\",\n",
    "        \"xsd\":  \"http://www.w3.org/2001/XMLSchema#\",\n",
    "\n",
    "        # map your timestamp fields into PROV\n",
    "        \"start_time\": { \"@id\": \"prov:startedAtTime\", \"@type\": \"xsd:dateTime\" },\n",
    "        \"end_time\":   { \"@id\": \"prov:endedAtTime\",   \"@type\": \"xsd:dateTime\" },\n",
    "\n",
    "        # PROV-used/generated\n",
    "        \"used\":      { \"@id\": \"prov:used\",      \"@type\": \"@id\" },\n",
    "        \"generated\": { \"@id\": \"prov:generated\", \"@type\": \"@id\" },\n",
    "\n",
    "        # JSON-LD boilerplate\n",
    "        \"@id\":   \"@id\",\n",
    "        \"@type\": \"@type\"\n",
    "    }\n",
    "\n",
    "    #–– Build JSON-LD document, re-using your original keys verbatim\n",
    "    doc = {\n",
    "        \"@context\":      ctx,\n",
    "        \"run_id\":        summary[\"run_id\"],\n",
    "        \"run_name\":      summary.get(\"run_name\"),\n",
    "        \"experiment_id\": summary.get(\"experiment_id\"),\n",
    "        \"params\":        summary.get(\"params\", {}),\n",
    "        \"metrics\":       summary.get(\"metrics\", {}),\n",
    "        \"artifacts\":     summary.get(\"artifacts\", []),\n",
    "        \"tags\":          summary.get(\"tags\", {}),\n",
    "\n",
    "        # PROV fields:\n",
    "        \"start_time\": iso8601(summary[\"start_time\"])\n",
    "    }\n",
    "\n",
    "    if summary.get(\"end_time\") is not None:\n",
    "        doc[\"end_time\"] = iso8601(summary[\"end_time\"])\n",
    "\n",
    "    # for used/generated, just point at your dataset/model URIs\n",
    "    # (or blank-node them if you prefer richer structure)\n",
    "    doc[\"used\"] = summary.get(\"tags\", {}).get(\"dataset_uri\") or []\n",
    "    doc[\"generated\"] = [\n",
    "        art.get(\"uri\") or art.get(\"path\")\n",
    "        for art in summary.get(\"artifacts\", [])\n",
    "    ]\n",
    "\n",
    "    #–– write JSON-LD\n",
    "    out_jsonld = os.path.join(\"MODEL_PROVENANCE\", model_name, f\"{model_name}.jsonld\")\n",
    "    with open(out_jsonld, \"w\", encoding=\"utf-8\") as f:\n",
    "        json.dump(doc, f, indent=2)\n",
    "\n",
    "    #–– parse & serialize to Turtle\n",
    "    g = Graph().parse(data=json.dumps(doc), format=\"json-ld\")\n",
    "    out_ttl = os.path.join(\"MODEL_PROVENANCE\", model_name, f\"{model_name}.ttl\")\n",
    "    g.serialize(destination=out_ttl, format=\"turtle\")\n",
    "\n",
    "    print(f\"Converted {basename} → {os.path.basename(out_jsonld)}, {os.path.basename(out_ttl)}\")\n",
    "\n"
   ]
  },
  {
   "cell_type": "markdown",
   "id": "83d6d524-01da-4f20-8131-0d4a3ac005e2",
   "metadata": {},
   "source": [
    "This code programatically, finds diff between generated Json file and created JsonLD and .TTL file to make it easier to understand if there is any discrepency"
   ]
  },
  {
   "cell_type": "code",
   "execution_count": 67,
   "id": "77a420c0-230d-41c0-9b63-f3dbbca1e670",
   "metadata": {},
   "outputs": [
    {
     "name": "stdout",
     "output_type": "stream",
     "text": [
      "== JSON-LD vs TTL ==\n",
      "Change summary:\n",
      "type\n",
      "changed    1 \n",
      "\n",
      "First 10 ‘changed’ entries:\n",
      "Top-level adds/removes:\n",
      "Empty DataFrame\n",
      "Columns: [path, type, a, b]\n",
      "Index: []\n",
      "\n",
      "== JSON vs JSON-LD ==\n",
      "Change summary:\n",
      "type\n",
      "added      3\n",
      "removed    1\n",
      "changed    1 \n",
      "\n",
      "First 10 ‘changed’ entries:\n",
      "Top-level adds/removes:\n",
      "Empty DataFrame\n",
      "Columns: [path, type, a, b]\n",
      "Index: []\n"
     ]
    }
   ],
   "source": [
    "\n",
    "\n",
    "def load_as_dict(path):\n",
    "    if path.endswith((\".ttl\", \".turtle\")):\n",
    "        g = Graph()\n",
    "        g.parse(path, format=\"turtle\")\n",
    "        # normalize to JSON-LD dict\n",
    "        return json.loads(g.serialize(format=\"json-ld\", indent=2))\n",
    "    else:\n",
    "        with open(path, encoding=\"utf-8\") as f:\n",
    "            return json.load(f)\n",
    "\n",
    "def compare_json(a, b, path=\"\"):\n",
    "    diffs = []\n",
    "    if isinstance(a, dict) and isinstance(b, dict):\n",
    "        all_keys = set(a) | set(b)\n",
    "        for k in all_keys:\n",
    "            new_path = f\"{path}/{k}\" if path else k\n",
    "            if k not in a:\n",
    "                diffs.append({\"path\": new_path, \"type\": \"added\",   \"a\": None,    \"b\": b[k]})\n",
    "            elif k not in b:\n",
    "                diffs.append({\"path\": new_path, \"type\": \"removed\", \"a\": a[k],   \"b\": None})\n",
    "            else:\n",
    "                diffs.extend(compare_json(a[k], b[k], new_path))\n",
    "    elif isinstance(a, list) and isinstance(b, list):\n",
    "        for i, (ia, ib) in enumerate(zip(a, b)):\n",
    "            diffs.extend(compare_json(ia, ib, f\"{path}[{i}]\"))\n",
    "        # handle length mismatches\n",
    "        if len(a) < len(b):\n",
    "            for i in range(len(a), len(b)):\n",
    "                diffs.append({\"path\": f\"{path}[{i}]\", \"type\": \"added\",   \"a\": None,  \"b\": b[i]})\n",
    "        elif len(a) > len(b):\n",
    "            for i in range(len(b), len(a)):\n",
    "                diffs.append({\"path\": f\"{path}[{i}]\", \"type\": \"removed\", \"a\": a[i],  \"b\": None})\n",
    "    else:\n",
    "        if a != b:\n",
    "            diffs.append({\"path\": path, \"type\": \"changed\", \"a\": a, \"b\": b})\n",
    "    return diffs\n",
    "\n",
    "# --- Usage example -----------------------------------------------\n",
    "# REPO/notebooks/RQ_notebooks/MODEL_PROVENANCE/RandomForest_Iris_v20250425_121328/RandomForest_Iris_v20250425_121328_run_summary.json\n",
    "# # Compare JSON-LD vs Turtle:\n",
    "# a = load_as_dict(\"MODEL_PROVENANCE/RandomForest_Iris_v20250423_230422_run_summary.json\")\n",
    "# b = load_as_dict(\"MODEL_PROVENANCE/RandomForest_Iris_v20250423_230422.ttl\")\n",
    "# diffs_jsonld_vs_ttl = compare_json(a, b)\n",
    "\n",
    "# # Compare JSON vs JSON-LD:\n",
    "# c = load_as_dict(\"MODEL_PROVENANCE/RandomForest_Iris_v20250423_230422_run_summary.json\")\n",
    "# d = load_as_dict(\"MODEL_PROVENANCE/RandomForest_Iris_v20250423_230422.jsonld\")\n",
    "# diffs_json_vs_jsonld = compare_json(c, d)\n",
    "\n",
    "# Define base directory\n",
    "base_dir = os.path.join(\"MODEL_PROVENANCE\", model_name)\n",
    "\n",
    "# Build full paths for the files to compare\n",
    "summary_json    = os.path.join(base_dir, f\"{model_name}_run_summary.json\")\n",
    "turtle_file     = os.path.join(base_dir, f\"{model_name}.ttl\")\n",
    "jsonld_file     = os.path.join(base_dir, f\"{model_name}.jsonld\")\n",
    "\n",
    "# Load files\n",
    "a = load_as_dict(summary_json)\n",
    "b = load_as_dict(turtle_file)\n",
    "c = load_as_dict(summary_json)\n",
    "d = load_as_dict(jsonld_file)\n",
    "\n",
    "# Perform comparisons\n",
    "diffs_jsonld_vs_ttl = compare_json(a, b)\n",
    "diffs_json_vs_jsonld = compare_json(c, d)\n",
    "\n",
    "# Build DataFrames for interactive inspection\n",
    "df1 = pd.DataFrame(diffs_jsonld_vs_ttl)\n",
    "df2 = pd.DataFrame(diffs_json_vs_jsonld)\n",
    "\n",
    "# --- Summaries & Filtering ---------------------------------------\n",
    "\n",
    "def summarize_and_preview(df, preview_n=10):\n",
    "    print(\"Change summary:\")\n",
    "    print(df['type'].value_counts().to_string(), \"\\n\")\n",
    "    \n",
    "    print(f\"First {preview_n} ‘changed’ entries:\")\n",
    "    # print(df[df['type']==\"changed\"].head(preview_n).to_string(index=False), \"\\n\")\n",
    "    \n",
    "    # Top‐level (one slash) adds/removes\n",
    "    top = df[df['path'].str.count(\"/\") == 1]\n",
    "    print(\"Top-level adds/removes:\")\n",
    "    print(top[top['type'].isin(['added','removed'])].to_string(index=False))\n",
    "\n",
    "print(\"== JSON-LD vs TTL ==\")\n",
    "summarize_and_preview(df1)\n",
    "\n",
    "print(\"\\n== JSON vs JSON-LD ==\")\n",
    "summarize_and_preview(df2)\n",
    "\n"
   ]
  },
  {
   "cell_type": "code",
   "execution_count": 68,
   "id": "41af9d6e-c683-45f9-bac1-296611b4d0b9",
   "metadata": {},
   "outputs": [
    {
     "name": "stdout",
     "output_type": "stream",
     "text": [
      "Removed in JSON-LD comparison:\n",
      "    path\n",
      "end_time\n",
      "\n",
      "Added in JSON-LD comparison:\n",
      "     path\n",
      " @context\n",
      "     used\n",
      "generated\n"
     ]
    }
   ],
   "source": [
    "# show all the removed paths (in JSON but not in JSON-LD)\n",
    "print(\"Removed in JSON-LD comparison:\")\n",
    "print(df2[df2['type']==\"removed\"][['path']].to_string(index=False))\n",
    "\n",
    "# show all the added paths (in JSON-LD but not in JSON)\n",
    "print(\"\\nAdded in JSON-LD comparison:\")\n",
    "print(df2[df2['type']==\"added\"][['path']].to_string(index=False))"
   ]
  },
  {
   "cell_type": "code",
   "execution_count": 69,
   "id": "f0d6f92a-5cd9-4c78-9c2a-0cd3247137c6",
   "metadata": {},
   "outputs": [
    {
     "name": "stdout",
     "output_type": "stream",
     "text": [
      "Removed in .ttl comparison:\n",
      "Empty DataFrame\n",
      "Columns: [path]\n",
      "Index: []\n",
      "\n",
      "Added in .ttl comparison:\n",
      "Empty DataFrame\n",
      "Columns: [path]\n",
      "Index: []\n"
     ]
    }
   ],
   "source": [
    "# show all the removed paths (in JSON but not in JSON-LD)\n",
    "print(\"Removed in .ttl comparison:\")\n",
    "print(df1[df1['type']==\"removed\"][['path']].to_string(index=False))\n",
    "\n",
    "# show all the added paths (in JSON-LD but not in JSON)\n",
    "print(\"\\nAdded in .ttl comparison:\")\n",
    "print(df1[df1['type']==\"added\"][['path']].to_string(index=False))"
   ]
  },
  {
   "cell_type": "markdown",
   "id": "69efd0d0-9277-4efa-88cf-d2fd1b90d74c",
   "metadata": {},
   "source": [
    "Checks for completeness and mapping and time taken, needs work #TODO"
   ]
  },
  {
   "cell_type": "code",
   "execution_count": 70,
   "id": "165a13eb-7679-4f4c-b346-24f25da72cce",
   "metadata": {},
   "outputs": [
    {
     "name": "stdout",
     "output_type": "stream",
     "text": [
      "\n",
      "0/0 runs passed completeness checks (0.0%).\n",
      "\n",
      "Mapping integrity: 0/0 runs have zero diffs — 0.0%\n",
      "Overall quality score: 0.0%\n",
      "\n",
      "Benchmarking train_and_log() overhead:\n",
      "  • No MLflow : 0.502s\n",
      "  • With MLflow: 0.601s\n"
     ]
    }
   ],
   "source": [
    "\n",
    "# ── User configuration ─────────────────────────────────────────────────────────\n",
    "\n",
    "# Which keys must appear in every run_summary.json?\n",
    "REQUIRED_TOPLEVEL = {\n",
    "    \"run_id\", \"start_time\", \"end_time\",\n",
    "    \"params\", \"metrics\", \"tags\", \"artifacts\"\n",
    "}\n",
    "\n",
    "# A couple of sub-fields we also want to spot-check:\n",
    "REQUIRED_PARAMS  = {\"random_state\"}\n",
    "REQUIRED_METRICS = {\"accuracy\"}\n",
    "\n",
    "JSON_SUMMARIES = glob.glob(\"MODEL_PROVENANCE/*_run_summary.json\")\n",
    "\n",
    "\n",
    "# ── Helpers ────────────────────────────────────────────────────────────────────\n",
    "\n",
    "def iso8601(ms):\n",
    "    return datetime.fromtimestamp(ms/1000, tz=timezone.utc).isoformat()\n",
    "\n",
    "\n",
    "def load_json(path):\n",
    "    with open(path, \"r\", encoding=\"utf-8\") as f:\n",
    "        return json.load(f)\n",
    "\n",
    "\n",
    "def write_json(path, obj):\n",
    "    with open(path, \"w\", encoding=\"utf-8\") as f:\n",
    "        json.dump(obj, f, indent=2)\n",
    "\n",
    "\n",
    "def convert_to_jsonld_and_ttl(summary, basename):\n",
    "    # build @context\n",
    "    ctx = {\n",
    "        \"prov\":    \"http://www.w3.org/ns/prov#\",\n",
    "        \"xsd\":     \"http://www.w3.org/2001/XMLSchema#\",\n",
    "        \"run\":     \"prov:Activity\",\n",
    "        \"start\":   \"prov:startedAtTime\",\n",
    "        \"end\":     \"prov:endedAtTime\",\n",
    "        \"used\":    \"prov:used\",\n",
    "        \"gen\":     \"prov:generated\",\n",
    "        \"param\":   \"prov:hadParameter\",\n",
    "        \"metric\":  \"prov:hadQuality\",\n",
    "        \"entity\":  \"prov:Entity\",\n",
    "        \"label\":   \"prov:label\",\n",
    "        \"value\":   \"prov:value\",\n",
    "        \"version\": \"prov:hadRevision\",\n",
    "        \"id\":      \"@id\",\n",
    "        \"type\":    \"@type\"\n",
    "    }\n",
    "\n",
    "    jsonld = {\n",
    "        \"@context\": ctx,\n",
    "        \"@id\":      f\"urn:run:{summary['run_id']}\",\n",
    "        \"@type\":    \"run\",\n",
    "        \"start\": {\n",
    "            \"@type\":  \"xsd:dateTime\",\n",
    "            \"@value\": iso8601(summary[\"start_time\"])\n",
    "        }\n",
    "    }\n",
    "    if summary.get(\"end_time\") is not None:\n",
    "        jsonld[\"end\"] = {\n",
    "            \"@type\":  \"xsd:dateTime\",\n",
    "            \"@value\": iso8601(summary[\"end_time\"])\n",
    "        }\n",
    "\n",
    "    # params\n",
    "    jsonld[\"param\"] = [\n",
    "        {\"@type\":\"entity\",\"label\":k,\"value\":str(v)}\n",
    "        for k,v in summary.get(\"params\",{}).items()\n",
    "    ]\n",
    "    # metrics\n",
    "    jsonld[\"metric\"] = [\n",
    "        {\"@type\":\"entity\",\"label\":k,\n",
    "         \"value\":{\"@type\":\"xsd:decimal\",\"@value\":v}}\n",
    "        for k,v in summary.get(\"metrics\",{}).items()\n",
    "    ]\n",
    "    # artifacts\n",
    "    jsonld[\"gen\"] = [\n",
    "        {\n",
    "            \"@type\":\"entity\",\n",
    "            \"label\": art.get(\"path\") or art.get(\"label\"),\n",
    "            \"prov:location\": (\n",
    "                art.get(\"uri\")\n",
    "                or (art.get(\"content\",\"\")[:30]+\"…\")\n",
    "                if isinstance(art.get(\"content\"),str)\n",
    "                else \"\"\n",
    "            )\n",
    "        }\n",
    "        for art in summary.get(\"artifacts\",[])\n",
    "    ]\n",
    "    # dataset used\n",
    "    jsonld[\"used\"] = {\n",
    "        \"@type\":\"entity\",\n",
    "        \"label\": summary[\"tags\"].get(\"dataset_name\"),\n",
    "        \"version\": summary[\"tags\"].get(\"dataset_version\")\n",
    "    }\n",
    "\n",
    "    # write JSON-LD\n",
    "    out_jsonld = f\"MODEL_PROVENANCE/{basename}.jsonld\"\n",
    "    write_json(out_jsonld, jsonld)\n",
    "\n",
    "    # serialize TTL\n",
    "    g = Graph().parse(data=json.dumps(jsonld), format=\"json-ld\")\n",
    "    out_ttl = f\"MODEL_PROVENANCE/{basename}.ttl\"\n",
    "    g.serialize(destination=out_ttl, format=\"turtle\")\n",
    "\n",
    "    return out_jsonld, out_ttl\n",
    "\n",
    "\n",
    "def normalize_jsonld(js):\n",
    "    \"\"\"Simple deep-sort so compare_json doesn’t trip over ordering.\"\"\"\n",
    "    if isinstance(js, dict):\n",
    "        return {k: normalize_jsonld(js[k]) for k in sorted(js)}\n",
    "    if isinstance(js, list):\n",
    "        return sorted((normalize_jsonld(el) for el in js),\n",
    "                      key=lambda x: json.dumps(x, sort_keys=True))\n",
    "    return js\n",
    "\n",
    "\n",
    "def diff_roundtrip(orig_json, jsonld_path, ttl_path):\n",
    "    orig = load_json(orig_json)\n",
    "    ld   = load_json(jsonld_path)\n",
    "\n",
    "    # parse TTL back to JSON-LD\n",
    "    g = Graph().parse(ttl_path, format=\"turtle\")\n",
    "    ttl_as_ld = json.loads(g.serialize(format=\"json-ld\"))\n",
    "\n",
    "    # normalize\n",
    "    nl = normalize_jsonld(ld)\n",
    "    nt = normalize_jsonld(ttl_as_ld)\n",
    "\n",
    "    return {\n",
    "        \"orig_vs_jsonld\":   compare_json(orig, ld),\n",
    "        \"jsonld_vs_ttl_ld\": compare_json(nl, nt)\n",
    "    }\n",
    "\n",
    "\n",
    "# ── Main flow ─────────────────────────────────────────────────────────────────\n",
    "\n",
    "def main():\n",
    "    ok = 0\n",
    "    total = len(JSON_SUMMARIES)\n",
    "    missing_reports = []\n",
    "    cases = {}  # store diff results per run\n",
    "\n",
    "    for js_path in JSON_SUMMARIES:\n",
    "        summary = load_json(js_path)\n",
    "        base    = os.path.basename(js_path).split(\"_run_summary.json\")[0]\n",
    "\n",
    "        # 1) completeness check\n",
    "        if not REQUIRED_TOPLEVEL.issubset(summary):\n",
    "            missing = REQUIRED_TOPLEVEL - set(summary)\n",
    "            missing_reports.append((js_path, f\"missing fields {missing}\"))\n",
    "            continue\n",
    "\n",
    "        if not (REQUIRED_PARAMS <= summary[\"params\"].keys()):\n",
    "            missing_reports.append((js_path, f\"params missing {REQUIRED_PARAMS - summary['params'].keys()}\"))\n",
    "            continue\n",
    "\n",
    "        if not (REQUIRED_METRICS <= summary[\"metrics\"].keys()):\n",
    "            missing_reports.append((js_path, f\"metrics missing {REQUIRED_METRICS - summary['metrics'].keys()}\"))\n",
    "            continue\n",
    "\n",
    "        ok += 1\n",
    "\n",
    "        # 2) convert\n",
    "        jsonld_path, ttl_path = convert_to_jsonld_and_ttl(summary, base)\n",
    "\n",
    "        # 3) diff\n",
    "        diffs = diff_roundtrip(js_path, jsonld_path, ttl_path)\n",
    "        cases[base] = diffs\n",
    "        print(f\"\\n── {base} diffs ──\")\n",
    "        print(\"  • JSON → JSON-LD:\", len(diffs[\"orig_vs_jsonld\"]), \"differences\")\n",
    "        print(\"  • JSON-LD → TTL → JSON-LD:\", len(diffs[\"jsonld_vs_ttl_ld\"]), \"differences\")\n",
    "\n",
    "    # 4) completeness summary\n",
    "    completeness_pct = (100 * ok / total) if total else 0\n",
    "    print(f\"\\n{ok}/{total} runs passed completeness checks ({completeness_pct:.1f}%).\")\n",
    "    if missing_reports:\n",
    "        print(\"\\nFailures:\")\n",
    "        for path, reason in missing_reports:\n",
    "            print(f\" • {path}: {reason}\")\n",
    "\n",
    "    # 5) integrity check\n",
    "    total_runs = len(cases)\n",
    "    zero_diff_runs = sum(\n",
    "        1\n",
    "        for diffs in cases.values()\n",
    "        if not diffs[\"orig_vs_jsonld\"] and not diffs[\"jsonld_vs_ttl_ld\"]\n",
    "    )\n",
    "    integrity_pct = (100 * zero_diff_runs / total_runs) if total_runs else 0\n",
    "    print(f\"\\nMapping integrity: {zero_diff_runs}/{total_runs} runs have zero diffs — {integrity_pct:.1f}%\")\n",
    "\n",
    "    # 6) overall quality score\n",
    "    overall_score = (completeness_pct + integrity_pct) / 2\n",
    "    print(f\"Overall quality score: {overall_score:.1f}%\")\n",
    "\n",
    "    # 7) Benchmark your training fn\n",
    "    print(\"\\nBenchmarking train_and_log() overhead:\")\n",
    "    def train_and_log(use_mlflow=False):\n",
    "        # ← your real instrumentation + fit logic here\n",
    "        time.sleep(0.5 + (0.1 if use_mlflow else 0))  # stub\n",
    "        return\n",
    "\n",
    "    for flag in (False, True):\n",
    "        start = time.time()\n",
    "        train_and_log(use_mlflow=flag)\n",
    "        elapsed = time.time() - start\n",
    "        label = \"With MLflow\" if flag else \"No MLflow\"\n",
    "        print(f\"  • {label:10s}: {elapsed:.3f}s\")\n",
    "\n",
    "\n",
    "if __name__ == \"__main__\":\n",
    "    main()"
   ]
  },
  {
   "cell_type": "markdown",
   "id": "5883f673-371e-415e-a73e-5c9c88b56fb1",
   "metadata": {},
   "source": [
    "RQ2  implementation"
   ]
  },
  {
   "cell_type": "code",
   "execution_count": 72,
   "id": "6d07ac1c-ea80-4787-bcb9-da047d12167d",
   "metadata": {
    "scrolled": true
   },
   "outputs": [
    {
     "data": {
      "text/plain": [
       "Index(['run_id', 'param_bootstrap', 'param_ccp_alpha', 'param_class_weight',\n",
       "       'param_columns_raw', 'param_criterion', 'param_database.description',\n",
       "       'param_database.id', 'param_database.name', 'param_database.owner',\n",
       "       'param_dataset.authors', 'param_dataset.doi', 'param_dataset.published',\n",
       "       'param_dataset.publisher', 'param_dataset.title',\n",
       "       'param_dropped_columns', 'param_feature_names',\n",
       "       'param_matplotlib_version', 'param_max_depth', 'param_max_features',\n",
       "       'param_max_leaf_nodes', 'param_max_samples',\n",
       "       'param_min_impurity_decrease', 'param_min_samples_leaf',\n",
       "       'param_min_samples_split', 'param_min_weight_fraction_leaf',\n",
       "       'param_numpy_version', 'param_n_estimators', 'param_n_features',\n",
       "       'param_n_features_final', 'param_n_jobs', 'param_n_records',\n",
       "       'param_n_test_samples', 'param_n_train_samples', 'param_oob_score',\n",
       "       'param_os_platform', 'param_pandas_version', 'param_python_version',\n",
       "       'param_random_state', 'param_retrieval_time', 'param_seaborn_version',\n",
       "       'param_shap_version', 'param_sklearn_version', 'param_test_size',\n",
       "       'param_verbose', 'param_warm_start', 'metric_accuracy',\n",
       "       'metric_accuracy_score_X_test', 'metric_dbrepo.num_deletes',\n",
       "       'metric_dbrepo.num_inserts', 'metric_dbrepo.row_count_end',\n",
       "       'metric_dbrepo.row_count_start', 'metric_f1_macro',\n",
       "       'metric_f1_score_X_test', 'metric_precision_macro',\n",
       "       'metric_precision_score_X_test', 'metric_recall_macro',\n",
       "       'metric_recall_score_X_test', 'metric_roc_auc',\n",
       "       'metric_roc_auc_score_X_test', 'metric_training_accuracy_score',\n",
       "       'metric_training_f1_score', 'metric_training_log_loss',\n",
       "       'metric_training_precision_score', 'metric_training_recall_score',\n",
       "       'metric_training_roc_auc', 'metric_training_score', 'tag_dataset_id',\n",
       "       'tag_dataset_name', 'tag_dataset_version', 'tag_data_source',\n",
       "       'tag_dbrepo.admin_email', 'tag_dbrepo.base_url',\n",
       "       'tag_dbrepo.granularity', 'tag_dbrepo.protocol_version',\n",
       "       'tag_dbrepo.repository_name', 'tag_dbrepo.table_last_modified',\n",
       "       'tag_estimator_class', 'tag_estimator_name',\n",
       "       'tag_git_current_commit_hash', 'tag_git_previous_commit_hash',\n",
       "       'tag_git__current_commit_url', 'tag_mlflow.log-model.history',\n",
       "       'tag_mlflow.runName', 'tag_mlflow.source.name',\n",
       "       'tag_mlflow.source.type', 'tag_mlflow.user', 'tag_model_name',\n",
       "       'tag_notebook_name', 'tag_target_name', 'tag_training_end_time',\n",
       "       'tag_training_start_time'],\n",
       "      dtype='object')"
      ]
     },
     "execution_count": 72,
     "metadata": {},
     "output_type": "execute_result"
    }
   ],
   "source": [
    "\n",
    "# Load all run summary JSON files\n",
    "files = glob.glob(\"MODEL_PROVENANCE/*/*_run_summary.json\")\n",
    "rows = []\n",
    "for f in files:\n",
    "    with open(f) as fh:\n",
    "        summary = json.load(fh)\n",
    "    # Flatten parameters and metrics\n",
    "    row = {\"run_id\": summary[\"run_id\"]}\n",
    "    row.update({f\"param_{k}\": v for k, v in summary.get(\"params\", {}).items()})\n",
    "    row.update({f\"metric_{k}\": v for k, v in summary.get(\"metrics\", {}).items()})\n",
    "    row.update({f\"tag_{k}\": v for k, v in summary.get(\"tags\", {}).items()})\n",
    "    rows.append(row)\n",
    "\n",
    "# Create DataFrame\n",
    "df = pd.DataFrame(rows)\n",
    "\n",
    "# Display the DataFrame\n",
    "df.columns\n"
   ]
  },
  {
   "cell_type": "markdown",
   "id": "ba148da6-6ce5-45cf-a985-f164a53c969b",
   "metadata": {},
   "source": [
    "1) Tracing preprocessing steps\n",
    ":\n",
    "Here are the top 4 Iris‐focused preprocessing‐tracing use cases I’d tackle first:\n",
    "\n",
    "Reconstruct a run’s exact preprocessing\n",
    "Fetch a run’s run_id, columns_raw, dropped_columns, feature_names and test_size so you can replay the exact data pull & split.\n",
    "\n",
    "Feature‐drop impact analysis\n",
    "Identify runs where one or more measurements (e.g. petalwidthcm) were dropped and compare their test accuracies.\n",
    "\n",
    "Best feature subset discovery\n",
    "Group runs by which features they used (sepals only vs petals only vs both) and rank them by test F1 or accuracy.\n",
    "\n",
    "Common steps in high-accuracy runs\n",
    "Filter for runs with accuracy_score_X_test ≥ 0.95 and list the shared preprocessing settings (dropped columns, test_size, etc.)."
   ]
  },
  {
   "cell_type": "code",
   "execution_count": 73,
   "id": "6e147555-afbf-4bba-b6da-7e90ff391920",
   "metadata": {},
   "outputs": [
    {
     "name": "stderr",
     "output_type": "stream",
     "text": [
      "2025/04/25 12:23:44 INFO mlflow.utils.autologging_utils: Created MLflow autologging run with ID 'df84c36b36cc4ebd90a999db3ebc4ad4', which will track hyperparameters, performance metrics, model artifacts, and lineage information for the current sklearn workflow\n"
     ]
    },
    {
     "name": "stdout",
     "output_type": "stream",
     "text": [
      "[{'run_id': '28f01e38b7f04d2f948fe21f57f41d0c', 'param_dataset.title': 'Scikit-Learn Iris', 'param_columns_raw': \"['id', 'sepallengthcm', 'sepalwidthcm', 'petallengthcm', 'petalwidthcm', 'species']\", 'param_dropped_columns': \"['id']\", 'param_feature_names': \"['sepallengthcm', 'sepalwidthcm', 'petallengthcm', 'petalwidthcm']\", 'param_dataset.authors': '[\"Marshall Michael\"]', 'param_dataset.doi': '10.5281/ZENODO.1404173', 'param_dataset.published': '2018-8-27', 'param_test_size': '0.2', 'param_criterion': 'entropy', 'param_max_depth': '12', 'param_max_leaf_nodes': 'None', 'param_max_samples': 'None', 'metric_accuracy': 1.0, 'metric_f1_macro': 1.0, 'metric_roc_auc': 1.0}]\n",
      "[]\n",
      "[{'param_dropped_columns': \"['id']\", 'param_test_size': '0.2', 'param_feature_names': \"['sepallengthcm', 'sepalwidthcm', 'petallengthcm', 'petalwidthcm']\"}]\n"
     ]
    },
    {
     "data": {
      "application/vnd.jupyter.widget-view+json": {
       "model_id": "d931b602947d4db8872f254d48e22027",
       "version_major": 2,
       "version_minor": 0
      },
      "text/plain": [
       "Downloading artifacts:   0%|          | 0/7 [00:00<?, ?it/s]"
      ]
     },
     "metadata": {},
     "output_type": "display_data"
    },
    {
     "name": "stderr",
     "output_type": "stream",
     "text": [
      "2025/04/25 12:23:52 INFO mlflow.utils.autologging_utils: Created MLflow autologging run with ID '41261519e1a643c5b1335701aee1bf95', which will track hyperparameters, performance metrics, model artifacts, and lineage information for the current sklearn workflow\n"
     ]
    },
    {
     "name": "stdout",
     "output_type": "stream",
     "text": [
      "{'features': ['sepallengthcm', 'sepalwidthcm'], 'accuracy': 0.7666666666666667}\n"
     ]
    },
    {
     "data": {
      "application/vnd.jupyter.widget-view+json": {
       "model_id": "83ff1224205a4a8eb0c351a7f299dd93",
       "version_major": 2,
       "version_minor": 0
      },
      "text/plain": [
       "Downloading artifacts:   0%|          | 0/7 [00:00<?, ?it/s]"
      ]
     },
     "metadata": {},
     "output_type": "display_data"
    },
    {
     "name": "stderr",
     "output_type": "stream",
     "text": [
      "2025/04/25 12:23:58 INFO mlflow.utils.autologging_utils: Created MLflow autologging run with ID 'e0955d231fa6488e9339086b5845064c', which will track hyperparameters, performance metrics, model artifacts, and lineage information for the current sklearn workflow\n"
     ]
    },
    {
     "data": {
      "application/vnd.jupyter.widget-view+json": {
       "model_id": "1eaa6c141e064593b73b6c72ce0b00cf",
       "version_major": 2,
       "version_minor": 0
      },
      "text/plain": [
       "Downloading artifacts:   0%|          | 0/7 [00:00<?, ?it/s]"
      ]
     },
     "metadata": {},
     "output_type": "display_data"
    },
    {
     "name": "stderr",
     "output_type": "stream",
     "text": [
      "2025/04/25 12:24:04 INFO mlflow.utils.autologging_utils: Created MLflow autologging run with ID '21d299b426ac42a0ad799604e9e7ff88', which will track hyperparameters, performance metrics, model artifacts, and lineage information for the current sklearn workflow\n"
     ]
    },
    {
     "name": "stdout",
     "output_type": "stream",
     "text": [
      "{'dropped_feature': 'petallengthcm', 'baseline_acc': 1.0, 'dropped_acc': 0.9666666666666667, 'impact': 0.033333333333333326}\n"
     ]
    },
    {
     "data": {
      "application/vnd.jupyter.widget-view+json": {
       "model_id": "4c04ce12f62f49a29f48509b1483f16b",
       "version_major": 2,
       "version_minor": 0
      },
      "text/plain": [
       "Downloading artifacts:   0%|          | 0/7 [00:00<?, ?it/s]"
      ]
     },
     "metadata": {},
     "output_type": "display_data"
    },
    {
     "name": "stderr",
     "output_type": "stream",
     "text": [
      "2025/04/25 12:24:10 INFO mlflow.utils.autologging_utils: Created MLflow autologging run with ID '8ca4591a1b53402f854187104d1e7ee0', which will track hyperparameters, performance metrics, model artifacts, and lineage information for the current sklearn workflow\n"
     ]
    },
    {
     "data": {
      "application/vnd.jupyter.widget-view+json": {
       "model_id": "66bf06c45648410daa144c12f85658c6",
       "version_major": 2,
       "version_minor": 0
      },
      "text/plain": [
       "Downloading artifacts:   0%|          | 0/7 [00:00<?, ?it/s]"
      ]
     },
     "metadata": {},
     "output_type": "display_data"
    },
    {
     "name": "stderr",
     "output_type": "stream",
     "text": [
      "2025/04/25 12:24:16 INFO mlflow.utils.autologging_utils: Created MLflow autologging run with ID '0c8a66e5e4b244f9a6a8e9fa02d26828', which will track hyperparameters, performance metrics, model artifacts, and lineage information for the current sklearn workflow\n"
     ]
    },
    {
     "data": {
      "application/vnd.jupyter.widget-view+json": {
       "model_id": "0d71b6d9b58d4e5a9db241baeaa79d53",
       "version_major": 2,
       "version_minor": 0
      },
      "text/plain": [
       "Downloading artifacts:   0%|          | 0/7 [00:00<?, ?it/s]"
      ]
     },
     "metadata": {},
     "output_type": "display_data"
    },
    {
     "name": "stderr",
     "output_type": "stream",
     "text": [
      "2025/04/25 12:24:22 INFO mlflow.utils.autologging_utils: Created MLflow autologging run with ID '53994143a51e481abd23e988be2466b1', which will track hyperparameters, performance metrics, model artifacts, and lineage information for the current sklearn workflow\n"
     ]
    },
    {
     "data": {
      "application/vnd.jupyter.widget-view+json": {
       "model_id": "3fa13db4a66940d59cf37a30cb7a3cbc",
       "version_major": 2,
       "version_minor": 0
      },
      "text/plain": [
       "Downloading artifacts:   0%|          | 0/7 [00:00<?, ?it/s]"
      ]
     },
     "metadata": {},
     "output_type": "display_data"
    },
    {
     "name": "stderr",
     "output_type": "stream",
     "text": [
      "2025/04/25 12:24:28 INFO mlflow.utils.autologging_utils: Created MLflow autologging run with ID '35588f1cd8c34ce28770848de714d3c4', which will track hyperparameters, performance metrics, model artifacts, and lineage information for the current sklearn workflow\n"
     ]
    },
    {
     "data": {
      "application/vnd.jupyter.widget-view+json": {
       "model_id": "273c026f2e0b464f98090472792b3a87",
       "version_major": 2,
       "version_minor": 0
      },
      "text/plain": [
       "Downloading artifacts:   0%|          | 0/7 [00:00<?, ?it/s]"
      ]
     },
     "metadata": {},
     "output_type": "display_data"
    },
    {
     "name": "stdout",
     "output_type": "stream",
     "text": [
      "[{'dropped_feature': 'sepallengthcm', 'baseline_acc': 1.0, 'dropped_acc': 1.0, 'impact': 0.0}, {'dropped_feature': 'sepalwidthcm', 'baseline_acc': 1.0, 'dropped_acc': 1.0, 'impact': 0.0}, {'dropped_feature': 'petallengthcm', 'baseline_acc': 1.0, 'dropped_acc': 0.9666666666666667, 'impact': 0.0333}, {'dropped_feature': 'petalwidthcm', 'baseline_acc': 1.0, 'dropped_acc': 0.9666666666666667, 'impact': 0.0333}]\n"
     ]
    }
   ],
   "source": [
    "\n",
    "\n",
    "# Helper to get the “official” feature_names from your summary DF\n",
    "def _get_all_features(df):\n",
    "    # assumes every row has the same param_feature_names\n",
    "    raw = df.loc[0, 'param_feature_names']\n",
    "    return ast.literal_eval(raw)\n",
    "\n",
    "# Train & eval RF on just these columns of Iris\n",
    "def evaluate_subset(features, test_size=0.2, random_state=42, n_estimators=200):\n",
    "    iris = load_iris()\n",
    "    X = pd.DataFrame(iris.data, columns=iris.feature_names)\n",
    "    # map sklearn’s names to your param names, e.g. \"sepal length (cm)\" → \"sepallengthcm\"\n",
    "    canon = _get_all_features(df)\n",
    "    mapping = dict(zip(iris.feature_names, canon))\n",
    "    X = X.rename(columns=mapping)\n",
    "    X_sub = X[features]\n",
    "    y = iris.target\n",
    "    Xtr, Xte, ytr, yte = train_test_split(X_sub, y, test_size=test_size, random_state=random_state)\n",
    "    m = RandomForestClassifier(n_estimators=n_estimators, random_state=random_state)\n",
    "    m.fit(Xtr, ytr)\n",
    "    return accuracy_score(yte, m.predict(Xte))\n",
    "def trace_preprocessing(df, run_id=None):\n",
    "    cols = ['run_id',\n",
    "            'param_dataset.title',\n",
    "            'param_columns_raw',\n",
    "            'param_dropped_columns',\n",
    "            'param_feature_names',\n",
    "            'param_dataset.authors', 'param_dataset.doi', 'param_dataset.published',\n",
    "            'param_test_size',\n",
    "            'param_criterion',\n",
    "            'param_max_depth','param_max_leaf_nodes', 'param_max_samples',\n",
    "           'metric_accuracy','metric_f1_macro','metric_roc_auc']\n",
    "    if run_id is None:\n",
    "        subset = df.loc[:, cols]\n",
    "    else:\n",
    "        subset = df.loc[df['run_id'] == run_id, cols]\n",
    "    return subset.to_dict(orient='records')\n",
    "\n",
    "\n",
    "def drop_impact(df, feature, **_):\n",
    "    all_feats = _get_all_features(df)\n",
    "    baseline = evaluate_subset(all_feats)\n",
    "    without = [f for f in all_feats if f!=feature]\n",
    "    dropped = evaluate_subset(without)\n",
    "    return {\n",
    "      'dropped_feature': feature,\n",
    "      'baseline_acc': baseline,\n",
    "      'dropped_acc': dropped,\n",
    "      'impact': baseline - dropped\n",
    "    }\n",
    "\n",
    "def drop_impact_all(df: pd.DataFrame) -> List[Dict[str, Any]]:\n",
    "    \"\"\"\n",
    "    Compute drop-impact for every feature in the dataset.\n",
    "    Returns list of dicts with dropped_feature, baseline_acc, dropped_acc, impact.\n",
    "    \"\"\"\n",
    "    feats = _get_all_features(df)\n",
    "    baseline = evaluate_subset(feats)\n",
    "    summary = []\n",
    "    for feat in feats:\n",
    "        without = [f for f in feats if f != feat]\n",
    "        acc = evaluate_subset(without)\n",
    "        summary.append({\n",
    "            'dropped_feature': feat,\n",
    "            'baseline_acc': baseline,\n",
    "            'dropped_acc': acc,\n",
    "            'impact': round(baseline - acc, 4)\n",
    "        })\n",
    "    return summary\n",
    "\n",
    "def best_feature_subset(df, features, **_):\n",
    "    acc = evaluate_subset(features)\n",
    "    return {'features': features, 'accuracy': acc}\n",
    "\n",
    "def common_high_accuracy(df: pd.DataFrame, threshold: float = 0.95) -> List[Dict[str, Any]]:\n",
    "    \"\"\"\n",
    "    Filter runs with test accuracy >= threshold and list unique shared preprocessing settings.\n",
    "    \"\"\"\n",
    "    high = df[df['metric_accuracy_score_X_test'] >= threshold]\n",
    "    cols = ['param_dropped_columns', 'param_test_size', 'param_feature_names']\n",
    "    return high[cols].drop_duplicates().to_dict(orient='records')\n",
    "\n",
    "\n",
    "# --------------------------------------------\n",
    "# Use Case Registry with parameter order for minimal input\n",
    "# --------------------------------------------\n",
    "USE_CASES = {\n",
    "    'trace_preprocessing': {\n",
    "        'func': trace_preprocessing,\n",
    "        'required_params': [],            # none strictly required\n",
    "        'optional_params': ['run_id'],    # run_id can be supplied or not\n",
    "    },\n",
    "    'drop_impact': {\n",
    "        'func': drop_impact,\n",
    "        'required_params': ['feature'],\n",
    "        'optional_params': [],\n",
    "    },\n",
    "     'drop_impact_all': {\n",
    "        'func': drop_impact_all,\n",
    "        'required_params': [],\n",
    "        'optional_params': [],\n",
    "    },\n",
    "    'best_feature_subset': {\n",
    "        'func': best_feature_subset,\n",
    "        'required_params': ['features'],\n",
    "        'optional_params': [],\n",
    "    },\n",
    "    'common_high_accuracy': {\n",
    "        'func': common_high_accuracy,\n",
    "        'required_params': ['threshold'],\n",
    "        'optional_params': [],\n",
    "    },\n",
    "}\n",
    "\n",
    "\n",
    "def call_use_case(df, use_case_name, **kwargs):\n",
    "    if use_case_name not in USE_CASES:\n",
    "        raise ValueError(f\"Unknown use case: {use_case_name}\")\n",
    "    case = USE_CASES[use_case_name]\n",
    "    func = case['func']\n",
    "    # check required\n",
    "    missing = [p for p in case['required_params'] if p not in kwargs]\n",
    "    if missing:\n",
    "        raise ValueError(f\"{use_case_name} missing required params: {missing}\")\n",
    "    # build args\n",
    "    args = {p: kwargs[p] for p in case['required_params']}\n",
    "    for p in case['optional_params']:\n",
    "        args[p] = kwargs.get(p)\n",
    "    return func(df, **args)\n",
    "\n",
    "# --------------------------------------------\n",
    "# Example Usage\n",
    "# --------------------------------------------\n",
    "if __name__ == '__main__':\n",
    "   # # 1) trace_preprocessing for all runs\n",
    "    print(call_use_case(df, 'trace_preprocessing'))\n",
    "    \n",
    "    # 2) trace_preprocessing for a single run_id\n",
    "    print(call_use_case(df, 'trace_preprocessing', run_id='361daa12f99f4129a06cd20b78dd6fa7'))\n",
    "\n",
    "    # 5) common_high_accuracy\n",
    "    print(call_use_case(df, 'common_high_accuracy', threshold=0.99))\n",
    "\n",
    "    # 4) Best‐subset on just sepals:\n",
    "    print(call_use_case(df, 'best_feature_subset', features=['sepallengthcm','sepalwidthcm']))\n",
    "\n",
    "    # 3) Drop‐impact for “petallengthcm”:\n",
    "    print(call_use_case(df, 'drop_impact', feature='petallengthcm'))\n",
    "\n",
    "    print(call_use_case(df, 'drop_impact_all'))  # summary for all features\n"
   ]
  },
  {
   "cell_type": "markdown",
   "id": "96f912d6-0e84-4155-858a-9668bef63f6e",
   "metadata": {},
   "source": [
    " • Detecting models trained with deprecated code versions\n",
    " • Mapping models to specific datasets used during training"
   ]
  },
  {
   "cell_type": "code",
   "execution_count": 74,
   "id": "34a02c9a-5459-478f-a3c5-7f7a58ff22b0",
   "metadata": {},
   "outputs": [
    {
     "name": "stdout",
     "output_type": "stream",
     "text": [
      "[{'param_dataset.doi': '10.5281/ZENODO.1404173',\n",
      "  'param_dataset.published': '2018-8-27',\n",
      "  'param_dataset.publisher': 'Zenodo',\n",
      "  'param_dataset.title': 'Scikit-Learn Iris',\n",
      "  'run_id': '28f01e38b7f04d2f948fe21f57f41d0c',\n",
      "  'tag_model_name': 'RandomForest_Iris_v20250425_121328'}]\n"
     ]
    }
   ],
   "source": [
    "\n",
    "def detect_deprecated_code(df: pd.DataFrame, deprecated_commits: List[str], **_) -> List[Dict[str, Any]]:\n",
    "    # we know the column is called tag_git_current_commit_hash\n",
    "    commit_col = 'tag_git_current_commit_hash'\n",
    "    if commit_col not in df.columns:\n",
    "        raise KeyError(f\"Missing {commit_col} in DataFrame\")\n",
    "    out = df[df[commit_col].isin(deprecated_commits)]\n",
    "    # include run_id and notebook/runName for context\n",
    "    cols = ['run_id', commit_col, 'tag_notebook_name', 'tag_mlflow.runName']\n",
    "    # drop any that don’t exist\n",
    "    cols = [c for c in cols if c in df.columns]\n",
    "    return out[cols].to_dict(orient='records')\n",
    "\n",
    "\n",
    "def map_model_dataset(df: pd.DataFrame, **_) -> List[Dict[str, Any]]:\n",
    "    \"\"\"\n",
    "    For each run, return its model name (or run_id) alongside the dataset\n",
    "    title, DOI, published date and publisher.\n",
    "    \"\"\"\n",
    "    # pick whichever model-name column you have\n",
    "    model_col = 'tag_model_name' if 'tag_model_name' in df.columns else 'param_model_name'\n",
    "    cols = [\n",
    "        'run_id',\n",
    "        model_col,\n",
    "        'param_dataset.title',\n",
    "        'param_dataset.doi',\n",
    "        'param_dataset.published',\n",
    "        'param_dataset.publisher'\n",
    "    ]\n",
    "    # filter out any columns that don’t actually exist\n",
    "    cols = [c for c in cols if c in df.columns]\n",
    "    return df[cols].to_dict(orient='records')\n",
    "\n",
    "# --------------------------------------------\n",
    "# Extend Use-Case Registry\n",
    "# --------------------------------------------\n",
    "USE_CASES.update({\n",
    "    'detect_deprecated_code': {\n",
    "        'func': detect_deprecated_code,\n",
    "        'required_params': ['deprecated_commits'],\n",
    "        'optional_params': []\n",
    "    },\n",
    "    'map_model_dataset': {\n",
    "        'func': map_model_dataset,\n",
    "        'required_params': [],\n",
    "        'optional_params': []\n",
    "    },\n",
    "})\n",
    "# 1) Detect runs on deprecated commits:\n",
    "deprecated = [\n",
    "    \"a07434af4f547af2daab044d6873eb7081162293\",\n",
    "    \"d329c92495e196ec0f39fbb19dfdd367131a77d9\"\n",
    "]\n",
    "# print(call_use_case(df, \"detect_deprecated_code\", deprecated_commits=deprecated))\n",
    "pprint(call_use_case(df, 'map_model_dataset'))\n"
   ]
  },
  {
   "cell_type": "markdown",
   "id": "c52607ad-5849-4a2d-97ef-e8fc1ca16dc7",
   "metadata": {},
   "source": [
    "Goal: Notify collaborators who have forked the GitHub repo if their fork is outdated (i.e., behind the current commit used to train a model)."
   ]
  },
  {
   "cell_type": "markdown",
   "id": "f29c8ad9-00bb-4c1e-ac3b-ee6861991acd",
   "metadata": {},
   "source": [
    "🧠 What We Need\n",
    "Current training run’s Git commit hash\n",
    "\n",
    "GitHub API to fetch all forks of your repo\n",
    "\n",
    "Compare each fork’s main or master branch head commit\n",
    "\n",
    "Create an issue on their fork or on your repo tagging them if they’re behind"
   ]
  },
  {
   "cell_type": "markdown",
   "id": "c72bed50-fb56-442d-a21e-bb7991892d07",
   "metadata": {},
   "source": [
    ": Notify via issues on your own repo"
   ]
  },
  {
   "cell_type": "code",
   "execution_count": 75,
   "id": "852f147c-9d0a-4d7f-a4ab-545d1e2375fb",
   "metadata": {
    "scrolled": true
   },
   "outputs": [
    {
     "name": "stdin",
     "output_type": "stream",
     "text": [
      "Do you want to notify collaborators whose forks are behind? (y/N):  N\n"
     ]
    },
    {
     "name": "stdout",
     "output_type": "stream",
     "text": [
      "No action taken.\n"
     ]
    }
   ],
   "source": [
    "def notify_outdated_forks():\n",
    "    load_dotenv()\n",
    "    token     = os.getenv(\"THESIS_TOKEN\")\n",
    "    owner     = \"reema-dass26\"\n",
    "    repo      = \"REPO\"\n",
    "\n",
    "    if not token:\n",
    "        print(\"⚠️ GITHUB_TOKEN not set.\")\n",
    "        return\n",
    "\n",
    "    headers = {\n",
    "        \"Authorization\": f\"token {token}\",\n",
    "        \"Accept\":        \"application/vnd.github.v3+json\"\n",
    "    }\n",
    "\n",
    "    # 1) Get latest upstream commit\n",
    "    main_commits = requests.get(\n",
    "        f\"https://api.github.com/repos/{owner}/{repo}/commits\",\n",
    "        headers=headers,\n",
    "        params={\"per_page\": 1}\n",
    "    )\n",
    "    main_commits.raise_for_status()\n",
    "    new_commit_hash = main_commits.json()[0][\"sha\"]\n",
    "    print(f\"Latest upstream commit: {new_commit_hash}\")\n",
    "\n",
    "    # 2) List forks\n",
    "    forks_resp = requests.get(f\"https://api.github.com/repos/{owner}/{repo}/forks\", headers=headers)\n",
    "    forks_resp.raise_for_status()\n",
    "    forks = forks_resp.json()\n",
    "\n",
    "    # 3) Compare each fork\n",
    "    outdated = []\n",
    "    for fork in forks:\n",
    "        fork_owner = fork[\"owner\"][\"login\"]\n",
    "        fork_comm = requests.get(\n",
    "            fork[\"url\"] + \"/commits\",\n",
    "            headers=headers,\n",
    "            params={\"per_page\": 1}\n",
    "        )\n",
    "        if fork_comm.status_code != 200:\n",
    "            print(f\"  – could not fetch commits for {fork_owner}, skipping.\")\n",
    "            continue\n",
    "\n",
    "        fork_sha = fork_comm.json()[0][\"sha\"]\n",
    "        if fork_sha != new_commit_hash:\n",
    "            outdated.append(f\"@{fork_owner}\")\n",
    "\n",
    "    # 4) Open an issue if any are behind\n",
    "    if outdated:\n",
    "        title = \"🔔 Notification: Your fork is behind the latest commit\"\n",
    "        body  = (\n",
    "            f\"Hi {' '.join(outdated)},\\n\\n\"\n",
    "            f\"The main repository has been updated to commit `{new_commit_hash}`.\\n\"\n",
    "            \"Please consider pulling the latest changes to stay in sync.\\n\\n\"\n",
    "            \"Thanks!\"\n",
    "        )\n",
    "        issues_url = f\"https://api.github.com/repos/{owner}/{repo}/issues\"\n",
    "        resp = requests.post(\n",
    "        issues_url,\n",
    "        headers=headers,\n",
    "        json={\"title\": title, \"body\": body}\n",
    "    )\n",
    "\n",
    "    # DEBUGGING OUTPUT\n",
    "    print(f\"→ POST {issues_url}\")\n",
    "    print(\"→ Status code:\", resp.status_code)\n",
    "    print(\"→ Response headers:\", resp.headers)\n",
    "    try:\n",
    "        data = resp.json()\n",
    "        print(\"→ Response JSON:\", data)\n",
    "        print(\"→ html_url field:\", data.get(\"html_url\"))\n",
    "    except ValueError:\n",
    "        print(\"→ No JSON response body; raw text:\", resp.text)\n",
    "\n",
    "if __name__ == \"__main__\":\n",
    "    answer = input(\"Do you want to notify collaborators whose forks are behind? (y/N): \").strip().lower()\n",
    "    if answer in (\"y\", \"yes\"):\n",
    "        notify_outdated_forks()\n",
    "    else:\n",
    "        print(\"No action taken.\")\n"
   ]
  },
  {
   "cell_type": "markdown",
   "id": "cda31f16-fbe9-40ce-ac1b-9ebc898c8820",
   "metadata": {},
   "source": [
    "INVENIO INTEGRETION to upload the necessary files and publish"
   ]
  },
  {
   "cell_type": "code",
   "execution_count": null,
   "id": "c2e5a7fc-3b03-45c8-bc90-817ea5ba7352",
   "metadata": {},
   "outputs": [],
   "source": [
    "############################################################################################\n",
    "# TEST CODE FOR INVENIO INTEGRETION\n",
    "#############################################################################################\n",
    "\n",
    "\n",
    "\n",
    "\n",
    "# API_BASE = \"https://127.0.0.1:5000\"\n",
    "# TOKEN    = \"8LnqJuz3TsBHffnDJ3isPLHYHtRbWrC0M667Nb5haEbnXpWqGbFRyfDApymr\"\n",
    "\n",
    "# # 1) Test read‐scope by listing records (no size param or size=1)\n",
    "# resp = requests.get(\n",
    "#     f\"{API_BASE}/api/records\",\n",
    "#     headers={\"Authorization\": f\"Bearer {TOKEN}\"},\n",
    "#     verify=False\n",
    "# )\n",
    "# print(resp.status_code)\n",
    "# # should be 200 and a JSON page of records\n",
    "\n",
    "# # or explicitly:\n",
    "# resp = requests.get(\n",
    "#     f\"{API_BASE}/api/records?size=1\",\n",
    "#     headers={\"Authorization\": f\"Bearer {TOKEN}\"},\n",
    "#     verify=False\n",
    "# )\n",
    "# print(resp.status_code, resp.json())\n",
    "# #################################################################################################\n",
    "# API_BASE = \"https://127.0.0.1:5000\"\n",
    "# TOKEN    = \"8LnqJuz3TsBHffnDJ3isPLHYHtRbWrC0M667Nb5haEbnXpWqGbFRyfDApymr\"\n",
    "\n",
    "# resp = requests.options(\n",
    "#     f\"{API_BASE}/api/records\",\n",
    "#     headers={\"Authorization\": f\"Bearer {TOKEN}\"},\n",
    "#     verify=False\n",
    "# )\n",
    "# print(\"Allowed methods:\", resp.headers.get(\"Allow\"))"
   ]
  },
  {
   "cell_type": "code",
   "execution_count": null,
   "id": "7e5b2cc5-ecf3-4e13-8cac-47f57f12cbdd",
   "metadata": {},
   "outputs": [],
   "source": [
    "\n",
    "# -----------------------------------------------------------------------------\n",
    "# Configuration\n",
    "# -----------------------------------------------------------------------------\n",
    "API_BASE   = \"https://127.0.0.1:5000\"\n",
    "TOKEN      = \"8LnqJuz3TsBHffnDJ3isPLHYHtRbWrC0M667Nb5haEbnXpWqGbFRyfDApymr\"\n",
    "VERIFY_SSL = False  # only for self‐signed dev\n",
    "\n",
    "HEADERS_JSON = {\n",
    "    \"Accept\":        \"application/json\",\n",
    "    \"Content-Type\":  \"application/json\",\n",
    "    \"Authorization\": f\"Bearer {TOKEN}\",\n",
    "}\n",
    "\n",
    "HEADERS_OCTET = {\n",
    "    \"Content-Type\":  \"application/octet-stream\",\n",
    "    \"Authorization\": f\"Bearer {TOKEN}\",\n",
    "}\n",
    "\n",
    "# The folders you want to walk & upload:\n",
    "TO_UPLOAD = [\"Trained_models\", \"plots\", \"MODEL_PROVENANCE\"]\n",
    "\n",
    "\n",
    "# -----------------------------------------------------------------------------\n",
    "# 1) Create draft with ALL required metadata\n",
    "# -----------------------------------------------------------------------------\n",
    "def create_draft():\n",
    "    payload = {\n",
    "  \"metadata\": {\n",
    "    \"title\":            \"RandomForest Iris Model Artifacts\",\n",
    "    \"creators\": [ {\n",
    "      \"person_or_org\": {\n",
    "        \"type\":        \"personal\",\n",
    "        \"given_name\":  \"Reema\",\n",
    "        \"family_name\": \"Dass\"\n",
    "      }\n",
    "    } ],\n",
    "    \"publication_date\": \"2025-04-24\",\n",
    "    \"resource_type\":    { \"id\": \"software\" },\n",
    "    \"access\": {\n",
    "      \"record\": \"public\",\n",
    "      \"files\":  \"public\"\n",
    "    }\n",
    "  }\n",
    "}\n",
    "    r = requests.post(f\"{API_BASE}/api/records\",\n",
    "                      headers=HEADERS_JSON,\n",
    "                      json=payload,\n",
    "                      verify=VERIFY_SSL)\n",
    "    r.raise_for_status()\n",
    "    draft = r.json()\n",
    "    print(\"✅ Draft created:\", draft[\"id\"])\n",
    "    return draft[\"id\"], draft[\"links\"]\n",
    "\n",
    "\n",
    "# -----------------------------------------------------------------------------\n",
    "# 2) Register, upload and commit a single file\n",
    "# -----------------------------------------------------------------------------\n",
    "def upload_and_commit(links, key, path):\n",
    "    # 2a) register the filename in the draft\n",
    "    r1 = requests.post(links[\"files\"],\n",
    "                       headers=HEADERS_JSON,\n",
    "                       json=[{\"key\": key}],\n",
    "                       verify=VERIFY_SSL)\n",
    "    r1.raise_for_status()\n",
    "    entry = next(e for e in r1.json()[\"entries\"] if e[\"key\"] == key)\n",
    "    file_links = entry[\"links\"]\n",
    "\n",
    "    # 2b) upload the bytes\n",
    "    with open(path, \"rb\") as fp:\n",
    "        r2 = requests.put(file_links[\"content\"],\n",
    "                          headers=HEADERS_OCTET,\n",
    "                          data=fp,\n",
    "                          verify=VERIFY_SSL)\n",
    "    r2.raise_for_status()\n",
    "\n",
    "    # 2c) commit the upload\n",
    "    r3 = requests.post(file_links[\"commit\"],\n",
    "                       headers=HEADERS_JSON,\n",
    "                       verify=VERIFY_SSL)\n",
    "    r3.raise_for_status()\n",
    "    print(f\"  • Uploaded {key}\")\n",
    "\n",
    "\n",
    "# -----------------------------------------------------------------------------\n",
    "# 3) Walk each folder and upload every file\n",
    "# -----------------------------------------------------------------------------\n",
    "def upload_folder(links):\n",
    "    for folder in TO_UPLOAD:\n",
    "        if not os.path.isdir(folder):\n",
    "            print(f\"⚠️ Skipping missing folder {folder}\")\n",
    "            continue\n",
    "        base = os.path.dirname(folder) or folder\n",
    "        for root, _, files in os.walk(folder):\n",
    "            for fn in files:\n",
    "                local = os.path.join(root, fn)\n",
    "                # create a POSIX‐style key preserving subfolders\n",
    "                key = os.path.relpath(local, start=base).replace(os.sep, \"/\")\n",
    "                upload_and_commit(links, key, local)\n",
    "\n",
    "\n",
    "# -----------------------------------------------------------------------------\n",
    "# 4) Publish the draft\n",
    "# -----------------------------------------------------------------------------\n",
    "def publish(links):\n",
    "    r = requests.post(links[\"publish\"],\n",
    "                      headers=HEADERS_JSON,\n",
    "                      verify=VERIFY_SSL)\n",
    "    if not r.ok:\n",
    "        print(\"❌ Publish failed:\", r.status_code, r.text)\n",
    "        try: print(r.json())\n",
    "        except: pass\n",
    "        r.raise_for_status()\n",
    "    print(\"✅ Published:\", r.json()[\"id\"])\n",
    "\n",
    "# -----------------------------------------------------------------------------\n",
    "# 5) Fetch metadata and save to a file\n",
    "# -----------------------------------------------------------------------------\n",
    "def fetch_metadata(record_id):\n",
    "    r = requests.get(f\"{API_BASE}/api/records/{record_id}\",\n",
    "                     headers=HEADERS_JSON,\n",
    "                     verify=VERIFY_SSL)\n",
    "    r.raise_for_status()\n",
    "    metadata = r.json()\n",
    "    print(\"✅ Metadata fetched successfully\")\n",
    "    \n",
    "    # Save the metadata to a file\n",
    "    with open(f\"metadata_{record_id}.json\", \"w\") as f:\n",
    "        json.dump(metadata, f, indent=4)\n",
    "    print(f\"✅ Metadata saved as metadata_{record_id}.json\")\n",
    "\n",
    "# -----------------------------------------------------------------------------\n",
    "# Main\n",
    "# -----------------------------------------------------------------------------\n",
    "if __name__ == \"__main__\":\n",
    "    recid, links = create_draft()\n",
    "    upload_folder(links)\n",
    "    publish(links)\n",
    "\n",
    "    # Fetch and save metadata after publishing\n",
    "    print(fetch_metadata(recid))\n"
   ]
  },
  {
   "cell_type": "markdown",
   "id": "2f7423f2-0ff3-4104-913e-50eeb32d9d0f",
   "metadata": {},
   "source": [
    "METADATA EXTRACTION FROM INVENIO:"
   ]
  },
  {
   "cell_type": "code",
   "execution_count": null,
   "id": "0013878b-37da-4a22-9586-3773531bfd01",
   "metadata": {
    "scrolled": true
   },
   "outputs": [],
   "source": [
    "\n",
    "# Function to dynamically extract and structure metadata from the original JSON\n",
    "def extract_metadata(metadata):\n",
    "    # Debug: Check if metadata is loaded correctly\n",
    "    print(\"Debug: Metadata loaded successfully\")\n",
    "    print(metadata.get(\"id\", \"\"))  # Check if 'id' is being fetched\n",
    "\n",
    "    # Check if the required fields are in the metadata\n",
    "    print(\"Debug: Extracting fields from metadata...\")\n",
    "\n",
    "    extracted_data = {\n",
    "        \"invenio_metadata\": {\n",
    "            \"id\": metadata.get(\"id\", \"\"),\n",
    "            \"title\": metadata.get(\"metadata\", {}).get(\"title\", \"\"),\n",
    "            \"creator\": \", \".join([creator[\"person_or_org\"].get(\"name\", \"\") for creator in metadata.get(\"metadata\", {}).get(\"creators\", [])]),\n",
    "            \"publication_date\": metadata.get(\"metadata\", {}).get(\"publication_date\", \"\"),\n",
    "            \"files\": [],  # Initialize 'files' as a list\n",
    "            \"pids\": metadata.get(\"pids\", {}),\n",
    "            \"version_info\": metadata.get(\"versions\", {}),\n",
    "            \"status\": metadata.get(\"status\", \"\"),\n",
    "            \"views\": metadata.get(\"stats\", {}).get(\"this_version\", {}).get(\"views\", 0),\n",
    "            \"downloads\": metadata.get(\"stats\", {}).get(\"this_version\", {}).get(\"downloads\", 0),\n",
    "        }\n",
    "    }\n",
    "\n",
    "    # Extract file details from the metadata\n",
    "    for key, file_info in metadata.get(\"files\", {}).get(\"entries\", {}).items():\n",
    "        file_detail = {\n",
    "            \"key\": key,\n",
    "            \"url\": file_info[\"links\"].get(\"content\", \"\"),\n",
    "            \"size\": file_info.get(\"size\", 0),\n",
    "            \"mimetype\": file_info.get(\"mimetype\", \"\"),\n",
    "            \"checksum\": file_info.get(\"checksum\", \"\"),\n",
    "            \"metadata\": file_info.get(\"metadata\", {}),\n",
    "        }\n",
    "        extracted_data[\"invenio_metadata\"][\"files\"].append(file_detail)  # Append to the 'files' list\n",
    "\n",
    "    return extracted_data\n",
    "\n",
    "# Load the original metadata from the JSON file (replace with your actual file path)\n",
    "with open('metadata_p8a8y-1bn93.json', 'r') as f: \n",
    "    original_metadata = json.load(f)\n",
    "\n",
    "# Debugging: print out the first part of the original metadata to verify its structure\n",
    "print(\"Debug: Original Metadata (start):\", json.dumps(original_metadata, indent=4)[:1000])  # Print only the start for review\n",
    "\n",
    "# Extract relevant details dynamically\n",
    "extracted_metadata = extract_metadata(original_metadata)\n",
    "\n",
    "# Debugging: print the extracted metadata to verify it's correct\n",
    "print(\"Debug: Extracted Metadata:\", json.dumps(extracted_metadata, indent=4))\n",
    "\n",
    "# Load the existing JSON file (replace with your actual file path)\n",
    "with open('MODEL_PROVENANCE/RandomForest_Iris_v20250424_111946_run_summary.json', 'r') as f:\n",
    "    existing_metadata = json.load(f)\n",
    "\n",
    "# Add the extracted metadata as a new node\n",
    "existing_metadata.update(extracted_metadata)\n",
    "\n",
    "# Save the updated metadata back to the file\n",
    "with open('updated_metadata.json', 'w') as f:\n",
    "    json.dump(existing_metadata, f, indent=4)\n",
    "\n",
    "print(\"✅ New dynamic metadata added successfully!\")\n"
   ]
  },
  {
   "cell_type": "code",
   "execution_count": null,
   "id": "38a807a7-6ecd-4ea7-93ac-78c0f853825c",
   "metadata": {
    "scrolled": true
   },
   "outputs": [],
   "source": [
    "# import mlflow\n",
    "# import mlflow.sklearn\n",
    "# from sklearn.datasets import load_iris\n",
    "# from sklearn.ensemble import RandomForestClassifier\n",
    "\n",
    "# X, y = load_iris(return_X_y=True)\n",
    "# mlflow.sklearn.autolog()\n",
    "# with mlflow.start_run() as run:\n",
    "\n",
    "#     model = RandomForestClassifier(**hyperparams)\n",
    "#     model.fit(X_train, y_train)"
   ]
  },
  {
   "cell_type": "code",
   "execution_count": null,
   "id": "570fa169-a5e2-47b3-b7f5-44f9577f22ad",
   "metadata": {},
   "outputs": [],
   "source": []
  },
  {
   "cell_type": "code",
   "execution_count": 22,
   "id": "f67b7a46-a70d-44ea-976c-322a1a795311",
   "metadata": {
    "scrolled": true
   },
   "outputs": [],
   "source": [
    "import json\n",
    "\n",
    "with open(\"MODEL_PROVENANCE/RandomForest_Iris_v20250425_131407/RandomForest_Iris_v20250425_131407_run_summary.json\", \"r\") as f1:\n",
    "    json1_with_sklearn = json.load(f1)\n",
    "\n",
    "with open(\"MODEL_PROVENANCE/RandomForest_Iris_v20250425_125653/RandomForest_Iris_v20250425_125653_run_summary.json\", \"r\") as f2:\n",
    "    json2 = json.load(f2)\n"
   ]
  },
  {
   "cell_type": "code",
   "execution_count": 24,
   "id": "4211bdef-5785-472d-8ea5-0bc24a3faf3c",
   "metadata": {},
   "outputs": [],
   "source": [
    "keys1 = set(json1_with_sklearn.keys())\n",
    "keys2 = set(json2.keys())\n"
   ]
  },
  {
   "cell_type": "code",
   "execution_count": 25,
   "id": "9d4d71f2-ef66-4e04-9d9b-c4b381d45590",
   "metadata": {},
   "outputs": [],
   "source": [
    "only_in_file1 = keys1 - keys2\n",
    "only_in_file2 = keys2 - keys1\n",
    "common_keys   = keys1 & keys2\n"
   ]
  },
  {
   "cell_type": "code",
   "execution_count": 26,
   "id": "a51fb61b-d0f6-407e-8563-8a24060e06c2",
   "metadata": {},
   "outputs": [
    {
     "name": "stdout",
     "output_type": "stream",
     "text": [
      "✅ Common Keys: {'end_time', 'start_time', 'experiment_id', 'run_name', 'artifacts', 'run_id', 'params', 'tags', 'metrics'}\n",
      "🔴 Keys only in file1: set()\n",
      "🔵 Keys only in file2: set()\n"
     ]
    }
   ],
   "source": [
    "print(\"✅ Common Keys:\", common_keys)\n",
    "print(\"🔴 Keys only in file1:\", only_in_file1)\n",
    "print(\"🔵 Keys only in file2:\", only_in_file2)\n"
   ]
  },
  {
   "cell_type": "code",
   "execution_count": 27,
   "id": "39c248fd-10d1-4229-b60f-4373b4b3214f",
   "metadata": {},
   "outputs": [],
   "source": [
    "def get_all_keys(d, prefix=''):\n",
    "    keys = set()\n",
    "    for k, v in d.items():\n",
    "        full_key = f\"{prefix}.{k}\" if prefix else k\n",
    "        keys.add(full_key)\n",
    "        if isinstance(v, dict):\n",
    "            keys.update(get_all_keys(v, full_key))\n",
    "    return keys\n"
   ]
  },
  {
   "cell_type": "code",
   "execution_count": 28,
   "id": "83618982-c802-4ffa-b7e5-c018d36fe517",
   "metadata": {},
   "outputs": [],
   "source": [
    "keys1 = get_all_keys(json1_with_sklearn)\n",
    "keys2 = get_all_keys(json2)\n"
   ]
  },
  {
   "cell_type": "code",
   "execution_count": 29,
   "id": "549ce528-5a49-476c-9546-a8bbc7fa466d",
   "metadata": {},
   "outputs": [
    {
     "name": "stdout",
     "output_type": "stream",
     "text": [
      "✅ Common Keys: {'tags.justification_n_jobs', 'params.sklearn_version', 'metrics.roc_auc', 'params.min_samples_split', 'run_name', 'tags.justification_dataset_version', 'tags.estimator_name', 'tags.justification_random_state', 'params.n_estimators', 'metrics.training_log_loss', 'params.max_features', 'params.max_leaf_nodes', 'tags.justification_verbose', 'tags.target_name', 'tags.estimator_class', 'tags.justification_test_split', 'params.python_version', 'params.database.description', 'metrics.training_roc_auc', 'tags.justification_metric_choice', 'params.dropped_columns', 'tags.dataset_name', 'experiment_id', 'tags.mlflow.source.name', 'tags', 'metrics.dbrepo.row_count_end', 'params.max_depth', 'params.database.id', 'params.n_test_samples', 'params.random_state', 'tags.justification_threshold_accuracy', 'tags.justification_max_features', 'params.verbose', 'tags.mlflow.log-model.history', 'params.shap_version', 'tags.notebook_name', 'tags.justification_oob_score', 'params.n_train_samples', 'params.feature_names', 'params.numpy_version', 'tags.training_end_time', 'tags.justification_max_depth', 'params.ccp_alpha', 'tags.dataset_id', 'metrics.training_score', 'params.test_size', 'params.seaborn_version', 'params.retrieval_time', 'params.dataset.title', 'tags.dbrepo.repository_name', 'params.bootstrap', 'tags.git_previous_commit_hash', 'params.min_impurity_decrease', 'params.min_weight_fraction_leaf', 'tags.dbrepo.granularity', 'params.max_samples', 'params.matplotlib_version', 'metrics.accuracy', 'tags.model_name', 'params.n_features_final', 'params.oob_score', 'metrics.f1_macro', 'params.database.name', 'params.pandas_version', 'metrics.dbrepo.num_inserts', 'tags.mlflow.user', 'params.dataset.authors', 'params.class_weight', 'tags.justification_min_samples_split', 'artifacts', 'metrics', 'tags.justification_model_choice', 'tags.justification_criterion', 'tags.training_start_time', 'tags.justification_n_estimators', 'tags.justification_drop_column_X', 'metrics.dbrepo.num_deletes', 'tags.git__current_commit_url', 'params.dataset.publisher', 'tags.justification_class_weight', 'metrics.training_accuracy_score', 'metrics.recall_macro', 'tags.dataset_version', 'params.columns_raw', 'tags.dbrepo.table_last_modified', 'tags.dbrepo.base_url', 'params.n_features', 'tags.dbrepo.protocol_version', 'params.database.owner', 'end_time', 'start_time', 'tags.justification_experiment_name', 'params.os_platform', 'metrics.training_f1_score', 'metrics.precision_macro', 'params', 'metrics.dbrepo.row_count_start', 'params.n_jobs', 'tags.dbrepo.admin_email', 'tags.justification_target_variable', 'params.criterion', 'tags.data_source', 'params.n_records', 'run_id', 'metrics.training_precision_score', 'params.dataset.doi', 'params.min_samples_leaf', 'tags.justification_bootstrap', 'tags.git_current_commit_hash', 'tags.mlflow.runName', 'metrics.training_recall_score', 'tags.justification_min_samples_leaf', 'params.dataset.published', 'tags.mlflow.source.type', 'params.warm_start'}\n",
      "🔴 Keys only in file1: set()\n",
      "🔵 Keys only in file2: {'metrics.f1_score_X_test', 'metrics.roc_auc_score_X_test', 'metrics.recall_score_X_test', 'metrics.precision_score_X_test', 'metrics.accuracy_score_X_test'}\n"
     ]
    }
   ],
   "source": [
    "only_in_file1 = keys1 - keys2\n",
    "only_in_file2 = keys2 - keys1\n",
    "common_keys   = keys1 & keys2\n",
    "print(\"✅ Common Keys:\", common_keys)\n",
    "print(\"🔴 Keys only in file1:\", only_in_file1)\n",
    "print(\"🔵 Keys only in file2:\", only_in_file2)\n"
   ]
  },
  {
   "cell_type": "code",
   "execution_count": null,
   "id": "c7e158ee-7016-43dc-9570-dc522f07d3c2",
   "metadata": {},
   "outputs": [],
   "source": []
  }
 ],
 "metadata": {
  "kernelspec": {
   "display_name": "Python 3 (ipykernel)",
   "language": "python",
   "name": "python3"
  },
  "language_info": {
   "codemirror_mode": {
    "name": "ipython",
    "version": 3
   },
   "file_extension": ".py",
   "mimetype": "text/x-python",
   "name": "python",
   "nbconvert_exporter": "python",
   "pygments_lexer": "ipython3",
   "version": "3.11.5"
  }
 },
 "nbformat": 4,
 "nbformat_minor": 5
}
