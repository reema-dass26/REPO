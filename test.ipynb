{
 "cells": [
  {
   "cell_type": "code",
   "execution_count": null,
   "id": "6eacf7a7-e0d1-47e7-88a5-7696614e46e3",
   "metadata": {},
   "outputs": [],
   "source": [
    "qdsvfbhmj,hmgf"
   ]
  },
  {
   "cell_type": "code",
   "execution_count": null,
   "id": "d06ead3c-ca51-4e47-becd-e2e4b1a7bab5",
   "metadata": {},
   "outputs": [],
   "source": [
    "dghnmhbcv"
   ]
  }
 ],
 "metadata": {
  "kernelspec": {
   "display_name": "Python 3 (ipykernel)",
   "language": "python",
   "name": "python3"
  },
  "language_info": {
   "codemirror_mode": {
    "name": "ipython",
    "version": 3
   },
   "file_extension": ".py",
   "mimetype": "text/x-python",
   "name": "python",
   "nbconvert_exporter": "python",
   "pygments_lexer": "ipython3",
   "version": "3.11.5"
  }
 },
 "nbformat": 4,
 "nbformat_minor": 5
}
